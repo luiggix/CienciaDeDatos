{
 "cells": [
  {
   "cell_type": "markdown",
   "metadata": {},
   "source": [
    "# Práctica 1: Análisis de la población mundial\n",
    "\n",
    "**Módulo 14: Storytelling en ciencia de datos**\n",
    "\n",
    "**Diplomado en Ciencia de Datos**\n",
    "\n",
    "**DGTIC, Universidad Nacional Autónoma de México**\n",
    "\n",
    "This tutorial by Luis M. de la Cruz Salas is licensed under <a href=\"https://creativecommons.org/licenses/by-nc-nd/4.0?ref=chooser-v1\">Attribution-NonCommercial-NoDerivatives 4.0 International</a>"
   ]
  },
  {
   "cell_type": "markdown",
   "metadata": {},
   "source": [
    "## Introducción\n",
    "\n",
    "Para lograr una excelente visualización de datos se debe tener: **mucha curiosidad** e interés en **muchos temas variados** que pueden parecer poco relacionados entre ellos: matemáticas, demografía, epidemiología, economía, deportes, ventas por internet, historia, psicología y muchos etcéteras.\n",
    "\n",
    "Durante el proceso de esta visualización la vida tenderá a convertirse en un **caos intelectual**, pero **sistemático y emocionante**.\n",
    "\n",
    "La **visualización de datos** es muy importante, pues es posible que sea **lo único que vean tus interlocutores**: cliente, colega, jefe, tutor, jurado, lectores de un periódico, público en una conferencia, ... y probablemente a ellos no les interese mucho los datos numéricos o los algoritmos usados en su análisis.\n",
    "\n",
    "El público a quien deseas transmitir tus hallazgos olvidarán muy pronto los numéros; <font color=\"Blue\">pero si introduces tus hallazgos mediante un relato que cuente la historia de los datos, es posible que ellos se lleven un buen sabor de boca y recuerden la información recibida por mucho más tiempo e incluso tomen acciones.</font>"
   ]
  },
  {
   "cell_type": "markdown",
   "metadata": {},
   "source": [
    "---\n",
    "### El apocalipsis demográfico.\n",
    "\n",
    "<center>\n",
    "<img src=\"../Figuras/tfr06.png\" width=\"500\">\n",
    "</center>\n",
    "\n",
    "- Algunas historias apocalípticas cuentan que el incremento en el nacimiento de seres humanos en diferentes regiones del mundo, <font color=\"DeepPink\"> sobre todo en aquellas con poco desarrollo económico</font>, hará que en las próximas dos décadas tengamos que convivir con 9 mil millones de personas  en nuestro planeta.\n",
    "\n",
    "- También dicen que esa es la razón de que la tierra tenga que soportar hoy en día 7.8 mil millones de personas. Vea por ejemplo: <a href=\"https://www.worldometers.info/es/poblacion-mundial/\">población mundial actual</a>.\n",
    "\n",
    "- ¡¿El crecimiento seguirá de manera exponencial?!"
   ]
  },
  {
   "cell_type": "markdown",
   "metadata": {},
   "source": [
    "---\n",
    "### Tasas de fertilidad y reemplazo\n",
    "\n",
    "- La <font color=\"DeepPink\">tasa de fertilidad</font> (TFR: *The total fertility rate*) es una variable demográfica que muestra el número promedio de hijos que nacerían por mujer si todas las mujeres vivieran hasta el final de sus años fértiles y dieran a luz de acuerdo con la tasa de fecundidad promedio para cada edad. Véase [Total Fertility Rate](https://en.wikipedia.org/wiki/Total_fertility_rate).\n",
    "\n",
    "- La <font color=\"DeepPink\">fecundidad de reemplazo</font> (NR: *Net replacement rate*) se refiere a la fecundidad mínima necesaria para que una población cerrada se mantenga indefinidamente en el tiempo sin disminuir su volumen, suele tener un valor de 2.1 hijos por mujer como promedio. Véase [Sub-replacement fertility](https://en.wikipedia.org/wiki/Sub-replacement_fertility)\n",
    "    - Si este número es mucho menor que 2.1, entonces la población se reduce con el tiempo. \n",
    "    - Pero si es mucho mayor que 2.1, se tendrá a mucha gente joven, lo cual podría causar problemas, como violencia y crimen. "
   ]
  },
  {
   "cell_type": "markdown",
   "metadata": {},
   "source": [
    "---\n",
    "- En el libro *The rational optimist: How prosperity evolves* de Math Ridley (2010), se dice:\n",
    "    - \"En promedio, la fertilidad en los países ricos es baja, pero en años anteriores ha tenido un incremento. En países pobres se muestra un decrecimiento en la fertilidad. Estas dos tendencias complementarias indican que la **razón de fertilidad se va a estabilizar en 2.1 en pocas décadas**, de tal manera que la población **no pasará de 9 mil millones**.\" (soportado con datos de la UN y The world bank)\n",
    "    \n",
    "<center>\n",
    "<table>\n",
    "  <tr>\n",
    "    <td><img src=\"../Figuras/tfr07.png\" width=\"500\"></td>\n",
    "  </tr>    \n",
    "  <tr>\n",
    "    <td>Gráfica del libro de *The rational optimist: How prosperity evolves*, Math Ridley (2010)</td>\n",
    "  </tr>\n",
    "</table> \n",
    "</center>\n",
    "\n"
   ]
  },
  {
   "cell_type": "markdown",
   "metadata": {},
   "source": [
    "---\n",
    "##  Objetivo\n",
    "- Extraer información importante de un conjunto de datos y resaltarla mediante algunas técnicas de visualización.\n",
    "\n",
    "- Construir una visualización que permita comparar el cambio en el Total Fertility Rate (TFR) en función del tiempo.\n",
    "\n",
    "- Con esta visualización tratar de responder las siguientes preguntas:\n",
    "    1. ¿Los países ricos están recuperando su TFR?\n",
    "    2. ¿Cómo es el FR en países con un bajo PIB per cápita?\n",
    "    3. ¿Países en desarrollo como China y Brasil están estabilizando sus poblaciones?\n",
    "    4. ¿Cómo ha sido la evolución de la población en México con respecto de otros países? \n",
    "    \n",
    "    <br>\n",
    "- Usar Pandas y Matplotlib."
   ]
  },
  {
   "cell_type": "markdown",
   "metadata": {},
   "source": [
    "## Importar las bibliotecas\n",
    "Incluir las bibliotecas necesarias para la lectura de datos y para la visualización."
   ]
  },
  {
   "cell_type": "code",
   "execution_count": null,
   "metadata": {},
   "outputs": [],
   "source": [
    "import matplotlib.pyplot as plt\n",
    "import pandas as pd"
   ]
  },
  {
   "cell_type": "markdown",
   "metadata": {},
   "source": [
    "## Descarga de los datos\n",
    "\n",
    "<table>\n",
    "  <tr>\n",
    "    <td>1. Obtener la información de <a href=\"http://data.un.org/\">UNdata</a> con la búsqueda 'fertility rate' </td>\n",
    "    <td> </td>\n",
    "    <td>2. Seleccionar la opción 'Total fertility rate (live births per woman)':</td>\n",
    "  </tr>    \n",
    "  <tr>\n",
    "    <td><img src=\"../Figuras/tfr01.png\" width=\"500\"></td>\n",
    "    <td> $\\longrightarrow $ </td>\n",
    "    <td><img src=\"../Figuras/tfr02.png\" width=\"500\"></td>\n",
    "  </tr>\n",
    "</table> "
   ]
  },
  {
   "cell_type": "markdown",
   "metadata": {},
   "source": [
    "<table>\n",
    "  <tr>\n",
    "    <td>3. Seleccionar los rangos de años desde 1950-1955 hasta 2015-2020 </td>\n",
    "    <td> </td>\n",
    "    <td>4. Hacer clic en 'Apply Filters' para obtener lo siguiente</td>\n",
    "  </tr>    \n",
    "  <tr>\n",
    "    <td><img src=\"../Figuras/tfr03.png\" width=\"500\"></td>\n",
    "    <td> $\\longrightarrow $ </td>\n",
    "    <td><img src=\"../Figuras/tfr04.png\" width=\"500\"></td>\n",
    "  </tr>\n",
    "</table> \n",
    "\n"
   ]
  },
  {
   "cell_type": "markdown",
   "metadata": {},
   "source": [
    "<table>\n",
    "  <tr>\n",
    "    <td>5. Finalmente descargar el archivo en formato CSV (comprimido)</td>\n",
    "  </tr>    \n",
    "  <tr>\n",
    "    <td><img src=\"../Figuras/tfr05.png\" width=\"500\"></td>\n",
    "  </tr>\n",
    "</table> "
   ]
  },
  {
   "cell_type": "markdown",
   "metadata": {},
   "source": [
    "## Lectura del archivo."
   ]
  },
  {
   "cell_type": "code",
   "execution_count": null,
   "metadata": {},
   "outputs": [],
   "source": [
    "# Lectura del archivo\n",
    "TFR = pd.read_csv('../Datos/UNdata_Export_20211229_175420412.zip')"
   ]
  },
  {
   "cell_type": "markdown",
   "metadata": {},
   "source": [
    "Observe que se puede leer directamente el archivo comprimido. Si descomprime el archivo ZIP obtendrá el archivo en formato CSV el cual también puede leerse como arriba solo cambiando la extensión (`TFR = pd.read_csv('../Datos/UNdata_Export_20211229_175420412.csv')`).\n",
    "\n",
    "Veamos que contiene el DataFrame:"
   ]
  },
  {
   "cell_type": "code",
   "execution_count": null,
   "metadata": {},
   "outputs": [],
   "source": [
    "TFR # Despliega la parte inicial y final el DataFrame. "
   ]
  },
  {
   "cell_type": "markdown",
   "metadata": {
    "jupyter": {
     "outputs_hidden": true
    },
    "tags": []
   },
   "source": [
    "Observe que el número total de renglones es de **4046** y se tienen **4** columnas de datos. \n",
    "\n",
    "Podemos desplegar solamente el principio o solamente el final:"
   ]
  },
  {
   "cell_type": "code",
   "execution_count": null,
   "metadata": {},
   "outputs": [],
   "source": [
    "TFR.head() # Despliega los primeros renglones del DataFrame"
   ]
  },
  {
   "cell_type": "code",
   "execution_count": null,
   "metadata": {},
   "outputs": [],
   "source": [
    "TFR.tail() # Despliega los últimos renglones del DataFrame"
   ]
  },
  {
   "cell_type": "markdown",
   "metadata": {},
   "source": [
    "## Agrupar por países\n",
    "Vamos a organizar el DataFrame por países para que su análisis sea más sencillo."
   ]
  },
  {
   "cell_type": "code",
   "execution_count": null,
   "metadata": {},
   "outputs": [],
   "source": [
    "# Primero se agrupa por país \n",
    "paises = TFR.groupby('Country or Area')"
   ]
  },
  {
   "cell_type": "code",
   "execution_count": null,
   "metadata": {},
   "outputs": [],
   "source": [
    "print(type(paises)) # paises es un objeto de tipo DataFrameGroupBy"
   ]
  },
  {
   "cell_type": "markdown",
   "metadata": {},
   "source": [
    "### Exploración de la agrupación por países\n",
    "\n",
    "Vamos a ver que tiene el grupo `países` transformándolo a un DataFrame:"
   ]
  },
  {
   "cell_type": "code",
   "execution_count": null,
   "metadata": {},
   "outputs": [],
   "source": [
    "dummy = pd.DataFrame(paises) # Casting\n",
    "dummy.index"
   ]
  },
  {
   "cell_type": "markdown",
   "metadata": {},
   "source": [
    "Obsérvese que la agrupación `dummy` solo contiene 286 renglones, lo que indica que tenemos 286 regiones ('Country or Area')"
   ]
  },
  {
   "cell_type": "code",
   "execution_count": null,
   "metadata": {},
   "outputs": [],
   "source": [
    "dummy"
   ]
  },
  {
   "cell_type": "markdown",
   "metadata": {},
   "source": [
    "El DataFrame `dummy` contiene dos columnas: la 0 y la 1. La 0 nos da el nombre del país o región geográfica y la 1 la información del país. \n",
    "\n",
    "Vamos a explorar este DataFrame:"
   ]
  },
  {
   "cell_type": "code",
   "execution_count": null,
   "metadata": {},
   "outputs": [],
   "source": [
    "dummy[0] # Imprime la columa correspondiente. Cambie el 0 por 1 y vea lo que sucede"
   ]
  },
  {
   "cell_type": "code",
   "execution_count": null,
   "metadata": {},
   "outputs": [],
   "source": [
    "print(type(dummy[0]), type(dummy[1])) # Veamos el tipo de las columas"
   ]
  },
  {
   "cell_type": "code",
   "execution_count": null,
   "metadata": {},
   "outputs": [],
   "source": [
    "dummy.iloc[0] # Con la función iloc accedemos a un renglón particular usando un entero"
   ]
  },
  {
   "cell_type": "code",
   "execution_count": null,
   "metadata": {},
   "outputs": [],
   "source": [
    "dummy.iloc[0][0] # Columna correspondiente del renglón, cambie el segundo 0 por 1 y vea el resultado"
   ]
  },
  {
   "cell_type": "code",
   "execution_count": null,
   "metadata": {},
   "outputs": [],
   "source": [
    "print(type(dummy.iloc[0][0]), type(dummy.iloc[0][1])) # tipos de las columnas"
   ]
  },
  {
   "cell_type": "markdown",
   "metadata": {},
   "source": [
    "¿Cómo podemos acceder a la información de un país?"
   ]
  },
  {
   "cell_type": "markdown",
   "metadata": {},
   "source": [
    "### <font color=\"DeepPink\">Ejercicio 0.</font>\n",
    "\n",
    "A continuación el instructor usará España y Suecia como países de trabajo en esta práctica. Usted deberá elegir otros dos países diferentes. **NOTA**: No elija España, Suecia, Yemen ni China.\n",
    "\n",
    "Para listar los países disponibles haga lo siguiente: "
   ]
  },
  {
   "cell_type": "code",
   "execution_count": null,
   "metadata": {},
   "outputs": [],
   "source": [
    "paises.groups.keys()"
   ]
  },
  {
   "cell_type": "markdown",
   "metadata": {
    "tags": []
   },
   "source": [
    "### Usando `get_group()`\n",
    "\n",
    "Otra manera de extraer los datos de cada país es usando la función `get_group()`.\n",
    "\n",
    "Por ejemplo, vamos a obtener la información de dos países con un *PIB per cápita* por arriba de México, por ejemplo España y Suecia. Veáse [Países por PIB (nominal) per cápita](https://es.wikipedia.org/wiki/Anexo:Pa%C3%ADses_por_PIB_(nominal)_per_c%C3%A1pita)"
   ]
  },
  {
   "cell_type": "code",
   "execution_count": null,
   "metadata": {},
   "outputs": [],
   "source": [
    "# Se obtienen los datos de España y Suecia\n",
    "spa = paises.get_group('Spain')\n",
    "swe = paises.get_group('Sweden')"
   ]
  },
  {
   "cell_type": "code",
   "execution_count": null,
   "metadata": {},
   "outputs": [],
   "source": [
    "print(type(spa), type(swe))"
   ]
  },
  {
   "cell_type": "code",
   "execution_count": null,
   "metadata": {},
   "outputs": [],
   "source": [
    "spa"
   ]
  },
  {
   "cell_type": "code",
   "execution_count": null,
   "metadata": {},
   "outputs": [],
   "source": [
    "swe"
   ]
  },
  {
   "cell_type": "markdown",
   "metadata": {},
   "source": [
    "## Graficación usando .plot de DataFrame\n",
    "\n",
    "Pandas provee de la función plot para hacer un gráfico rápido del DataFrame. Veamos como funciona:"
   ]
  },
  {
   "cell_type": "code",
   "execution_count": null,
   "metadata": {},
   "outputs": [],
   "source": [
    "spa.plot()\n",
    "swe.plot()"
   ]
  },
  {
   "cell_type": "markdown",
   "metadata": {},
   "source": [
    "Muchos de los tipos de datos que ofrecen bibliotecas con Pandas, Xarray y otras contienen una función plot que realiza gráficas de manera automática. Casi todas están basadas en Matplotlib. Cada una de esas funciones tiene sus propias funcionalidades y parámentros que pueden modificarse para mejorar las gráficas resultantes."
   ]
  },
  {
   "cell_type": "markdown",
   "metadata": {},
   "source": [
    "¿Podría agregar más información a la gráfica anterior?"
   ]
  },
  {
   "cell_type": "markdown",
   "metadata": {},
   "source": [
    "## Visualización con Matplotlib.\n",
    "\n",
    "Usando Matplotlib podemos realizar las gráficas España y Suecia como sigue:"
   ]
  },
  {
   "cell_type": "code",
   "execution_count": null,
   "metadata": {},
   "outputs": [],
   "source": [
    "# Se usa la función plot() de Matplotlib\n",
    "plt.plot(spa['Year(s)'], spa['Value'])\n",
    "plt.plot(swe['Year(s)'], swe['Value'])\n",
    "\n",
    "plt.show()"
   ]
  },
  {
   "cell_type": "markdown",
   "metadata": {},
   "source": [
    "Como se puede observar ambas gráficas aparecen en una sola figura. Pero tenemos muchos problemas para entenderla, empezando con las etiquetas en el eje $x$ (`xtics` y `xlabels`) que aparecen amontonadas."
   ]
  },
  {
   "cell_type": "markdown",
   "metadata": {},
   "source": [
    "### Rotación de las etiquetas en el eje $x$.\n",
    "\n",
    "Rotar los `xtics` para apreciarlos mejor."
   ]
  },
  {
   "cell_type": "code",
   "execution_count": null,
   "metadata": {},
   "outputs": [],
   "source": [
    "plt.plot(spa['Year(s)'], spa['Value'])\n",
    "plt.plot(swe['Year(s)'], swe['Value'])\n",
    "plt.xticks(rotation=70) # Rotación de 70 grados con respecto al eje x, en sentido horario.\n",
    "\n",
    "plt.show()"
   ]
  },
  {
   "cell_type": "markdown",
   "metadata": {},
   "source": [
    "Se observa en el eje $x$ la información de mayor (2015-2020) a menor (1950-1955)."
   ]
  },
  {
   "cell_type": "markdown",
   "metadata": {},
   "source": [
    "### Invertir los datos del eje $x$\n"
   ]
  },
  {
   "cell_type": "code",
   "execution_count": null,
   "metadata": {},
   "outputs": [],
   "source": [
    "plt.plot(spa['Year(s)'], spa['Value'])\n",
    "plt.plot(swe['Year(s)'], swe['Value'])\n",
    "plt.xticks(rotation=70)\n",
    "plt.gca().invert_xaxis() # La función gca() obtiene el objeto que controla los \n",
    "                         # ejes. Una vez teniendo el objeto de los ejes es \n",
    "                         # posible usar la función invert_xaxis().\n",
    "plt.show()"
   ]
  },
  {
   "cell_type": "markdown",
   "metadata": {},
   "source": [
    "Ahora la información es un poco más clara y observamos que el comportamiento del TFR desde los años 50's hasta nuestra epoca."
   ]
  },
  {
   "cell_type": "markdown",
   "metadata": {},
   "source": [
    "### <font color=\"DeepPink\">Ejercicio 1.</font>\n",
    "Describa lo que ve en la gráfica que acaba de obtener."
   ]
  },
  {
   "cell_type": "markdown",
   "metadata": {},
   "source": [
    "### Resaltar el valor de reemplazo.\n",
    "\n",
    "Graficamos una línea recta en el valor 2.1, que es considerado el valor de reemplazo (NR)."
   ]
  },
  {
   "cell_type": "code",
   "execution_count": null,
   "metadata": {},
   "outputs": [],
   "source": [
    "plt.plot(spa['Year(s)'], spa['Value'])\n",
    "plt.plot(swe['Year(s)'], swe['Value'])\n",
    "#YOUR CODE HERE    # Línea punteada horizontal en y=2.1\n",
    "plt.xticks(rotation=70)\n",
    "plt.gca().invert_xaxis() \n",
    "\n",
    "plt.show()"
   ]
  },
  {
   "cell_type": "markdown",
   "metadata": {},
   "source": [
    "### Decoración de la gráfica.\n",
    "Decoramos la gráfica para tener una primera versión de esta visualización."
   ]
  },
  {
   "cell_type": "code",
   "execution_count": null,
   "metadata": {},
   "outputs": [],
   "source": [
    "fig = plt.figure(figsize=(10,5)) # Definimos el tamaño de la figura\n",
    "\n",
    "# Agregamos el ancho de las líneas (lw) y la etiqueta para distinguirlas (label)\n",
    "plt.plot(spa['Year(s)'], spa['Value'], lw=4.0, label='España')\n",
    "plt.plot(swe['Year(s)'], swe['Value'], lw=4.0, label='Suecia')\n",
    "plt.plot([-1,14],[2.1,2.1], 'k--', lw=1.0, label='Nivel de reemplazo: 2.1') \n",
    "\n",
    "plt.xticks(rotation=70) \n",
    "plt.gca().invert_xaxis()\n",
    "plt.ylim(0,3)             # Límites en el eje y \n",
    "plt.yticks([0,1,2,3])     # Marcas en el eje y\n",
    "plt.grid(ls='--', lw=0.5) # Rejilla\n",
    "\n",
    "# Información adicional y títulos\n",
    "plt.title('Promedio de número de hijos por mujer', loc='left', fontsize=10)\n",
    "plt.title('fuente: http://data.un.org', loc='right', fontstyle='italic', fontsize=10)\n",
    "plt.suptitle('Evolución del TFR (Total Fertility Rate)',y = 1.0, fontsize=14)\n",
    "\n",
    "plt.legend() # Generación de la leyenda de la gráfica.\n",
    "\n",
    "plt.show()"
   ]
  },
  {
   "cell_type": "markdown",
   "metadata": {},
   "source": [
    "### <font color=\"DeepPink\">Ejercicio 2.</font>\n",
    "\n",
    "¿Qué opina de esta gráfica con respecto de la del ejercicio 1? ¿Puede detectar algunas *preattentive features* usadas en esta última visualización?\n"
   ]
  },
  {
   "cell_type": "markdown",
   "metadata": {},
   "source": [
    "### Etiquetado de curvas.\n",
    "\n",
    "Agregar un texto en el extremo derecho de cada curva para identificarla. El objetivo es eliminar las leyendas de las curvas, pues más adelante tendremos muchas graficas que serán difíciles de distinguir.\n",
    "\n",
    "Adicionalmente, vamos a quitar protagonismo a las líneas del recuadro de la gráfica (spines), quitaremos dos de ellas."
   ]
  },
  {
   "cell_type": "code",
   "execution_count": null,
   "metadata": {},
   "outputs": [],
   "source": [
    "fig = plt.figure(figsize=(10,5)) \n",
    "\n",
    "# Definimos colores para las curvas y quitamos las leyendas\n",
    "spa_color = 'blue'   \n",
    "swe_color = 'orange'\n",
    "\n",
    "# Eliminados el label de las gráficas de los países y agregamos un color.\n",
    "plt.plot(spa['Year(s)'], spa['Value'], lw=4.0, color=spa_color)\n",
    "plt.plot(swe['Year(s)'], swe['Value'], lw=4.0, color=swe_color)\n",
    "plt.plot([-1,14],[2.1,2.1], 'k--', lw=1.0, label='Nivel de reemplazo: 2.1') \n",
    "\n",
    "plt.xticks(rotation=70)\n",
    "plt.gca().invert_xaxis()\n",
    "plt.ylim(0,3)             \n",
    "plt.yticks([0,1,2,3])     \n",
    "plt.grid(ls='--', lw=0.5) \n",
    "\n",
    "# Información adicional y títulos\n",
    "plt.title('Promedio de número de hijos por mujer', loc='left', fontsize=10)\n",
    "plt.title('fuente: http://data.un.org', loc='right', fontstyle='italic', fontsize=10)\n",
    "plt.suptitle('Evolución del TFR (Total Fertility Rate)',y = 1.0, fontsize=14)\n",
    "plt.legend()\n",
    "\n",
    "# Obtenemos el valor del FR y lo agregamos al final de cada curva\n",
    "spa_val = spa['Value'].iloc[0] \n",
    "swe_val = swe['Value'].iloc[0]\n",
    "plt.text(x = 0, y = spa_val, s = ' Esp {:1.2f}'.format(spa_val), color = spa_color, weight = 'bold')\n",
    "plt.text(x = 0, y = swe_val, s = ' Sue {:1.2f}'.format(swe_val), color = swe_color, weight = 'bold')\n",
    "\n",
    "# Quitamos la línea derecha y la de arriba del marco de los ejes\n",
    "ejes = fig.axes\n",
    "ejes[0].spines['right'].set_visible(False)\n",
    "ejes[0].spines['top'].set_visible(False)\n",
    "\n",
    "plt.show()"
   ]
  },
  {
   "cell_type": "markdown",
   "metadata": {},
   "source": [
    "Esta última gráfica muestra como el número promedio de hijos por mujer se incrementó levemente de 1950 a 1965 para Suecia, para después reducirse por debajo del nivel de reemplazo (NR). Desde entonces ha oscilado un par de veces y parece que a partir de 2005 comienza a estabilizarse en un valor por debajo de 2.1. Algo similar sucede con España, donde el incremento fue un poco más notorio de 1950 hasta 1975, para después bajar y estabilizarse en la década pasada. \n",
    "\n",
    "¿Qué hechos historicos se podrían correlacionar con estos datos? \n",
    "\n",
    "A continuación deseamos mostrar que **la razón de nacimientos en todos los países se ha estabilizado**, lo cual nos puede llevar a que la población mundial realmente se estabilice en aproximadamente 9 mil millones de seres humanos. Esta podría ser la historia que se queremos contar."
   ]
  },
  {
   "cell_type": "markdown",
   "metadata": {},
   "source": [
    "## Agregar otros países al análisis.\n",
    "\n",
    "Haremos el mismo análisis para México y Yemen, este último tiene un PIB per cápita por abajo de nuestro país."
   ]
  },
  {
   "cell_type": "code",
   "execution_count": null,
   "metadata": {},
   "outputs": [],
   "source": [
    "# Extraer los datos de México y Yemen\n",
    "mex = paises.get_group('Mexico')\n",
    "yem = paises.get_group('Yemen')"
   ]
  },
  {
   "cell_type": "markdown",
   "metadata": {},
   "source": [
    "### Valor máximo del TFR.\n",
    "Obtener el valor máximo de TFR de ambos países para usarlo en los límites del eje $y$."
   ]
  },
  {
   "cell_type": "code",
   "execution_count": null,
   "metadata": {},
   "outputs": [],
   "source": [
    "# Importamos la biblioteca ceil para redondear el valor máximo\n",
    "from math import ceil\n",
    "\n",
    "y_maximo = max(mex['Value'].max(), yem['Value'].max()) # El máximo entre dos países.\n",
    "yticks = [i for i in range(0,ceil(y_maximo)+1)] # Lista de ticks para el eje y.\n",
    "print(y_maximo, yticks)"
   ]
  },
  {
   "cell_type": "markdown",
   "metadata": {},
   "source": [
    "### Graficación de la nueva información.\n",
    "\n",
    "Graficar usando el mismo código que usamos para Suecia y España."
   ]
  },
  {
   "cell_type": "code",
   "execution_count": null,
   "metadata": {},
   "outputs": [],
   "source": [
    "fig = plt.figure(figsize=(10,5)) \n",
    "\n",
    "# Usamos ahora la información de México y Yemen\n",
    "mex_color = 'blue'\n",
    "yem_color = 'orange'\n",
    "plt.plot(mex['Year(s)'], mex['Value'], lw=4.0, c=mex_color)\n",
    "plt.plot(yem['Year(s)'], yem['Value'], lw=4.0, c=yem_color)\n",
    "plt.plot([-1,14],[2.1,2.1], 'k--', lw=1.0, label='Nivel de reemplazo: 2.1') \n",
    "\n",
    "plt.xticks(rotation=70)\n",
    "plt.gca().invert_xaxis()\n",
    "plt.ylim(0, y_maximo)    # Usamos el FR máximo   \n",
    "plt.yticks(yticks)       # Usamos los yticks calculados antes\n",
    "plt.grid(ls='--', lw=0.5) \n",
    "\n",
    "# Información adicional y títulos\n",
    "plt.title('Promedio de número de hijos por mujer', loc='left', fontsize=10)\n",
    "plt.title('fuente: http://data.un.org', loc='right', fontstyle='italic', fontsize=10)\n",
    "plt.suptitle('Evolución del TFR (Total Fertility Rate)',y = 1.0, fontsize=14)\n",
    "plt.legend()\n",
    "\n",
    "# Agregamos el texto en cada curva\n",
    "mex_val = mex['Value'].iloc[0]\n",
    "yem_val = yem['Value'].iloc[0]\n",
    "plt.text(x = 0, y = mex_val, s = ' Mex {:1.2f}'.format(mex_val), c = mex_color, weight = 'bold')\n",
    "plt.text(x = 0, y = yem_val, s = ' Yem {:1.2f}'.format(yem_val), c = yem_color, weight = 'bold')\n",
    "\n",
    "# Quitamos la línea derecha y la de arriba del marco de los ejes\n",
    "ejes = fig.axes\n",
    "ejes[0].spines['right'].set_visible(False)\n",
    "ejes[0].spines['top'].set_visible(False)\n",
    "\n",
    "plt.show()"
   ]
  },
  {
   "cell_type": "markdown",
   "metadata": {},
   "source": [
    "Observamos en esta gráfica que el TFR en México y Yemen casi siempre han sido mayores al nivel de reemplazo.\n",
    "\n",
    "¿Qué más se puede decir de estas curvas con respecto de las de España y Suecia?"
   ]
  },
  {
   "cell_type": "markdown",
   "metadata": {},
   "source": [
    "### Visualización de la información de los cuatro países.\n",
    "\n",
    "Graficamos los cuatro países juntos para comparar la información."
   ]
  },
  {
   "cell_type": "code",
   "execution_count": null,
   "metadata": {},
   "outputs": [],
   "source": [
    "fig = plt.figure(figsize=(10,5))\n",
    "\n",
    "# Definimos todos los colores y quitamos las leyendas\n",
    "spa_color = 'blue'\n",
    "swe_color = 'orange'\n",
    "mex_color = 'red'\n",
    "yem_color = 'green'\n",
    "plt.plot(spa['Year(s)'], spa['Value'], lw=4.0, c=spa_color)\n",
    "plt.plot(swe['Year(s)'], swe['Value'], lw=4.0, c=swe_color)\n",
    "plt.plot(mex['Year(s)'], mex['Value'], lw=4.0, c=mex_color)\n",
    "plt.plot(yem['Year(s)'], yem['Value'], lw=4.0, c=yem_color)\n",
    "plt.plot([-1,14],[2.1,2.1], 'k--', lw=1.0, label='Nivel de reemplazo: 2.1') \n",
    "\n",
    "plt.xticks(rotation=70)\n",
    "plt.gca().invert_xaxis()\n",
    "plt.ylim(0,y_maximo)      # Límites en el eje y (usamos y_maximo)\n",
    "plt.yticks(yticks)        # Marcas en el eje y\n",
    "plt.grid(ls='--', lw=0.5) # Rejilla\n",
    "\n",
    "# Información adicional y títulos\n",
    "plt.title('Promedio de número de hijos por mujer', loc='left', fontsize=10)\n",
    "plt.title('fuente: http://data.un.org', loc='right', fontstyle='italic', fontsize=10)\n",
    "plt.suptitle('Evolución del TFR (Total Fertility Rate)',y = 1.0, fontsize=14)\n",
    "plt.legend()\n",
    "\n",
    "# Agregamos el texto en cada curva\n",
    "spa_val = spa['Value'].iloc[0]\n",
    "swe_val = swe['Value'].iloc[0]\n",
    "mex_val = mex['Value'].iloc[0]\n",
    "yem_val = yem['Value'].iloc[0]\n",
    "plt.text(x = 0, y = spa_val, s = ' Esp {:1.2f}'.format(spa_val), c = spa_color, weight = 'bold')\n",
    "plt.text(x = 0, y = swe_val, s = ' Sue {:1.2f}'.format(swe_val), c = swe_color, weight = 'bold')\n",
    "plt.text(x = 0, y = mex_val, s = ' Mex {:1.2f}'.format(mex_val), c = mex_color, weight = 'bold')\n",
    "plt.text(x = 0, y = yem_val, s = ' Yem {:1.2f}'.format(yem_val), c = yem_color, weight = 'bold')\n",
    "\n",
    "# Quitamos la línea derecha y la de arriba del marco de los ejes\n",
    "ejes = fig.axes\n",
    "ejes[0].spines['right'].set_visible(False)\n",
    "ejes[0].spines['top'].set_visible(False)\n",
    "\n",
    "plt.show()"
   ]
  },
  {
   "cell_type": "markdown",
   "metadata": {},
   "source": [
    "Al revisar esta visualización surgen muchas preguntas:\n",
    "\n",
    "- ¿Cómo se comparan estas gráficas? \n",
    "- ¿Qué se puede pensar de los países que tienen un TFR que está por arriba del factor NR? \n",
    "- ¿Cómo podrían relacionarse los hechos históricos y geográficos de esos países con esta información? \n",
    "- ¿Qué más se observa en estas gráficas?"
   ]
  },
  {
   "cell_type": "markdown",
   "metadata": {},
   "source": [
    "### Visualización de todos los países. \n",
    "\n",
    "Realizar las gráficas para todos los países de la base de datos."
   ]
  },
  {
   "cell_type": "code",
   "execution_count": null,
   "metadata": {},
   "outputs": [],
   "source": [
    "# La lista de países se puede obtener usando la función: paises.groups.keys(). \n",
    "paises.groups.keys()"
   ]
  },
  {
   "cell_type": "markdown",
   "metadata": {},
   "source": [
    "Como se puede observar, la información es amplia. Si observa con cuidado verá que también hay información definida por regiones geográficas y por otros criterios.\n",
    "\n",
    "Para ver el total podemos hacer lo siguiente:"
   ]
  },
  {
   "cell_type": "code",
   "execution_count": null,
   "metadata": {},
   "outputs": [],
   "source": [
    "pd.DataFrame(paises).index # Primero transformamos el grupo en DataFrame y luego\n",
    "                           # obtenemos todos sus índices (renglones)"
   ]
  },
  {
   "cell_type": "markdown",
   "metadata": {},
   "source": [
    "Podríamos entonces graficar **286** curvas. ¿Será esta una buena estrategia?"
   ]
  },
  {
   "cell_type": "markdown",
   "metadata": {},
   "source": [
    "Para lograr un buen resultado, primero vamos a crear algunas funciones.\n",
    "\n",
    "#### Incialización del canvas\n",
    "\n",
    "Primero vamos a definir una función para inicializar el entorno de la gráfica (el canvas)."
   ]
  },
  {
   "cell_type": "code",
   "execution_count": null,
   "metadata": {},
   "outputs": [],
   "source": [
    "def inicializaGrafica(y_maximo, yticks):\n",
    "    \"\"\"\n",
    "    Inicializa algunos parámetros de la figura.\n",
    "    \n",
    "    Parameters\n",
    "    ----------\n",
    "    y_maximo : int\n",
    "        Valor máximo para el eje y.\n",
    "    \n",
    "    yticks : list\n",
    "        Lista de valores para los ticks en el eje y.\n",
    "    \"\"\"\n",
    "    fig = plt.figure(figsize=(10,10)) \n",
    "    plt.xticks(rotation=70)\n",
    "    plt.xlim(-2,14,1)\n",
    "    plt.gca().invert_xaxis()\n",
    "    plt.ylim(0,y_maximo)   \n",
    "    plt.yticks(yticks)     # Marcas en el eje y\n",
    "    plt.grid(ls='--', lw=0.5) # Rejilla\n",
    "\n",
    "    # Información adicional y títulos\n",
    "    plt.title('Promedio de número de hijos por mujer', loc='left', fontsize=10)\n",
    "    plt.title('fuente: http://data.un.org', loc='right', fontstyle='italic', fontsize=10)\n",
    "    plt.suptitle('Evolución del TFR (Total Fertility Rate)', y = 0.94, fontsize=14)\n",
    "\n",
    "    # Se eliminan las líneas del marco de la gráfica\n",
    "    ejes = fig.axes\n",
    "    ejes[0].spines['right'].set_visible(False)\n",
    "    ejes[0].spines['top'].set_visible(False)\n",
    "    ejes[0].spines['left'].set_visible(False)\n",
    "    ejes[0].spines['bottom'].set_visible(False)\n",
    "    \n",
    "    # Modificamos algunos parámetros de los ticks en el eje y\n",
    "    ejes[0].tick_params(axis='y', width=1, length=25)"
   ]
  },
  {
   "cell_type": "markdown",
   "metadata": {},
   "source": [
    "#### Función para graficar la información de todos los países.\n",
    "\n",
    "Ahora definimos una función para graficar la información de cada país."
   ]
  },
  {
   "cell_type": "code",
   "execution_count": null,
   "metadata": {},
   "outputs": [],
   "source": [
    "def graficaTFR(paises, parametros={}):\n",
    "    \"\"\"\n",
    "    Realiza la gráfica de todos los países.\n",
    "    \n",
    "    Parameters\n",
    "    ----------\n",
    "    paises : DataFrameGroupBy\n",
    "        Dataframe generado por GroupBy con la información de los países.\n",
    "    \n",
    "    parametros : dict\n",
    "        Parámetros para generar la gráfica.\n",
    "    \"\"\"\n",
    "    for p in paises.groups.keys():\n",
    "        pais = paises.get_group(p)  # Se obtiene el DataFrame del país\n",
    "        plt.plot(pais['Year(s)'], pais['Value'], **parametros)\n",
    "    \n",
    "    # Al final de todas las gráficas ponemos la del nivel de reemplazo \n",
    "    # para que apareza sobre todas ellas y se note mejor (también es posible usar zorder)\n",
    "    plt.plot([-1,14],[2.1,2.1], 'k--', lw=1.0, label='Nivel de reemplazo: 2.1')\n",
    "    plt.legend()"
   ]
  },
  {
   "cell_type": "markdown",
   "metadata": {},
   "source": [
    "#### Resultado preliminar\n",
    "\n",
    "Calculamos el máximo del valor del TFR de todos los países y lo usamos para generar los `yticks`"
   ]
  },
  {
   "cell_type": "code",
   "execution_count": null,
   "metadata": {},
   "outputs": [],
   "source": [
    "# Se obtiene el máximo a partir de la información original\n",
    "y_maximo = TFR['Value'].max() \n",
    "\n",
    "# Se definen los yticks usando el y_maximo\n",
    "yticks = [i for i in range(0,ceil(y_maximo)+1)]\n",
    "print('TFR máximo: ', y_maximo)\n",
    "print('Marcas para el eje y: ', yticks)"
   ]
  },
  {
   "cell_type": "markdown",
   "metadata": {},
   "source": [
    "¿Cómo le haríamos para conocer el país o países que tienen el valor máximo de TFR?"
   ]
  },
  {
   "cell_type": "code",
   "execution_count": null,
   "metadata": {},
   "outputs": [],
   "source": []
  },
  {
   "cell_type": "code",
   "execution_count": null,
   "metadata": {},
   "outputs": [],
   "source": [
    "# Graficamos todos los países.\n",
    "inicializaGrafica(y_maximo, yticks)\n",
    "graficaTFR(paises)"
   ]
  },
  {
   "cell_type": "markdown",
   "metadata": {},
   "source": [
    "**¡Esta gráfica es bastante interesante y colorida!** Sin embargo poco útil. \n",
    "\n",
    "Aunque es posible identificar, si nos fijamos bien, grupos de países que inician con un TFR entre 5 y 7, que después bajan conforme pasan las décadas. \n",
    "\n",
    "Y otro grupo de países entre el 2 y 3 que se matienen al rededor del nivel de reemplazo (2.1). \n",
    "\n",
    "Como vimos en la celda anterior, Yemen es el país que tiene el máximo TFR, durante los años de 1985 a 1990. "
   ]
  },
  {
   "cell_type": "markdown",
   "metadata": {},
   "source": [
    "#### Primera mejora.\n",
    "\n",
    "Haremos la misma gráfica, pero con las líneas más delgadas para intentar distinguir algo más."
   ]
  },
  {
   "cell_type": "code",
   "execution_count": null,
   "metadata": {},
   "outputs": [],
   "source": [
    "inicializaGrafica(y_maximo, yticks)\n",
    "graficaTFR(paises, {'lw':0.5})"
   ]
  },
  {
   "cell_type": "markdown",
   "metadata": {},
   "source": [
    "Esta gráfica \"desenreda\" un poco la información, pero sigue siendo poco útil.\n",
    "\n",
    "#### Segunda mejora.\n",
    "\n",
    "Usaremos un mismo color muy tenue para graficar todos los países."
   ]
  },
  {
   "cell_type": "code",
   "execution_count": null,
   "metadata": {},
   "outputs": [],
   "source": [
    "inicializaGrafica(y_maximo, yticks)\n",
    "graficaTFR(paises, {'lw':0.5, 'c':'lightgrey'})"
   ]
  },
  {
   "cell_type": "markdown",
   "metadata": {},
   "source": [
    "Esta gráfica es un canvas con toda la información necesaria para analizar cada país por separado. Veamos cómo."
   ]
  },
  {
   "cell_type": "markdown",
   "metadata": {},
   "source": [
    "## Resultado final\n",
    "- Analizaremos los países de Suecia, España, México y Yemen, dentro de las gráficas de todos los países. \n",
    "\n",
    "- Igualmente se van a agregar algunos otros que sean de interés.\n",
    "\n",
    "Definimos una función para graficar un solo país con parámetros que permitan realzar la curva \n"
   ]
  },
  {
   "cell_type": "code",
   "execution_count": null,
   "metadata": {},
   "outputs": [],
   "source": [
    "def graficaTFR_Pais(paises, p, parametros={}):\n",
    "    \"\"\"\n",
    "    Realiza la gráfica de un solo país.\n",
    "    \n",
    "    Parameters\n",
    "    ----------\n",
    "    paises : DataFrameGroupBy\n",
    "        Dataframe generado por GroupBy con la información de los países.\n",
    "    \n",
    "    parametros : dict\n",
    "        Parámetros para generar la gráfica.\n",
    "    \"\"\"\n",
    "    pais = paises.get_group(p)\n",
    "    \n",
    "    # Graficamos el país con los parámetros requeridos\n",
    "    plt.plot(pais['Year(s)'], pais['Value'], **parametros)\n",
    "    \n",
    "    # Ponemos un texto al final de la curva para mostrar el \n",
    "    # nombre del país y el valor final de FR\n",
    "    pais_val = pais['Value'].iloc[0]\n",
    "    plt.text(x = 0, y = pais_val, \n",
    "             s = ' {} {:1.2f}'.format(p, pais_val), \n",
    "             c = parametros['c'], weight = 'bold')\n",
    "    \n",
    "    # Ponemos el valor inicial de FR al principio de la curva.\n",
    "    pais_val = pais['Value'].iloc[-1]    \n",
    "    plt.text(x = 14, y = pais_val, \n",
    "             s = '{:1.2f} '.format(pais_val), \n",
    "             c = parametros['c'], weight = 'bold')\n"
   ]
  },
  {
   "cell_type": "code",
   "execution_count": null,
   "metadata": {},
   "outputs": [],
   "source": [
    "# Hacemos la gráfica base\n",
    "inicializaGrafica(y_maximo, yticks)\n",
    "graficaTFR(paises, {'lw':0.5, 'c':'lightgrey'})\n",
    "\n",
    "# Graficamos para México con parámetros de realce (ancho 4 y color rojo)\n",
    "par_mex = {'lw':4.0, 'c':'red'}\n",
    "graficaTFR_Pais(paises, 'Mexico', par_mex)"
   ]
  },
  {
   "cell_type": "markdown",
   "metadata": {},
   "source": [
    "Esta gráfica nos da mucho mayor información. Además de tener todo el contexto de los demás países, podemos observar como ha cambiado el número de hijos promedio por mujer en nuestro país, desde los años 50s que tenía un valor de 6.75 y en los años 70s comenzó su declive. Fue en el año de 1974 cuando se instaló la CONAPO (Consejo Nacional de Población) y uno de sus primeros lemas fue *“La familia pequeña vive mejor”* (aún recuerdo esos promocionales de la TV). Es muy probable que este hecho haya impactado en esa disminución de los hijos por familia durante las siguientes décadas. Actualmente el valor es de 2.14, apenas un poco arriba del NR y la tendencia es a la baja. En mi experiencia, al hablar con jóvenes en edad reproductiva, parece que para un porcentaje alto de ellos (no tengo los datos exactos), ya no es un objetivo de vida tener hijos, por lo que la espectativa es que el nivel de hijos pase por abajo del NR en nuestro país en los próximos años."
   ]
  },
  {
   "cell_type": "markdown",
   "metadata": {},
   "source": [
    "Finalmente hacemos la gráfica para varios países para hacer la comparación entre ellos.\n",
    "\n",
    "**NOTA**: La base de datos también trae la información del número de hijos promedio de todo el mundo ('World') el cual graficamos para comparar."
   ]
  },
  {
   "cell_type": "code",
   "execution_count": null,
   "metadata": {},
   "outputs": [],
   "source": [
    "# Hacemos la gráfica base\n",
    "inicializaGrafica(y_maximo, yticks)\n",
    "graficaTFR(paises, {'lw':0.5, 'c':'lightgrey'})\n",
    "\n",
    "# Definimos colores y hacemos las gráficas de los países seleccionados\n",
    "colores = ['C0', 'C1', 'C2', 'C3', 'C4', 'k']\n",
    "\n",
    "paises_l = ['Mexico', 'Yemen', 'Spain', 'Sweden', 'China', 'World']\n",
    "for p, c in zip(paises_l, colores):\n",
    "    par = {'lw':2.0, 'c':c}\n",
    "    graficaTFR_Pais(paises, p, par)\n",
    "\n",
    "# Decidimos dibujar menos xticks para mayor claridad.\n",
    "plt.xticks([13, 11, 9, 7, 5, 3, 1], rotation=0)\n",
    "\n",
    "plt.savefig('TFR.pdf')"
   ]
  },
  {
   "cell_type": "markdown",
   "metadata": {},
   "source": [
    "¿Puede Usted contar la historia de esta última gráfica?"
   ]
  },
  {
   "cell_type": "markdown",
   "metadata": {},
   "source": [
    "¿Con este análisis es posible responder a las preguntas que hicimos al principio?\n",
    "\n",
    "1. ¿Los países ricos están recuperando su TFR?\n",
    "2. ¿Cómo es el TFR en países con un bajo PIB per cápita?\n",
    "3. ¿Países en desarrollo como China y Brasil están estabilizando sus poblaciones?\n",
    "4. ¿Cómo ha sido la evolución de la población en México con respecto de otros países? "
   ]
  },
  {
   "cell_type": "markdown",
   "metadata": {},
   "source": [
    "### <font color=\"DeepPink\">Tarea para entrega en el Moodle.</font>\n",
    "\n",
    "En documento de dos páginas agregue:\n",
    "- Página 1 : \n",
    "    - La gráfica del ejercicio 1 y su respuesta a la pregunta.\n",
    "    - La gráfica del ejercicio 2 y su respuesta a la pregunta.\n",
    "- Página 2 : \n",
    "    - La gráfica final del TFR que Ud. obtuvo y una descripción de la misma.\n",
    "\n",
    "Suba su documento en formato PDF al Moodle."
   ]
  },
  {
   "cell_type": "markdown",
   "metadata": {},
   "source": [
    "## Comentarios finales\n",
    "\n",
    "En las visualizaciones que se muestran abajo se grafica el TFR y se compara con algunos factores de desarrollo para varios países de diferentes continentes y con el siguiente *GDP per capita* (en *US dollars*): \n",
    "- USA (63,413.5), \n",
    "- Alemania (46,208.4), \n",
    "- Japón (40,193.3), \n",
    "- Macao SAR (39,403.1), \n",
    "- Argentina (8,579.0), \n",
    "- Mexico (8,329.3), \n",
    "- Egipto (3,569.2), \n",
    "- Nigeria (2,097.1), \n",
    "- Yemen (758.1) \n",
    "\n",
    "(Fuente: [The World Data Bank](https://data.worldbank.org/indicator/NY.GDP.PCAP.CD?most_recent_value_desc=true&view=chart) ). \n",
    "\n",
    "Además, se utilizan algunas características para resaltar la visualización. Con esta información adicional ¿Ud. podría contar alguna historia?"
   ]
  },
  {
   "cell_type": "markdown",
   "metadata": {},
   "source": [
    "<table>  \n",
    "  <tr>\n",
    "      <th>TFR para países con diferente PIB per cápita</th>\n",
    "      <th> Algunas veces el fondo es importante (¡en otras NO!)</th>\n",
    "  </tr>\n",
    "  <tr>\n",
    "    <td><img src=\"../Figuras/FR01.png\" width=\"500\"></td>\n",
    "    <td><img src=\"../Figuras/FR02.png\" width=\"500\"></td>\n",
    "  </tr>\n",
    "  <tr>\n",
    "      <th>TFR vs PIB per cápita</th>\n",
    "      <th>TFR vs PIB per cápita vs Education</th>\n",
    "  </tr>\n",
    "  <tr>\n",
    "    <td><img src=\"../Figuras/FR03.png\" width=\"500\"></td>\n",
    "    <td><img src=\"../Figuras/FR04.png\" width=\"500\"></td>\n",
    "  </tr>\n",
    "  <tr>\n",
    "    <th colspan=\"2\">Animación del TFR de México (¡cuidado con las animaciones!)</th>\n",
    "  </tr>    \n",
    "  <tr>\n",
    "    <td colspan=\"2\"><img src=\"../Figuras/fert.gif\" width=\"500\"></td>\n",
    "  </tr>\n",
    "</table> "
   ]
  },
  {
   "cell_type": "code",
   "execution_count": null,
   "metadata": {},
   "outputs": [],
   "source": []
  }
 ],
 "metadata": {
  "kernelspec": {
   "display_name": "Python 3",
   "language": "python",
   "name": "python3"
  },
  "language_info": {
   "codemirror_mode": {
    "name": "ipython",
    "version": 3
   },
   "file_extension": ".py",
   "mimetype": "text/x-python",
   "name": "python",
   "nbconvert_exporter": "python",
   "pygments_lexer": "ipython3",
   "version": "3.8.8"
  }
 },
 "nbformat": 4,
 "nbformat_minor": 4
}
