{
 "cells": [
  {
   "cell_type": "markdown",
   "metadata": {},
   "source": [
    "# Práctica 1.\n",
    "## Visualización de la información\n",
    "\n",
    "### Prof. Luis Miguel de la Cruz Salas\n",
    "\n",
    "Extraer información importante de un conjunto de datos y resaltarla mediante algunas técnicas simples."
   ]
  },
  {
   "cell_type": "markdown",
   "metadata": {},
   "source": [
    "### Paso 1. \n",
    "Incluir las bibliotecas necesarias para la lectura de datos y para la visualización."
   ]
  },
  {
   "cell_type": "code",
   "execution_count": 2,
   "metadata": {},
   "outputs": [],
   "source": [
    "import numpy as np\n",
    "import matplotlib.pyplot as plt\n",
    "import pandas as pd\n",
    "%matplotlib inline"
   ]
  },
  {
   "cell_type": "markdown",
   "metadata": {},
   "source": [
    "### Paso 2. \n",
    "Obtener la información de http://data.un.org/ con la búsqueda 'fertility rate', bajar el archvio y leerlo en un DataFrame."
   ]
  },
  {
   "cell_type": "code",
   "execution_count": 3,
   "metadata": {},
   "outputs": [],
   "source": [
    "fertilidad = pd.read_csv('UNdata_Export_20200418_014346536.csv')"
   ]
  },
  {
   "cell_type": "markdown",
   "metadata": {},
   "source": [
    "### Paso 3. \n",
    "Extraer los datos de España y Suecia."
   ]
  },
  {
   "cell_type": "code",
   "execution_count": 4,
   "metadata": {},
   "outputs": [],
   "source": [
    "# Primero se agrupa por país \n",
    "paises = fertilidad.groupby('Country or Area')"
   ]
  },
  {
   "cell_type": "code",
   "execution_count": 5,
   "metadata": {},
   "outputs": [
    {
     "name": "stdout",
     "output_type": "stream",
     "text": [
      "<class 'pandas.core.groupby.generic.DataFrameGroupBy'>\n"
     ]
    }
   ],
   "source": [
    "print(type(paises))"
   ]
  },
  {
   "cell_type": "code",
   "execution_count": null,
   "metadata": {},
   "outputs": [],
   "source": [
    "# Después se obtienen los datos de España y Suecia\n",
    "spa = paises.get_group('Spain')\n",
    "swe = paises.get_group('Sweden')"
   ]
  },
  {
   "cell_type": "code",
   "execution_count": null,
   "metadata": {},
   "outputs": [],
   "source": [
    "spa"
   ]
  },
  {
   "cell_type": "code",
   "execution_count": null,
   "metadata": {},
   "outputs": [],
   "source": [
    "swe"
   ]
  },
  {
   "cell_type": "markdown",
   "metadata": {},
   "source": [
    "### Paso 4. \n",
    "Hacer las primeras gráficas para comparar los datos de España y Suecia."
   ]
  },
  {
   "cell_type": "code",
   "execution_count": null,
   "metadata": {},
   "outputs": [],
   "source": [
    "plt.plot(spa['Year(s)'], spa['Value'])\n",
    "plt.plot(swe['Year(s)'], swe['Value'])"
   ]
  },
  {
   "cell_type": "markdown",
   "metadata": {},
   "source": [
    "Como se puede observar en la gráfica anterior, los `xtics` están amontonados."
   ]
  },
  {
   "cell_type": "markdown",
   "metadata": {},
   "source": [
    "### Paso 5.\n",
    "Rotar los `xtics` para apreciarlos mejor."
   ]
  },
  {
   "cell_type": "code",
   "execution_count": null,
   "metadata": {},
   "outputs": [],
   "source": [
    "plt.xticks(rotation=70) # Rotación de 70 grados con respecto al eje x, en sentido horario.\n",
    "plt.plot(spa['Year(s)'], spa['Value'])\n",
    "plt.plot(swe['Year(s)'], swe['Value'])"
   ]
  },
  {
   "cell_type": "markdown",
   "metadata": {},
   "source": [
    "Se observa en el eje $x$ la información de mayor (2015-2020) a menor (1950-1955)."
   ]
  },
  {
   "cell_type": "markdown",
   "metadata": {},
   "source": [
    "### Paso 6.\n",
    "Invertir la información en el eje $x$."
   ]
  },
  {
   "cell_type": "code",
   "execution_count": null,
   "metadata": {},
   "outputs": [],
   "source": [
    "plt.xticks(rotation=70)\n",
    "plt.plot(spa['Year(s)'], spa['Value'])\n",
    "plt.plot(swe['Year(s)'], swe['Value'])\n",
    "plt.xlim(14,-1,-1) # Obsérvese que se tienen 14 datos (0-13), por esa razón \n",
    "                   # se grafican desde al 14 hasta el -1, con un salto de -1."
   ]
  },
  {
   "cell_type": "markdown",
   "metadata": {},
   "source": [
    "### Paso 7.\n",
    "Graficamos una línea recta en el valor 2.1, que es considerado el valor de reemplazo."
   ]
  },
  {
   "cell_type": "code",
   "execution_count": null,
   "metadata": {},
   "outputs": [],
   "source": [
    "plt.xticks(rotation=70) \n",
    "plt.plot(spa['Year(s)'], spa['Value'])\n",
    "plt.plot(swe['Year(s)'], swe['Value'])\n",
    "plt.plot([14,-1],[2.1,2.1], 'k--') # Línea que muestra el valor de reemplazo,\n",
    "                                   # Se usa negro y línea punteada para distinguirla.\n",
    "plt.xlim(14,-1,-1)"
   ]
  },
  {
   "cell_type": "markdown",
   "metadata": {},
   "source": [
    "### Paso 8.\n",
    "Decoramos la gráfica para tener una primera versión de esta visualización."
   ]
  },
  {
   "cell_type": "code",
   "execution_count": null,
   "metadata": {},
   "outputs": [],
   "source": [
    "fig = plt.figure(figsize=(10,5)) # Cambiamos el tamaño de la figura\n",
    "plt.xticks(rotation=70) \n",
    "plt.plot(spa['Year(s)'], spa['Value'], lw=4.0, label='España')\n",
    "plt.plot(swe['Year(s)'], swe['Value'], lw=4.0, label='Suecia')\n",
    "plt.plot([14,-1],[2.1,2.1], 'k--', lw=1.0, label='Nivel de reemplazo: 2.1') \n",
    "plt.xlim(14,-1,-1)\n",
    "plt.ylim(0,3)             # Límites en el eje y \n",
    "plt.yticks([0,1,2,3])     # Marcas en el eje y\n",
    "plt.grid(ls='--', lw=0.5) # Rejilla\n",
    "\n",
    "# Información adicional y títulos\n",
    "plt.title('Promedio de número de hijos por mujer', loc='left', fontsize=10)\n",
    "plt.title('fuente: http://data.un.org', loc='right', fontstyle='italic', fontsize=10)\n",
    "plt.suptitle(' Comparación de la fertilidad',y = 1.0, fontsize=14)\n",
    "plt.legend()"
   ]
  },
  {
   "cell_type": "markdown",
   "metadata": {},
   "source": [
    "### Paso 9.\n",
    "Agregar un texto en el extremo derecho de cada curva para identificarla. El objetivo es eliminar las leyendas de las curvas, pues más adelante tendremos muchas graficas que serán difíciles de distinguir."
   ]
  },
  {
   "cell_type": "code",
   "execution_count": null,
   "metadata": {},
   "outputs": [],
   "source": [
    "fig = plt.figure(figsize=(10,5)) # Cambiamos el tamaño de la figura\n",
    "plt.xticks(rotation=70)\n",
    "# Cambiamos el color y quitamos las leyendas\n",
    "spa_color = 'blue'\n",
    "swe_color = 'orange'\n",
    "plt.plot(spa['Year(s)'], spa['Value'], lw=4.0, c=spa_color)\n",
    "plt.plot(swe['Year(s)'], swe['Value'], lw=4.0, c=swe_color)\n",
    "plt.plot([14,-1],[2.1,2.1], 'k--', lw=1.0, label='Nivel de reemplazo: 2.1') \n",
    "plt.xlim(14,-1,-1)\n",
    "plt.ylim(0,3)             # Límites en el eje y \n",
    "plt.yticks([0,1,2,3])     # Marcas en el eje y\n",
    "plt.grid(ls='--', lw=0.5) # Rejilla\n",
    "\n",
    "# Información adicional y títulos\n",
    "plt.title('Promedio de número de hijos por mujer', loc='left', fontsize=10)\n",
    "plt.title('fuente: http://data.un.org', loc='right', fontstyle='italic', fontsize=10)\n",
    "plt.suptitle(' Comparación de la fertilidad',y = 1.0, fontsize=14)\n",
    "plt.legend()\n",
    "\n",
    "# Agregamos el texto en cada curva\n",
    "spa_val = spa['Value'].iloc[0]\n",
    "swe_val = swe['Value'].iloc[0]\n",
    "plt.text(x = 0, y = spa_val, s = ' Esp {:1.2f}'.format(spa_val), c = spa_color, weight = 'bold')\n",
    "plt.text(x = 0, y = swe_val, s = ' Sue {:1.2f}'.format(swe_val), c = swe_color, weight = 'bold')\n"
   ]
  },
  {
   "cell_type": "markdown",
   "metadata": {},
   "source": [
    "La gráfica anterior muestra como el número promedio de hijos por mujer se incrementó levemente de 1950 a 1965 para Suecia, para después reducirse por debajo del nivel de reemplazo (NR). Desde entonces ha oscilado un par de veces y parece que a partir de 2005 comienza a estabilizarse en un valor por debajo del NR. Algo similar sucede con España, donde el incremento fue un poco más notorio de 1950 hasta 1975, para después bajar y estabilizarse en la década pasada. ¿Qué hechos historicos se podrían correlacionar con estos datos?\n",
    "\n",
    "Lo que se desea mostrar (la historia que se quiere contar) es que la razón de nacimientos en ambos países se ha estabilizado, lo cual nos puede llevar a que la población mundial realmente se estabilice en aproximadamente 90mil millones de seres humanos."
   ]
  },
  {
   "cell_type": "markdown",
   "metadata": {},
   "source": [
    "### Paso 10.\n",
    "Hacer el mimos análisis para México y Yemen."
   ]
  },
  {
   "cell_type": "code",
   "execution_count": null,
   "metadata": {},
   "outputs": [],
   "source": [
    "# Extraer los datos de México y Yemen\n",
    "mex = paises.get_group('Mexico')\n",
    "yem = paises.get_group('Yemen')"
   ]
  },
  {
   "cell_type": "markdown",
   "metadata": {},
   "source": [
    "### Paso 11.\n",
    "Obtener el valor máximo de fertilidad de ambos países para usarlo en los límites del eje $y$."
   ]
  },
  {
   "cell_type": "code",
   "execution_count": null,
   "metadata": {},
   "outputs": [],
   "source": [
    "# Importamos la biblioteca ceil para redondear el valor máximo\n",
    "from math import ceil\n",
    "\n",
    "y_maximo = max(mex['Value'].max(), yem['Value'].max()) # El máximo entre dos países.\n",
    "yticks = [i for i in range(0,ceil(y_maximo)+1)] # Lista de ticks.\n",
    "print(y_maximo, yticks)"
   ]
  },
  {
   "cell_type": "markdown",
   "metadata": {},
   "source": [
    "### Paso 12.\n",
    "Graficar usando el mismo script que se usó en el punto 4."
   ]
  },
  {
   "cell_type": "code",
   "execution_count": null,
   "metadata": {},
   "outputs": [],
   "source": [
    "fig = plt.figure(figsize=(10,5)) # Cambiamos el tamaño de la figura\n",
    "plt.xticks(rotation=70)\n",
    "# Cambiamos el color y quitamos las leyendas\n",
    "mex_color = 'blue'\n",
    "yem_color = 'orange'\n",
    "plt.plot(mex['Year(s)'], mex['Value'], lw=4.0, c=mex_color)\n",
    "plt.plot(yem['Year(s)'], yem['Value'], lw=4.0, c=yem_color)\n",
    "plt.plot([14,-1],[2.1,2.1], 'k--', lw=1.0, label='Nivel de reemplazo: 2.1') \n",
    "plt.xlim(14,-1,-1)\n",
    "plt.ylim(0, y_maximo)     # Límites en el eje y \n",
    "plt.yticks(yticks)        # Marcas en el eje y\n",
    "plt.grid(ls='--', lw=0.5) # Rejilla\n",
    "\n",
    "# Información adicional y títulos\n",
    "plt.title('Promedio de número de hijos por mujer', loc='left', fontsize=10)\n",
    "plt.title('fuente: http://data.un.org', loc='right', fontstyle='italic', fontsize=10)\n",
    "plt.suptitle(' Comparación de la fertilidad',y = 1.0, fontsize=14)\n",
    "plt.legend()\n",
    "\n",
    "# Agregamos el texto en cada curva\n",
    "mex_val = mex['Value'].iloc[0]\n",
    "yem_val = yem['Value'].iloc[0]\n",
    "plt.text(x = 0, y = mex_val, s = ' Mex {:1.2f}'.format(mex_val), c = mex_color, weight = 'bold')\n",
    "plt.text(x = 0, y = yem_val, s = ' Yem {:1.2f}'.format(yem_val), c = yem_color, weight = 'bold')\n",
    "\n",
    "# Quitamos la línea derecha y la de arriba del marco de los ejes\n",
    "ejes = fig.axes\n",
    "ejes[0].spines['right'].set_visible(False)\n",
    "ejes[0].spines['top'].set_visible(False)"
   ]
  },
  {
   "cell_type": "markdown",
   "metadata": {},
   "source": [
    "Observamos en la gráfica anterior que la fertilidad en México y Yemen son mayores a España y Suecia.\n",
    "\n",
    "¿Qué más puede decir de estas curvas con respecto de las de España y Suecia?"
   ]
  },
  {
   "cell_type": "markdown",
   "metadata": {},
   "source": [
    "### Paso 13.\n",
    "Graficamos los cuatro países juntos para comparar la información."
   ]
  },
  {
   "cell_type": "code",
   "execution_count": null,
   "metadata": {},
   "outputs": [],
   "source": [
    "fig = plt.figure(figsize=(10,5)) # Cambiamos el tamaño de la figura\n",
    "plt.xticks(rotation=70)\n",
    "# Cambiamos el color y quitamos las leyendas\n",
    "spa_color = 'blue'\n",
    "swe_color = 'orange'\n",
    "mex_color = 'red'\n",
    "yem_color = 'green'\n",
    "plt.plot(spa['Year(s)'], spa['Value'], lw=4.0, c=spa_color)\n",
    "plt.plot(swe['Year(s)'], swe['Value'], lw=4.0, c=swe_color)\n",
    "plt.plot(mex['Year(s)'], mex['Value'], lw=4.0, c=mex_color)\n",
    "plt.plot(yem['Year(s)'], yem['Value'], lw=4.0, c=yem_color)\n",
    "\n",
    "plt.plot([14,-1],[2.1,2.1], 'k--', lw=1.0, label='Nivel de reemplazo: 2.1') \n",
    "plt.xlim(14,-2,-1)\n",
    "plt.ylim(0,y_maximo)      # Límites en el eje y (usamos y_maximo)\n",
    "plt.yticks(yticks)        # Marcas en el eje y\n",
    "plt.grid(ls='--', lw=0.5) # Rejilla\n",
    "\n",
    "# Información adicional y títulos\n",
    "plt.title('Promedio de número de hijos por mujer', loc='left', fontsize=10)\n",
    "plt.title('fuente: http://data.un.org', loc='right', fontstyle='italic', fontsize=10)\n",
    "plt.suptitle(' Comparación de la fertilidad',y = 1.0, fontsize=14)\n",
    "plt.legend()\n",
    "\n",
    "# Agregamos el texto en cada curva\n",
    "spa_val = spa['Value'].iloc[0]\n",
    "swe_val = swe['Value'].iloc[0]\n",
    "mex_val = mex['Value'].iloc[0]\n",
    "yem_val = yem['Value'].iloc[0]\n",
    "plt.text(x = 0, y = spa_val, s = ' Esp {:1.2f}'.format(spa_val), c = spa_color, weight = 'bold')\n",
    "plt.text(x = 0, y = swe_val, s = ' Sue {:1.2f}'.format(swe_val), c = swe_color, weight = 'bold')\n",
    "plt.text(x = 0, y = mex_val, s = ' Mex {:1.2f}'.format(mex_val), c = mex_color, weight = 'bold')\n",
    "plt.text(x = 0, y = yem_val, s = ' Yem {:1.2f}'.format(yem_val), c = yem_color, weight = 'bold')\n",
    "\n",
    "# Quitamos la línea derecha y la de arriba del marco de los ejes\n",
    "ejes = fig.axes\n",
    "ejes[0].spines['right'].set_visible(False)\n",
    "ejes[0].spines['top'].set_visible(False)"
   ]
  },
  {
   "cell_type": "markdown",
   "metadata": {},
   "source": [
    "¿Cómo se comparan estas gráficas? ¿Qué se puede pensar de los países que tienen un índice de fertilidad que está por arriba del factor NR? ¿Cómo podrían impactar los cuestiones históricas y geográficas de esos países en su fertilidad? ¿Qué más observa en estas gráficas?"
   ]
  },
  {
   "cell_type": "markdown",
   "metadata": {},
   "source": [
    "### Paso 14.\n",
    "Realizar las graficas para todos los países de la base de datos."
   ]
  },
  {
   "cell_type": "code",
   "execution_count": null,
   "metadata": {},
   "outputs": [],
   "source": [
    "# La lista de paises se puede obtener usando la función: paises.groups.keys(). \n",
    "# Imprimimos la lista de todos los países:\n",
    "for p in paises.groups.keys():\n",
    "    print(p, end=', ')"
   ]
  },
  {
   "cell_type": "code",
   "execution_count": 7,
   "metadata": {},
   "outputs": [],
   "source": [
    "# Primero vamos a definir una función para inicializar el entorno de la gráfica.\n",
    "def inicializaGrafica(y_maximo, yticks):\n",
    "    \"\"\"\n",
    "    Inicializa algunos parámetros de la figura.\n",
    "    \n",
    "    Parameters\n",
    "    ----------\n",
    "    y_maximo : int\n",
    "        Valor máximo para el eje y.\n",
    "    \n",
    "    yticks : list\n",
    "        Lista de valores para los ticks en el eje y.\n",
    "    \"\"\"\n",
    "    fig = plt.figure(figsize=(10,10)) # Cambiamos el tamaño de la figura\n",
    "    plt.xticks(rotation=70)\n",
    "    plt.xlim(14,-2,-1)\n",
    "    plt.ylim(0,y_maximo)   # Límites en el eje y (usamos y_maximo)\n",
    "    plt.yticks(yticks)     # Marcas en el eje y\n",
    "    plt.grid(ls='--', lw=0.5) # Rejilla\n",
    "\n",
    "    # Información adicional y títulos\n",
    "    plt.title('Promedio de número de hijos por mujer', loc='left', fontsize=10)\n",
    "    plt.title('fuente: http://data.un.org', loc='right', fontstyle='italic', fontsize=10)\n",
    "    plt.suptitle(' Comparación de la fertilidad', y = 0.94, fontsize=14)\n",
    "\n",
    "    ejes = fig.axes\n",
    "    ejes[0].spines['right'].set_visible(False)\n",
    "    ejes[0].spines['top'].set_visible(False)\n",
    "    ejes[0].spines['left'].set_visible(False)\n",
    "    ejes[0].spines['bottom'].set_visible(False)\n",
    "    \n",
    "    # Modificamos algunos parámetros de los ticks en el eje y\n",
    "    ejes[0].tick_params(axis='y', width=1, length=25)\n",
    "    \n",
    "# Ahora definimos una función para graficar la información de cada país.\n",
    "def graficaFertilidad(paises, parametros={}):\n",
    "    \"\"\"\n",
    "    Realiza la gráfica de todos los países.\n",
    "    \n",
    "    Parameters\n",
    "    ----------\n",
    "    paises : DataFrameGroupBy\n",
    "        Dataframe generado por GroupBy con la información de los países.\n",
    "    \n",
    "    parametros : dict\n",
    "        Parámetros para generar la gráfica.\n",
    "    \"\"\"\n",
    "    for p in paises.groups.keys():\n",
    "        pais = paises.get_group(p)\n",
    "        plt.plot(pais['Year(s)'], pais['Value'], **parametros) \n",
    "    \n",
    "    # Al final de todas las gráficas ponemos la del nivel de reemplazo \n",
    "    # para que apareza sobre todas ellas y se note mejor\n",
    "    plt.plot([14,-1],[2.1,2.1], 'k--', lw=1.0, label='Nivel de reemplazo: 2.1')\n",
    "    plt.legend()"
   ]
  },
  {
   "cell_type": "code",
   "execution_count": null,
   "metadata": {},
   "outputs": [],
   "source": [
    "# Calculamos el máximo de todos los países y lo usamos para generar los yticks\n",
    "y_maximo = 0\n",
    "for p in paises.groups.keys():\n",
    "    temporal = paises.get_group(p)['Value'].max()\n",
    "    if y_maximo < temporal:\n",
    "        y_maximo = temporal\n",
    "        p_maximo = p\n",
    "        \n",
    "yticks = [i for i in range(0,ceil(y_maximo)+1)]\n",
    "print(p, y_maximo, yticks)"
   ]
  },
  {
   "cell_type": "code",
   "execution_count": null,
   "metadata": {},
   "outputs": [],
   "source": [
    "# Graficamos todos los países.\n",
    "inicializaGrafica(y_maximo, yticks)\n",
    "graficaFertilidad(paises)"
   ]
  },
  {
   "cell_type": "markdown",
   "metadata": {},
   "source": [
    "Esta gráfica es bastante interesante y colorida! Sin embargo poco útil. Aunque es posible identificar, si nos fijamos bien, grupos de países que inician con una fertilidad entre 5 y 7, que después bajan conforme pasan las décadas. Y otro grupo de países entre el 2 y 3 que se matienen al rededor del nivel de reemplazo (2.1). Como vimos en la celda anterior, Zimbawe es el país que tiene la máxima fertilidad, durante los años de 1985 a 1990. "
   ]
  },
  {
   "cell_type": "code",
   "execution_count": null,
   "metadata": {},
   "outputs": [],
   "source": [
    "# Hacemos la misma gráfica, pero con las líneas más delgadas para intentar distinguir algo más.\n",
    "inicializaGrafica(y_maximo, yticks)\n",
    "graficaFertilidad(paises, {'lw':0.5})"
   ]
  },
  {
   "cell_type": "markdown",
   "metadata": {},
   "source": [
    "Esta gráfica \"desenreda\" un poco la información, pero sigue siendo poco útil."
   ]
  },
  {
   "cell_type": "markdown",
   "metadata": {},
   "source": [
    "### Paso 15.\n",
    "Analizar los países de Suecia, España, México y Yemen, dentro de las gráficas de todos los países. Agregar algunos otros que sean de interés, por ejemplo Zimbage y aquél que haya tenido la menor fertilidad a lo largo del tiempo."
   ]
  },
  {
   "cell_type": "code",
   "execution_count": null,
   "metadata": {},
   "outputs": [],
   "source": [
    "# Primero usamos un color muy tenue para graficar todos los países.\n",
    "inicializaGrafica(y_maximo, yticks)\n",
    "graficaFertilidad(paises, {'lw':0.5, 'c':'lightgrey'})"
   ]
  },
  {
   "cell_type": "markdown",
   "metadata": {},
   "source": [
    "Esta última gráfica será la base para ubicar a los países que son de nuestro interés."
   ]
  },
  {
   "cell_type": "code",
   "execution_count": null,
   "metadata": {},
   "outputs": [],
   "source": [
    "# Definimos una función para graficar un solo país con parámetros que permitan realzar la curva \n",
    "def graficaFertilidadUnPais(paises, p, parametros={}):\n",
    "    \"\"\"\n",
    "    Realiza la gráfica de un solo país.\n",
    "    \n",
    "    Parameters\n",
    "    ----------\n",
    "    paises : DataFrameGroupBy\n",
    "        Dataframe generado por GroupBy con la información de los países.\n",
    "    \n",
    "    parametros : dict\n",
    "        Parámetros para generar la gráfica.\n",
    "    \"\"\"\n",
    "    pais = paises.get_group(p)\n",
    "    \n",
    "    # Graficamos el país con los parámetros requeridos\n",
    "    plt.plot(pais['Year(s)'], pais['Value'], **parametros)\n",
    "    \n",
    "    # Ponemos un texto al final de la curva para mostrar el \n",
    "    # nombre del país y el valor final de fertilidad\n",
    "    pais_val = pais['Value'].iloc[0]\n",
    "    plt.text(x = 0, y = pais_val, \n",
    "             s = ' {} {:1.2f}'.format(p, pais_val), \n",
    "             c = parametros['c'], weight = 'bold')\n",
    "    \n",
    "    # Ponemos el valor inicial de fertilidad al principio de la curva.\n",
    "    pais_val = pais['Value'].iloc[-1]    \n",
    "    plt.text(x = 14, y = pais_val, \n",
    "             s = '{:1.2f} '.format(pais_val), \n",
    "             c = parametros['c'], weight = 'bold')\n"
   ]
  },
  {
   "cell_type": "code",
   "execution_count": null,
   "metadata": {},
   "outputs": [],
   "source": [
    "# Hacemos la gráfica base\n",
    "inicializaGrafica(y_maximo, yticks)\n",
    "graficaFertilidad(paises, {'lw':0.5, 'c':'lightgrey'})\n",
    "\n",
    "# Graficamos para México con parámetros de realce (ancho 4 y color rojo)\n",
    "par_mex = {'lw':4.0, 'c':'red'}\n",
    "graficaFertilidadUnPais(paises, 'Mexico', par_mex)"
   ]
  },
  {
   "cell_type": "markdown",
   "metadata": {},
   "source": [
    "Esta gráfica nos da mucho mayor información. Podemos observar como ha cambiado la fertilidad en nuestro país, desde los años 50 que tenía un valor de 6.75 y en los años 70s comenzó su declive. Fue en el año de 1974 cuando se instaló la CONAPO (Consejo Nacional de Población) y uno de sus primeros lemas fue *“La familia pequeña vive mejor”* (aún recuerdo esos promocionales de la TV). Es muy probable que este hecho haya impactado en esa disminución de los hijos por familia durante las siguientes décadas. Actualmente el valor es de 2.14, apenas un poco arriba del NR y la tendencia es a la baja. En mi experiencia, al hablar con jóvenes en edad reproductiva, parece que para un porcentaje alto de ellos (no tengo los datos exactos) ya no es un objetivo de vida tener hijos, por lo que la espectativa es que el nivel de hijos pase por abajo del NR en nuestro país."
   ]
  },
  {
   "cell_type": "code",
   "execution_count": null,
   "metadata": {},
   "outputs": [],
   "source": [
    "# Hacemos la gráfica base\n",
    "inicializaGrafica(y_maximo, yticks)\n",
    "graficaFertilidad(paises, {'lw':0.5, 'c':'lightgrey'})\n",
    "\n",
    "# Finalmente hacemos la gráfica para varios países para hacer la comparación entre ellos.\n",
    "# NOTA: La base de datos también trae la información del número de hijos promedio de todo\n",
    "# el mundo ('World'). La graficamos para comparar.\n",
    "colores = ['orange', 'blue', 'green', 'brown', 'purple','black']\n",
    "paises_l = ['Mexico', 'Yemen', 'Spain', 'Sweden', 'India', 'World']\n",
    "for p, c in zip(paises_l, colores):\n",
    "    par = {'lw':2.0, 'c':c}\n",
    "    graficaFertilidadUnPais(paises, p, par)\n",
    "\n",
    "# Decidimos dibujar menos xticks para mayor claridad.\n",
    "plt.xticks([13, 11, 9, 7, 5, 3, 1], rotation=0)\n",
    "\n",
    "plt.savefig('fertilidad.pdf')"
   ]
  },
  {
   "cell_type": "markdown",
   "metadata": {},
   "source": [
    "¿Puede Usted contar la historia de esta última gráfica?"
   ]
  },
  {
   "cell_type": "code",
   "execution_count": null,
   "metadata": {},
   "outputs": [],
   "source": []
  }
 ],
 "metadata": {
  "kernelspec": {
   "display_name": "Python 3",
   "language": "python",
   "name": "python3"
  },
  "language_info": {
   "codemirror_mode": {
    "name": "ipython",
    "version": 3
   },
   "file_extension": ".py",
   "mimetype": "text/x-python",
   "name": "python",
   "nbconvert_exporter": "python",
   "pygments_lexer": "ipython3",
   "version": "3.7.6"
  }
 },
 "nbformat": 4,
 "nbformat_minor": 4
}
