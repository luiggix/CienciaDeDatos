{
 "cells": [
  {
   "cell_type": "markdown",
   "metadata": {},
   "source": [
    "# Práctica 6: Análisis de precios de un producto\n",
    "\n",
    "**Módulo 14: Storytelling en ciencia de datos**\n",
    "\n",
    "**Diplomado en Ciencia de Datos**\n",
    "\n",
    "**DGTIC, Universidad Nacional Autónoma de México**\n",
    "\n",
    "This tutorial by Luis M. de la Cruz Salas is licensed under <a href=\"https://creativecommons.org/licenses/by-nc-nd/4.0?ref=chooser-v1\">Attribution-NonCommercial-NoDerivatives 4.0 International</a>"
   ]
  },
  {
   "cell_type": "markdown",
   "metadata": {},
   "source": [
    "---\n",
    "* El avance de la tecnología nos provee de herramientas sofisticadas para contar historias con datos.\n",
    "* Hoy en día es fácil poner datos en una hoja de cálculo, elegir un conjunto de ellos, escoger algunas opciones y presionar un botón para obtener un gráfico.\n",
    "* Cuando hacemos esto, es posible que nuestra historia brille ¡por su ausencia!\n",
    "* ¡Las herramientas de software no conocen la historia que quiero contar!\n",
    "\n",
    "--- \n",
    "\n",
    "* Tener la habilidad de contar historias con datos y visualizaciones efectivas, es cada vez más importante con el aumento exponencial de los datos.\n",
    "* Nos permite tomar decisiones a partir de la información presentada.\n",
    "* Una visualización efectiva es muy importante, por que los gráficos son posiblemente lo único que verá la audiencia. \n",
    "* Visualización: combinación de gráficos, imágenes, animaciones y tablas  para comunicar algo a alguien. \n",
    "---"
   ]
  },
  {
   "cell_type": "markdown",
   "metadata": {},
   "source": [
    "## Ejemplo: Precio al menudeo de un producto\n",
    "\n",
    "(Con base en: “[Storytelling with data](https://www.storytellingwithdata.com/books)”, Cole Nussbaumer Knaflic, John Wiley & Sons, Inc., Hoboken, New Jersey, 2015. Capítulo 8.)\n",
    "\n",
    "* Una *startup* ha creado un producto y está analizando cómo ponerle el mejor precio de venta.\n",
    "* Dos consideraciones importantes en toda startup son:\n",
    "    - ¿cómo es que los competidores tasan sus productos? y\n",
    "    - ¿cómo es que este precio ha cambiado con los años?\n",
    "\n",
    "\n",
    "---\n",
    "\n",
    "La siguiente tabla muestra los precios de productos de diferentes compañías competidoras desde 2013 y hasta 2019.\n",
    "\n",
    "|               | 2013 | 2014 | 2015 | 2016 | 2017 | 2018 | 2019 |\n",
    "|---------------|------|------|------|------|------|------|------|\n",
    "|**Producto A** | 395  |  420 |  430 |  390 |  300 |  275 |  260 |\n",
    "|**Producto B** | 370  |  400 |  405 |  380 |  295 |  255 |  245 |\n",
    "|**Producto C** |      |      |  100 |  180 |  200 |  240 |  182 |\n",
    "|**Producto D** |      |      |      |  160 |  265 |  215 |  210 |\n",
    "|**Producto E** |      |      |      |      |      |  100 |  205 |\n",
    "\n",
    "---\n",
    "**Misión**\n",
    "\n",
    "Definir el mejor precio de venta para el producto de la nueva compañía y convencer a la junta de socios de que ese es el mejor precio de acuerdo con la competencia y la información que se tiene.\n"
   ]
  },
  {
   "cell_type": "code",
   "execution_count": null,
   "metadata": {},
   "outputs": [],
   "source": [
    "import numpy as np\n",
    "import matplotlib.pyplot as plt\n",
    "\n",
    "# Parámetros para el estilo de las gráficas\n",
    "plt.style.use('seaborn-paper')\n",
    "params = {'figure.figsize' : (10,5),\n",
    "          'text.usetex'    : True,\n",
    "          'xtick.labelsize': 16,\n",
    "          'ytick.labelsize': 16,\n",
    "          'axes.labelsize' : 20,\n",
    "          'axes.titlesize' : 20,\n",
    "          'legend.fontsize': 14,\n",
    "          'grid.color'     : 'darkgray',\n",
    "          'grid.linewidth' : 0.5,\n",
    "          'grid.linestyle' : '--',\n",
    "          'font.family': 'DejaVu Serif',\n",
    "         }\n",
    "plt.rcParams.update(params)"
   ]
  },
  {
   "cell_type": "markdown",
   "metadata": {},
   "source": [
    "### Definimos los datos"
   ]
  },
  {
   "cell_type": "code",
   "execution_count": null,
   "metadata": {},
   "outputs": [],
   "source": [
    "# Productos\n",
    "A2013 = [395, 370]\n",
    "A2014 = [420, 400]\n",
    "A2015 = [430, 405, 100]\n",
    "A2016 = [390, 380, 180, 160]\n",
    "A2017 = [300, 295, 200, 265]\n",
    "A2018 = [275, 255, 240, 215, 100]\n",
    "A2019 = [260, 245, 182, 210, 205]\n",
    "#         A    B    C    D    E"
   ]
  },
  {
   "cell_type": "markdown",
   "metadata": {},
   "source": [
    "### Una visualización típica"
   ]
  },
  {
   "cell_type": "code",
   "execution_count": null,
   "metadata": {},
   "outputs": [],
   "source": [
    "x = np.array([0, 1, 2, 3, 4])\n",
    "w = 0.1"
   ]
  },
  {
   "cell_type": "code",
   "execution_count": null,
   "metadata": {},
   "outputs": [],
   "source": [
    "# Visualización 1: barras y colores por año para cada producto\n",
    "plt.bar(x[0:2], A2013, width=w, label='2013')\n",
    "plt.bar(x[0:2]+w, A2014, width=w, label = '2014')\n",
    "plt.bar(x[0:3]+2*w, A2015, width=w, label = '2015')\n",
    "plt.bar(x[0:4]+3*w, A2016, width=w, label = '2016')\n",
    "plt.bar(x[0:4]+4*w, A2017, width=w, label = '2017')\n",
    "plt.bar(x[0:5]+5*w, A2018, width=w, label = '2018')\n",
    "plt.bar(x[0:5]+6*w, A2019, width=w, label = '2019')\n",
    "plt.xticks(ticks=[w*3,1+w*3,2+w*4,3+w*4,4+w*5], labels=['Prod A', 'Prod B', 'Prod C', 'Prod D', 'Prod E'])\n",
    "plt.yticks(ticks=[0,100,200,300,400,500], labels=['\\$0','\\$100','\\$200','\\$300','\\$400','\\$500'])\n",
    "plt.title('Los precios han bajado desde la introducción del producto C en 2015', c='blue')\n",
    "plt.suptitle('Precio promedio por año', fontsize=24, y=1.0)\n",
    "plt.legend(loc='lower center', bbox_to_anchor=(0.5, -0.25), ncol=7)\n",
    "plt.grid(axis='y')\n",
    "#plt.savefig('vis00.png',bbox_inches='tight', dpi=150)\n",
    "plt.show()"
   ]
  },
  {
   "cell_type": "markdown",
   "metadata": {},
   "source": [
    "**Observaciones**\n",
    "* Los productos A y B han estado a la venta desde 2013 a 2019.\n",
    "* El producto C comenzó su venta en 2015, el D en 2016 y el E en 2018.\n",
    "* El precio de A y B bajó en 2016, un año después de que entró al mercado el producto C en 2015. Esta observación es importante.\n"
   ]
  },
  {
   "cell_type": "markdown",
   "metadata": {},
   "source": [
    "## Construcción de la historia"
   ]
  },
  {
   "cell_type": "markdown",
   "metadata": {},
   "source": [
    "---\n",
    "### El contexto: ¿Quién? ¿Qué? ¿Cómo?\n",
    "\n",
    "- **¿Quién?**\n",
    "VP (Vice President of product), el que conoce todas las cuestiones técnicas del producto, el que hace la primera decisión para poner el precio. Es a quién se presentará el análisis de los datos.\n",
    "\n",
    "- **¿Qué?**\n",
    "Análisis de cómo el precio de los competidores ha cambiado con el tiempo y recomendar un rango de precios.\n",
    "\n",
    "- **¿Cómo?**\n",
    "Mostrar un precio promedio al menudeo de los productos A, B, C, D y E para diferentes años."
   ]
  },
  {
   "cell_type": "markdown",
   "metadata": {},
   "source": [
    "---\n",
    "#### La idea central\n",
    "\n",
    "- Articular un punto de vista único para transmitir lo que está en juego en un solo enunciado. \n",
    "- Para nuestro ejemplo diríamos algo como lo siguiente:\n",
    "    - “Con base en el análisis de precios del mercado y su cambio en el tiempo, para ser competitivos, se recomienda introducir nuestro producto a un precio al menudeo en el rango $P - Q$.”"
   ]
  },
  {
   "cell_type": "markdown",
   "metadata": {},
   "source": [
    "---\n",
    "#### La historia en 3 minutos\n",
    "- Si solo tuvieras tres minutos para contar tu historia con palabras, ¿cómo lo harías?\n",
    "- Si eres capaz de hacer esto, significa que tienes muy claro lo que deseas contar. \n",
    "    - Intenta hacer esto con tu historia.\n",
    "    - Grábate y escúchate varias veces.\n",
    "    - Repítelo hasta que sientas que lo has logrado.\n",
    "- Tanto la idea central como la historia en 3 minutos,  serán de utilidad para la presentación de tu historia."
   ]
  },
  {
   "cell_type": "markdown",
   "metadata": {},
   "source": [
    "---\n",
    "#### El color\n",
    "- El color puede ayudar a discernir entre valores de datos; pero también puede confundir.\n",
    "- En esta visualización, los colores distraen del objetivo principal: “mostrar el cambio en los precios a lo largo del tiempo”.\n",
    "- Entonces, la primera mejora es eliminar el color, vea la siguiente visualización.\n"
   ]
  },
  {
   "cell_type": "code",
   "execution_count": null,
   "metadata": {},
   "outputs": [],
   "source": [
    "# Visualización 2: eliminamos el color\n",
    "plt.bar(x[0:2], A2013, width=w, label='2013', color='gray')\n",
    "plt.bar(x[0:2]+w, A2014, width=w, label = '2014', color='gray')\n",
    "plt.bar(x[0:3]+2*w, A2015, width=w, label = '2015', color='gray')\n",
    "plt.bar(x[0:4]+3*w, A2016, width=w, label = '2016', color='gray')\n",
    "plt.bar(x[0:4]+4*w, A2017, width=w, label = '2017', color='gray')\n",
    "plt.bar(x[0:5]+5*w, A2018, width=w, label = '2018', color='gray')\n",
    "plt.bar(x[0:5]+6*w, A2019, width=w, label = '2019', color='gray')\n",
    "plt.xticks(ticks=[w*3,1+w*3,2+w*4,3+w*4,4+w*5], labels=['Prod A', 'Prod B', 'Prod C', 'Prod D', 'Prod E'])\n",
    "plt.yticks(ticks=[0,100,200,300,400,500], labels=['\\$0','\\$100','\\$200','\\$300','\\$400','\\$500'])\n",
    "plt.title('Los precios han bajado desde la introducción del producto C en 2015', c='blue')\n",
    "plt.suptitle('Precio promedio por año', fontsize=24, y=1.0)\n",
    "plt.legend(loc='lower center', bbox_to_anchor=(0.5, -0.25), ncol=7)\n",
    "plt.grid(axis='y')\n",
    "plt.show()\n",
    "#plt.savefig('vis01.png',bbox_inches='tight', dpi=150)"
   ]
  },
  {
   "cell_type": "markdown",
   "metadata": {},
   "source": [
    "**Observaciones**\n",
    "- Efectivamente, el color ya no es un distractor, sin embargo, no se distingue la información por años.\n",
    "- De acuerdo con el texto de la primera visualización, vamos a resaltar la información a partir del año 2015, que fue cuando se introdujo el producto C y los precios empezaron a bajar."
   ]
  },
  {
   "cell_type": "code",
   "execution_count": null,
   "metadata": {},
   "outputs": [],
   "source": [
    "# Visualización 3: resaltando informacón\n",
    "plt.bar(x[0:2], A2013, width=w, label='2013', color='gray')\n",
    "plt.bar(x[0:2]+w, A2014, width=w, label = '2014', color='gray')\n",
    "plt.bar(x[0:3]+2*w, A2015, width=w, label = '2015', color='k')\n",
    "plt.bar(x[0:4]+3*w, A2016, width=w, label = '2016', color='k')\n",
    "plt.bar(x[0:4]+4*w, A2017, width=w, label = '2017', color='k')\n",
    "plt.bar(x[0:5]+5*w, A2018, width=w, label = '2018', color='k')\n",
    "plt.bar(x[0:5]+6*w, A2019, width=w, label = '2019', color='k')\n",
    "plt.xticks(ticks=[w*3,1+w*3,2+w*4,3+w*4,4+w*5], labels=['Prod A', 'Prod B', 'Prod C', 'Prod D', 'Prod E'])\n",
    "plt.yticks(ticks=[0,100,200,300,400,500], labels=['\\$0','\\$100','\\$200','\\$300','\\$400','\\$500'])\n",
    "plt.title('Los precios han bajado desde la introducción del producto C en 2015', c='blue')\n",
    "plt.suptitle('Precio promedio por año', fontsize=24, y=1.0)\n",
    "plt.legend(loc='lower center', bbox_to_anchor=(0.5, -0.25), ncol=7)\n",
    "plt.grid(axis='y')\n",
    "plt.show()\n",
    "#plt.savefig('vis03.png',bbox_inches='tight', dpi=150)"
   ]
  },
  {
   "cell_type": "markdown",
   "metadata": {},
   "source": [
    "**Observaciones**\n",
    "- Se nota claramente como los precios de A y de B van en declive después de 2015.\n",
    "- Pero no pasa lo mismo con los productos D y E, que fueron lanzados en años posteriores a C.\n",
    "- Por lo tanto, el texto en azul de la gráfica, no es correcto. Ese texto debe ser corregido en la visualización final.\n"
   ]
  },
  {
   "cell_type": "markdown",
   "metadata": {},
   "source": [
    "---\n",
    "### Eligiendo la estrategia de visualización \n",
    "\n",
    "- Parece que la forma en que se está visualizando la información no es la más adecuada.\n",
    "- Se desea mostrar cómo cambia un precio a lo largo del tiempo y tratar de encontrar una tendencia.\n",
    "- Es posible que usar líneas sea lo más adecuado.\n",
    "    - Adicionalmente, las líneas eliminan el efecto de escalera que se ve en las barras.\n",
    "- Primero necesitamos reacomodar los datos:"
   ]
  },
  {
   "cell_type": "markdown",
   "metadata": {},
   "source": [
    "#### Líneas por cada producto"
   ]
  },
  {
   "cell_type": "code",
   "execution_count": null,
   "metadata": {},
   "outputs": [],
   "source": [
    "A = [395, 420, 430, 390, 300, 275, 260]\n",
    "B = [370, 400, 405, 380, 295, 255, 245]\n",
    "C =           [100, 180, 200, 240, 182]\n",
    "D =                [160, 265, 215, 210]\n",
    "E =                          [100, 205]"
   ]
  },
  {
   "cell_type": "code",
   "execution_count": null,
   "metadata": {},
   "outputs": [],
   "source": [
    "x2 = np.array([i for i in range(7)])"
   ]
  },
  {
   "cell_type": "code",
   "execution_count": null,
   "metadata": {},
   "outputs": [],
   "source": [
    "plt.plot(x2, A, lw=3, color='gray')\n",
    "plt.plot(x2+7, B, lw=3, color='gray')\n",
    "plt.plot(x2[0:5]+14, C, lw=3, color='gray')\n",
    "plt.plot(x2[0:4]+19, D, lw=3, color='gray')\n",
    "plt.plot(x2[0:2]+23, E, lw=3, color='gray')\n",
    "plt.ylim(0,500)\n",
    "plt.xticks(ticks=[2,9,16,20,24], labels=['Prod A', 'Prod B', 'Prod C', 'Prod D', 'Prod E'])\n",
    "plt.yticks(ticks=[0,100,200,300,400,500], labels=['\\$0','\\$100','\\$200','\\$300','\\$400','\\$500'])\n",
    "plt.title('Los precios han bajado desde la introducción del producto C en 2015', c='blue')\n",
    "plt.suptitle('Precio promedio por año', fontsize=24, y=1.0)\n",
    "plt.ylabel('Precio del producto', fontsize=15)\n",
    "plt.xlabel('Año', fontsize=15)\n",
    "plt.text(-0.5,370,'2013', fontsize=14, color='k')\n",
    "plt.text(5.5,240,'2019', fontsize=14, color='k')\n",
    "plt.text(6.5,345,'2013', fontsize=14, color='k')\n",
    "plt.text(12.5,220,'2019', fontsize=14, color='k')\n",
    "plt.text(13.5,80,'2015', fontsize=14, color='k')\n",
    "plt.text(17.0,160,'2019', fontsize=14, color='k')\n",
    "plt.text(18.5,140,'2016', fontsize=14, color='k')\n",
    "plt.text(21.5,190,'2019', fontsize=14, color='k')\n",
    "plt.text(22.5,80,'2018', fontsize=14, color='k')\n",
    "plt.text(23.5,210,'2019', fontsize=14, color='k')\n",
    "plt.grid(axis='y')\n",
    "plt.show()\n",
    "#plt.savefig('vis04.png',bbox_inches='tight', dpi=150)"
   ]
  },
  {
   "cell_type": "markdown",
   "metadata": {},
   "source": [
    "**Observaciones**\n",
    "\n",
    "- Se usa el mismo diseño (ejes, límites, título, …)\n",
    "- Esta visualización permite ver con más claridad lo que sucede con el precio de cada producto a lo largo del tiempo.\n",
    "- Aunque es difícil comparar entre productos.\n",
    "- Si graficamos en un mismo eje x todos los productos obtenemos algo mejor."
   ]
  },
  {
   "cell_type": "markdown",
   "metadata": {},
   "source": [
    "#### Líneas en un mismo eje."
   ]
  },
  {
   "cell_type": "code",
   "execution_count": null,
   "metadata": {},
   "outputs": [],
   "source": [
    "x3 = np.arange(2013,2020,1)\n",
    "x3"
   ]
  },
  {
   "cell_type": "code",
   "execution_count": null,
   "metadata": {},
   "outputs": [],
   "source": [
    "plt.plot(x3, A, lw=3, color='gray')\n",
    "plt.plot(x3, B, lw=3, color='gray')\n",
    "plt.plot(x3[2:], C, lw=3, color='gray')\n",
    "plt.plot(x3[3:], D, lw=3, color='gray')\n",
    "plt.plot(x3[5:], E, lw=3, color='gray')\n",
    "plt.ylim(0,500)\n",
    "plt.yticks(ticks=[0,100,200,300,400,500], labels=['\\$0','\\$100','\\$200','\\$300','\\$400','\\$500'])\n",
    "plt.title('Los precios han bajado desde la introducción del producto C en 2015', c='blue')\n",
    "plt.suptitle('Precio promedio por año', fontsize=24, y=1.0)\n",
    "plt.ylabel('Precio del producto', fontsize=15)\n",
    "plt.xlabel('Año', fontsize=15)\n",
    "plt.grid(axis='y')\n",
    "plt.show()\n",
    "#plt.savefig('vis05.png',bbox_inches='tight', dpi=150)"
   ]
  },
  {
   "cell_type": "markdown",
   "metadata": {},
   "source": [
    "**Observaciones**\n",
    "- Obsérvese que se reduce el desorden y se evita la repetición de etiquetas en las gráficas.\n",
    "- Quizá ahora podamos agregar color (el cual habíamos eliminado antes).\n"
   ]
  },
  {
   "cell_type": "markdown",
   "metadata": {},
   "source": [
    "#### Líneas con color"
   ]
  },
  {
   "cell_type": "code",
   "execution_count": null,
   "metadata": {},
   "outputs": [],
   "source": [
    "plt.plot(x3, A, lw=3, label='Prod A')\n",
    "plt.plot(x3, B, lw=3, label='Prod B')\n",
    "plt.plot(x3[2:], C, lw=3, label='Prod C')\n",
    "plt.plot(x3[3:], D, lw=3, label='Prod D')\n",
    "plt.plot(x3[5:], E, lw=3, label='Prod E')\n",
    "plt.ylim(0,500)\n",
    "plt.yticks(ticks=[0,100,200,300,400,500], labels=['\\$0','\\$100','\\$200','\\$300','\\$400','\\$500'])\n",
    "plt.title('Los precios han bajado desde la introducción del producto C en 2015', c='blue')\n",
    "plt.suptitle('Precio promedio por año', fontsize=24, y=1.0)\n",
    "plt.ylabel('Precio del producto', fontsize=15)\n",
    "plt.xlabel('Año', fontsize=15)\n",
    "plt.legend(loc='lower center', bbox_to_anchor=(0.5, -0.30), ncol=7)\n",
    "plt.grid(axis='y')\n",
    "plt.show()\n",
    "#plt.savefig('vis06.png',bbox_inches='tight', dpi=150)"
   ]
  },
  {
   "cell_type": "markdown",
   "metadata": {},
   "source": [
    "---\n",
    "### Eliminando el desorden\n",
    "\n",
    "- Significa eliminar lo que no aporta información. En nuestro ejemplo tenemos podemos hacer lo siguiente:\n",
    "    - Quitar protagonismo al título, debe estar, pero no debe distraer del objetivo principal; en este caso no necesita estar en texto resaltado (bold).\n",
    "    - Eliminar los bordes de la gráfica y la rejilla.\n",
    "    - Quitar protagonismo a los ejes y sus etiquetas haciéndolas más tenues. \n",
    "    - En este caso no es necesario poner la etiqueta a cada eje, pues de la información se deduce de que se trata.\n",
    "    - Modificar los `xticks` para que coincidan con los años.\n",
    "    - Eliminar el color otra vez; se puede usar de manera estratégica; más adelante se verá cómo.\n",
    "    - Etiquetar las líneas directamente. Esto evita el trabajo visual de la audiencia: ya no tiene que ver primero la leyenda, luego buscar en el gráfico la curva que corresponda, y esto varias veces hasta entender lo que se muestra.\n",
    "\n",
    "\n"
   ]
  },
  {
   "cell_type": "code",
   "execution_count": null,
   "metadata": {},
   "outputs": [],
   "source": [
    "\n",
    "plt.plot(x3, A, lw=3, color='gray')\n",
    "plt.plot(x3, B, lw=3, color='gray')\n",
    "plt.plot(x3[2:], C, lw=3, color='gray')\n",
    "plt.plot(x3[3:], D, lw=3, color='gray')\n",
    "plt.plot(x3[5:], E, lw=3, color='gray')\n",
    "plt.ylim(0,500)\n",
    "plt.yticks(ticks=[0,100,200,300,400,500], labels=['\\$0','\\$100','\\$200','\\$300','\\$400','\\$500'])\n",
    "plt.suptitle('Precio Promedio al Menudeo por Año', fontsize=20, y=1.0)\n",
    "plt.text(x = x3[0]-0.20, y = A[0], s = 'A', fontsize = 18)\n",
    "plt.text(x = x3[0]-0.20, y = B[0]-20, s = 'B', fontsize = 18)\n",
    "plt.text(x = x3[2]-0.20, y = C[0]-20, s = 'C', fontsize = 18)\n",
    "plt.text(x = x3[3]-0.20, y = D[0]-20, s = 'D', fontsize = 18)\n",
    "plt.text(x = x3[5]-0.20, y = E[0]-20, s = 'E', fontsize = 18)\n",
    "\n",
    "axes = plt.gca()\n",
    "axes.spines['right'].set_visible(False)\n",
    "axes.spines['top'].set_visible(False)\n",
    "axes.spines['left'].set_color('gray')\n",
    "axes.spines['bottom'].set_color('gray')\n",
    "axes.tick_params(axis='x', colors='#444444')\n",
    "axes.tick_params(axis='y', colors='#444444')\n",
    "\n",
    "plt.show()\n",
    "#plt.savefig('vis06.png',bbox_inches='tight', dpi=150)"
   ]
  },
  {
   "cell_type": "markdown",
   "metadata": {},
   "source": [
    "**Observación**\n",
    "- Para el objetivo planteado, esta gráfica muestra claramente la tendencia de los precios de los productos A, B, C , D y E a lo largo del tiempo.\n",
    "- Hemos eliminado información que es irrelevante para ese objetivo.\n",
    "Esta visualización se puede usar como un lienzo para posteriormente resaltar algunas cosas de interés.\n"
   ]
  },
  {
   "cell_type": "markdown",
   "metadata": {},
   "source": [
    "---\n",
    "### Enfocar la atención: *preattentive features*\n",
    "- Finalmente llegamos a un punto interesante: enfocar la atención de la audiencia en puntos relevantes mediante el uso estratégico de algunas *preattentive features*.\n",
    "- Consideremos el texto de la visualización inicial: \n",
    "    - **“Los precios han bajado desde la introducción del producto C in 2010.”** \n",
    "    - Este texto se cambiará por: **“Después del lanzamiento del producto C en 2015, el precio promedio al menudeo de los productos existentes ha disminuido.”** Este último es más correcto que el primero.\n",
    "- ¿Cómo se puede demostrar la validez de este último texto usando *preattentive features*?\n",
    "\n",
    "#### Color y marcadores"
   ]
  },
  {
   "cell_type": "code",
   "execution_count": null,
   "metadata": {},
   "outputs": [],
   "source": [
    "plt.plot(x3, A, lw=3, color='gray')\n",
    "plt.plot(x3[2:], A[2:], lw=3, color='royalblue')\n",
    "\n",
    "plt.plot(x3, B, lw=3, color='gray')\n",
    "plt.plot(x3[2:], B[2:], lw=3, color='royalblue')\n",
    "\n",
    "plt.plot(x3[2:], C, lw=3, color='gray')\n",
    "plt.scatter(x3[2], C[0], marker='o', alpha=0.85, ec = 'k', s=75, zorder=5, color='royalblue')\n",
    "\n",
    "plt.plot(x3[3:], D, lw=3, color='gray')\n",
    "plt.plot(x3[5:], E, lw=3, color='gray')\n",
    "\n",
    "plt.ylim(0,500)\n",
    "plt.yticks(ticks=[0,100,200,300,400,500], labels=['\\$0','\\$100','\\$200','\\$300','\\$400','\\$500'])\n",
    "plt.suptitle('Precio Promedio al Menudeo por Año', fontsize=20, y=1.0)\n",
    "\n",
    "plt.text(x = x3[0]-0.20, y = A[0], s = 'A', fontsize = 18)\n",
    "plt.text(x = x3[0]-0.20, y = B[0]-20, s = 'B', fontsize = 18)\n",
    "plt.text(x = x3[2]-0.20, y = C[0]-20, s = 'C', fontsize = 18)\n",
    "plt.text(x = x3[3]-0.20, y = D[0]-20, s = 'D', fontsize = 18)\n",
    "plt.text(x = x3[5]-0.20, y = E[0]-20, s = 'E', fontsize = 18)\n",
    "\n",
    "axes = plt.gca()\n",
    "axes.spines['right'].set_visible(False)\n",
    "axes.spines['top'].set_visible(False)\n",
    "axes.spines['left'].set_color('gray')\n",
    "axes.spines['bottom'].set_color('gray')\n",
    "axes.tick_params(axis='x', colors='#444444')\n",
    "axes.tick_params(axis='y', colors='#444444')\n",
    "\n",
    "plt.show()\n",
    "#plt.savefig('vis06.png',bbox_inches='tight', dpi=150)"
   ]
  },
  {
   "cell_type": "markdown",
   "metadata": {},
   "source": [
    "**Observaciones**\n",
    "\n",
    "- En esta última visualización estamos enfocando la atención del público usando un color sobre las gráficas de los productos A y B: se resalta el descenso del precio.\n",
    "- Adicionalmente, se agrega un marcador con el mismo color en el inicio de la curva del producto C, para indicar cuando se introdujo. \n",
    "- Se ve claramente el inicio de C y qué pasó con A y B posterior a eso.\n",
    "- Se usa el color de manera consistente.\n"
   ]
  },
  {
   "cell_type": "markdown",
   "metadata": {},
   "source": [
    "#### Subida y bajada del precio"
   ]
  },
  {
   "cell_type": "code",
   "execution_count": null,
   "metadata": {},
   "outputs": [],
   "source": [
    "plt.plot(x3, A, lw=3, color='gray')\n",
    "plt.plot(x3[2:], A[2:], lw=3, color='royalblue')\n",
    "plt.plot(x3[0:2], A[0:2], lw=3, color='firebrick')\n",
    "\n",
    "plt.plot(x3, B, lw=3, color='gray')\n",
    "plt.plot(x3[2:], B[2:], lw=3, color='royalblue')\n",
    "plt.plot(x3[0:2], B[0:2], lw=3, color='firebrick')\n",
    "\n",
    "plt.plot(x3[2:], C, lw=3, color='gray')\n",
    "plt.plot(x3[5:], C[3:], lw=3, color='royalblue')\n",
    "plt.plot(x3[2:4], C[0:2], lw=3, color='firebrick')\n",
    "\n",
    "plt.plot(x3[3:], D, lw=3, color='gray')\n",
    "plt.plot(x3[4:], D[1:], lw=3, color='royalblue')\n",
    "\n",
    "plt.plot(x3[5:], E, lw=3, color='firebrick')\n",
    "\n",
    "plt.ylim(0,500)\n",
    "plt.yticks(ticks=[0,100,200,300,400,500], labels=['\\$0','\\$100','\\$200','\\$300','\\$400','\\$500'])\n",
    "plt.suptitle('Precio Promedio al Menudeo por Año', fontsize=20, y=1.0)\n",
    "\n",
    "plt.text(x = x3[0]-0.20, y = A[0], s = 'A', fontsize = 18)\n",
    "plt.text(x = x3[0]-0.20, y = B[0]-20, s = 'B', fontsize = 18)\n",
    "plt.text(x = x3[2]-0.20, y = C[0]-20, s = 'C', fontsize = 18)\n",
    "plt.text(x = x3[3]-0.20, y = D[0]-20, s = 'D', fontsize = 18)\n",
    "plt.text(x = x3[5]-0.20, y = E[0]-20, s = 'E', fontsize = 18)\n",
    "\n",
    "axes = plt.gca()\n",
    "axes.spines['right'].set_visible(False)\n",
    "axes.spines['top'].set_visible(False)\n",
    "axes.spines['left'].set_color('gray')\n",
    "axes.spines['bottom'].set_color('gray')\n",
    "axes.tick_params(axis='x', colors='#444444')\n",
    "axes.tick_params(axis='y', colors='#444444')\n",
    "\n",
    "plt.show()\n",
    "#plt.savefig('vis06.png',bbox_inches='tight', dpi=150)"
   ]
  },
  {
   "cell_type": "markdown",
   "metadata": {},
   "source": [
    "**Observaciones**\n",
    "\n",
    "En esta gráfica se muestra que usando la misma estrategia, se puede resaltar el hecho de que: con el lanzamiento de un nuevo producto, es típico ver un ascenso inicial (parte roja) del precio promedio al menudeo, seguido de un descenso (parte azul).\n"
   ]
  },
  {
   "cell_type": "markdown",
   "metadata": {},
   "source": [
    "#### Precio final"
   ]
  },
  {
   "cell_type": "code",
   "execution_count": null,
   "metadata": {},
   "outputs": [],
   "source": [
    "plt.plot(x3, A, lw=3, color='gray')\n",
    "plt.scatter(x3[-1], A[-1], marker='o', alpha=0.85, ec = 'k', s=75, zorder=5, color='royalblue')\n",
    "\n",
    "plt.plot(x3, B, lw=3, color='gray')\n",
    "plt.scatter(x3[-1], B[-1], marker='o', alpha=0.85, ec = 'k',s=75, zorder=5, color='royalblue')\n",
    "\n",
    "plt.plot(x3[2:], C, lw=3, color='gray')\n",
    "plt.scatter(x3[-1], C[-1], marker='o', alpha=0.85, ec = 'k',s=75, zorder=5, color='royalblue')\n",
    "\n",
    "plt.plot(x3[3:], D, lw=3, color='gray')\n",
    "plt.scatter(x3[-1], D[-1], marker='o', alpha=0.85, ec = 'k',s=75, zorder=5, color='royalblue')\n",
    "\n",
    "plt.plot(x3[5:], E, lw=3, color='gray')\n",
    "plt.scatter(x3[-1], E[-1], marker='o', alpha=0.85, ec = 'k',s=75, zorder=5, color='royalblue')\n",
    "\n",
    "plt.ylim(0,500)\n",
    "plt.yticks(ticks=[0,100,200,300,400,500], labels=['\\$0','\\$100','\\$200','\\$300','\\$400','\\$500'])\n",
    "plt.suptitle('Precio Promedio al Menudeo por Año', fontsize=20, y=1.0)\n",
    "\n",
    "plt.text(x = x3[0]-0.20, y = A[0], s = 'A', fontsize = 18)\n",
    "plt.text(x = x3[0]-0.20, y = B[0]-20, s = 'B', fontsize = 18)\n",
    "plt.text(x = x3[2]-0.20, y = C[0]-20, s = 'C', fontsize = 18)\n",
    "plt.text(x = x3[3]-0.20, y = D[0]-20, s = 'D', fontsize = 18)\n",
    "plt.text(x = x3[5]-0.20, y = E[0]-20, s = 'E', fontsize = 18)\n",
    "\n",
    "axes = plt.gca()\n",
    "axes.spines['right'].set_visible(False)\n",
    "axes.spines['top'].set_visible(False)\n",
    "axes.spines['left'].set_color('gray')\n",
    "axes.spines['bottom'].set_color('gray')\n",
    "axes.tick_params(axis='x', colors='#444444')\n",
    "axes.tick_params(axis='y', colors='#444444')\n",
    "\n",
    "plt.show()\n",
    "#plt.savefig('vis06.png',bbox_inches='tight', dpi=150)"
   ]
  },
  {
   "cell_type": "markdown",
   "metadata": {},
   "source": [
    "**Observación**\n",
    "\n",
    "- En esta gráfica se muestra que: en 2019, los precios de todos los productos al menudeo, van convergiendo,\n",
    "al intervalo de  \\[180, 260\\] con un promedio de 223.\n",
    "\n",
    "- Quizá sea necesario agregar estos números en el gráfico para mayor claridad.\n",
    "\n",
    "- Se usan marcadores y colores para llevar nuestra atención hacia los precios finales.\n",
    "\n"
   ]
  },
  {
   "cell_type": "markdown",
   "metadata": {},
   "source": [
    "### Pensar como diseñador\n",
    "\n",
    "- Durante todo el proceso hemos estado pensando como diseñadores, pensando en los colores, las líneas, los marcadores y toda la decoración de la gráfica, y cómo resaltar lo que es importante.\n",
    "- Se puede hacer un poco más:\n",
    "    - Agregar textos simples a los ejes. Se debe tener cuidado con el uso de mayúsculas, solo poner mayúscula la primera letra de un título.\n",
    "    - Alinear cada elemento, en este caso, los títulos.\n",
    "\n"
   ]
  },
  {
   "cell_type": "code",
   "execution_count": null,
   "metadata": {},
   "outputs": [],
   "source": [
    "plt.plot(x3, A, lw=3, color='gray')\n",
    "plt.plot(x3, B, lw=3, color='gray')\n",
    "plt.plot(x3[2:], C, lw=3, color='gray')\n",
    "plt.plot(x3[3:], D, lw=3, color='gray')\n",
    "plt.plot(x3[5:], E, lw=3, color='gray')\n",
    "\n",
    "plt.ylim(0,500)\n",
    "plt.yticks(ticks=[0,100,200,300,400,500], labels=['\\$0','\\$100','\\$200','\\$300','\\$400','\\$500'])\n",
    "plt.suptitle('Precio al menudeo por año', fontsize=20, x = 0.2, y=1.0)\n",
    "\n",
    "plt.text(x = x3[0]-0.20, y = A[0], s = 'A', fontsize = 18)\n",
    "plt.text(x = x3[0]-0.20, y = B[0]-20, s = 'B', fontsize = 18)\n",
    "plt.text(x = x3[2]-0.20, y = C[0]-20, s = 'C', fontsize = 18)\n",
    "plt.text(x = x3[3]-0.20, y = D[0]-20, s = 'D', fontsize = 18)\n",
    "plt.text(x = x3[5]-0.20, y = E[0]-20, s = 'E', fontsize = 18)\n",
    "\n",
    "axes = plt.gca()\n",
    "axes.spines['right'].set_visible(False)\n",
    "axes.spines['top'].set_visible(False)\n",
    "axes.spines['left'].set_color('gray')\n",
    "axes.spines['bottom'].set_color('gray')\n",
    "axes.tick_params(axis='x', colors='#444444')\n",
    "axes.tick_params(axis='y', colors='#444444')\n",
    "\n",
    "plt.show()\n",
    "#plt.savefig('vis06.png',bbox_inches='tight', dpi=150)"
   ]
  },
  {
   "cell_type": "markdown",
   "metadata": {},
   "source": [
    "### Contar la historia final"
   ]
  },
  {
   "cell_type": "code",
   "execution_count": null,
   "metadata": {},
   "outputs": [],
   "source": [
    "plt.scatter(x3[0], A[0], marker='o', alpha=0.85, ec = 'k', s=75, zorder=5, color='royalblue')\n",
    "plt.plot(x3, A, lw=3, color='white')\n",
    "plt.scatter(x3[0], B[0], marker='o', alpha=0.85, ec = 'k', s=75, zorder=5, color='royalblue')\n",
    "plt.plot(x3, B, lw=3, color='white')\n",
    "\n",
    "plt.ylim(0,500)\n",
    "plt.yticks(ticks=[0,100,200,300,400,500], labels=['\\$0','\\$100','\\$200','\\$300','\\$400','\\$500'])\n",
    "plt.suptitle('Precio al menudeo por año', fontsize=20, x = 0.2, y=1.0)\n",
    "\n",
    "plt.text(x = x3[0]-0.20, y = A[0], s = 'A', fontsize = 18)\n",
    "plt.text(x = x3[0]-0.20, y = B[0]-20, s = 'B', fontsize = 18)\n",
    "\n",
    "axes = plt.gca()\n",
    "axes.spines['right'].set_visible(False)\n",
    "axes.spines['top'].set_visible(False)\n",
    "axes.spines['left'].set_color('gray')\n",
    "axes.spines['bottom'].set_color('gray')\n",
    "axes.tick_params(axis='x', colors='#444444')\n",
    "axes.tick_params(axis='y', colors='#444444')\n",
    "#plt.savefig('his01.png',bbox_inches='tight', dpi=150)\n",
    "plt.show()"
   ]
  },
  {
   "cell_type": "code",
   "execution_count": null,
   "metadata": {},
   "outputs": [],
   "source": [
    "plt.plot(x3, A, lw=3, color='royalblue')\n",
    "plt.plot(x3, B, lw=3, color='royalblue')\n",
    "\n",
    "plt.ylim(0,500)\n",
    "plt.yticks(ticks=[0,100,200,300,400,500], labels=['\\$0','\\$100','\\$200','\\$300','\\$400','\\$500'])\n",
    "plt.suptitle('Precio al menudeo por año', fontsize=20, x = 0.2, y=1.0)\n",
    "\n",
    "plt.text(x = x3[0]-0.20, y = A[0], s = 'A', fontsize = 18)\n",
    "plt.text(x = x3[0]-0.20, y = B[0]-20, s = 'B', fontsize = 18)\n",
    "\n",
    "axes = plt.gca()\n",
    "axes.spines['right'].set_visible(False)\n",
    "axes.spines['top'].set_visible(False)\n",
    "axes.spines['left'].set_color('gray')\n",
    "axes.spines['bottom'].set_color('gray')\n",
    "axes.tick_params(axis='x', colors='#444444')\n",
    "axes.tick_params(axis='y', colors='#444444')\n",
    "#plt.savefig('his02.png',bbox_inches='tight', dpi=150)\n",
    "plt.show()\n"
   ]
  },
  {
   "cell_type": "code",
   "execution_count": null,
   "metadata": {},
   "outputs": [],
   "source": [
    "plt.scatter(x3[-1], A[-1], marker='o', alpha=0.85, ec = 'k', s=75, zorder=5, color='royalblue')\n",
    "plt.plot(x3, A, lw=3, color='gray')\n",
    "plt.scatter(x3[-1], B[-1], marker='o', alpha=0.85, ec = 'k', s=75, zorder=5, color='royalblue')\n",
    "plt.plot(x3, B, lw=3, color='gray')\n",
    "\n",
    "plt.ylim(0,500)\n",
    "plt.yticks(ticks=[0,100,200,300,400,500], labels=['\\$0','\\$100','\\$200','\\$300','\\$400','\\$500'])\n",
    "plt.suptitle('Precio al menudeo por año', fontsize=20, x = 0.2, y=1.0)\n",
    "\n",
    "plt.text(x = x3[0]-0.20, y = A[0], s = 'A', fontsize = 18)\n",
    "plt.text(x = x3[0]-0.20, y = B[0]-20, s = 'B', fontsize = 18)\n",
    "\n",
    "axes = plt.gca()\n",
    "axes.spines['right'].set_visible(False)\n",
    "axes.spines['top'].set_visible(False)\n",
    "axes.spines['left'].set_color('gray')\n",
    "axes.spines['bottom'].set_color('gray')\n",
    "axes.tick_params(axis='x', colors='#444444')\n",
    "axes.tick_params(axis='y', colors='#444444')\n",
    "#plt.savefig('his03.png',bbox_inches='tight', dpi=150)\n",
    "plt.show()\n"
   ]
  },
  {
   "cell_type": "code",
   "execution_count": null,
   "metadata": {},
   "outputs": [],
   "source": [
    "plt.plot(x3, A, lw=3, color='gray')\n",
    "plt.plot(x3, B, lw=3, color='gray')\n",
    "\n",
    "plt.scatter(x3[2], C[0], marker='o', alpha=0.85, ec = 'k', s=75, zorder=5, color='royalblue')\n",
    "plt.scatter(x3[3], D[0], marker='o', alpha=0.85, ec = 'k', s=75, zorder=5, color='royalblue')\n",
    "plt.scatter(x3[5], E[0], marker='o', alpha=0.85, ec = 'k', s=75, zorder=5, color='royalblue')\n",
    "\n",
    "\n",
    "plt.ylim(0,500)\n",
    "plt.yticks(ticks=[0,100,200,300,400,500], labels=['\\$0','\\$100','\\$200','\\$300','\\$400','\\$500'])\n",
    "plt.suptitle('Precio al menudeo por año', fontsize=20, x = 0.2, y=1.0)\n",
    "\n",
    "plt.text(x = x3[0]-0.20, y = A[0], s = 'A', fontsize = 18)\n",
    "plt.text(x = x3[0]-0.20, y = B[0]-20, s = 'B', fontsize = 18)\n",
    "plt.text(x = x3[2]-0.20, y = C[0]-20, s = 'C', fontsize = 18)\n",
    "plt.text(x = x3[3]-0.20, y = D[0]-20, s = 'D', fontsize = 18)\n",
    "plt.text(x = x3[5]-0.20, y = E[0]-20, s = 'E', fontsize = 18)\n",
    "\n",
    "axes = plt.gca()\n",
    "axes.spines['right'].set_visible(False)\n",
    "axes.spines['top'].set_visible(False)\n",
    "axes.spines['left'].set_color('gray')\n",
    "axes.spines['bottom'].set_color('gray')\n",
    "axes.tick_params(axis='x', colors='#444444')\n",
    "axes.tick_params(axis='y', colors='#444444')\n",
    "#plt.savefig('his04.png',bbox_inches='tight', dpi=150)\n",
    "plt.show()"
   ]
  },
  {
   "cell_type": "code",
   "execution_count": null,
   "metadata": {},
   "outputs": [],
   "source": [
    "#plt.plot(x3, A, lw=3, color='gray')\n",
    "plt.plot(x3[:3], A[:3], lw=3, color='firebrick')\n",
    "plt.scatter(x3[0], A[0], marker='o', alpha=0.85, ec = 'k', s=75, zorder=5, color='k')\n",
    "\n",
    "#plt.plot(x3, B, lw=3, color='gray')\n",
    "plt.plot(x3[:3], B[:3], lw=3, color='firebrick')\n",
    "plt.scatter(x3[0], B[0], marker='o', alpha=0.85, ec = 'k', s=75, zorder=5, color='k')\n",
    "\n",
    "#plt.plot(x3[2:], C, lw=3, color='gray')\n",
    "plt.plot(x3[2:-1], C[:-1], lw=3, color='firebrick')\n",
    "\n",
    "#plt.plot(x3[3:], D, lw=3, color='gray')\n",
    "plt.plot(x3[3:-2], D[:-2], lw=3, color='firebrick')\n",
    "\n",
    "plt.plot(x3[5:], E, lw=3, color='firebrick')\n",
    "\n",
    "plt.scatter(x3[2], C[0], marker='o', alpha=0.85, ec = 'k', s=75, zorder=5, color='k')\n",
    "plt.scatter(x3[3], D[0], marker='o', alpha=0.85, ec = 'k', s=75, zorder=5, color='k')\n",
    "plt.scatter(x3[5], E[0], marker='o', alpha=0.85, ec = 'k', s=75, zorder=5, color='k')\n",
    "\n",
    "\n",
    "plt.ylim(0,500)\n",
    "plt.yticks(ticks=[0,100,200,300,400,500], labels=['\\$0','\\$100','\\$200','\\$300','\\$400','\\$500'])\n",
    "plt.suptitle('Precio al menudeo por año', fontsize=20, x = 0.2, y=1.0)\n",
    "\n",
    "plt.text(x = x3[0]-0.20, y = A[0], s = 'A', fontsize = 18)\n",
    "plt.text(x = x3[0]-0.20, y = B[0]-20, s = 'B', fontsize = 18)\n",
    "plt.text(x = x3[2]-0.20, y = C[0]-20, s = 'C', fontsize = 18)\n",
    "plt.text(x = x3[3]-0.20, y = D[0]-20, s = 'D', fontsize = 18)\n",
    "plt.text(x = x3[5]-0.20, y = E[0]-20, s = 'E', fontsize = 18)\n",
    "\n",
    "axes = plt.gca()\n",
    "axes.spines['right'].set_visible(False)\n",
    "axes.spines['top'].set_visible(False)\n",
    "axes.spines['left'].set_color('gray')\n",
    "axes.spines['bottom'].set_color('gray')\n",
    "axes.tick_params(axis='x', colors='#444444')\n",
    "axes.tick_params(axis='y', colors='#444444')\n",
    "#plt.savefig('his05.png',bbox_inches='tight', dpi=150)\n",
    "plt.show()"
   ]
  },
  {
   "cell_type": "code",
   "execution_count": null,
   "metadata": {},
   "outputs": [],
   "source": [
    "plt.plot(x3, A, lw=3, color='royalblue')\n",
    "plt.plot(x3[:3], A[:3], lw=3, color='firebrick')\n",
    "plt.scatter(x3[0], A[0], marker='o', alpha=0.85, ec = 'k', s=75, zorder=5, color='k')\n",
    "\n",
    "plt.plot(x3, B, lw=3, color='royalblue')\n",
    "plt.plot(x3[:3], B[:3], lw=3, color='firebrick')\n",
    "plt.scatter(x3[0], B[0], marker='o', alpha=0.85, ec = 'k', s=75, zorder=5, color='k')\n",
    "\n",
    "plt.plot(x3[2:], C, lw=3, color='royalblue')\n",
    "plt.plot(x3[2:-1], C[:-1], lw=3, color='firebrick')\n",
    "\n",
    "plt.plot(x3[3:], D, lw=3, color='royalblue')\n",
    "plt.plot(x3[3:-2], D[:-2], lw=3, color='firebrick')\n",
    "\n",
    "plt.plot(x3[5:], E, lw=3, color='firebrick')\n",
    "\n",
    "plt.scatter(x3[2], C[0], marker='o', alpha=0.85, ec = 'k', s=75, zorder=5, color='k')\n",
    "plt.scatter(x3[3], D[0], marker='o', alpha=0.85, ec = 'k', s=75, zorder=5, color='k')\n",
    "plt.scatter(x3[5], E[0], marker='o', alpha=0.85, ec = 'k', s=75, zorder=5, color='k')\n",
    "\n",
    "\n",
    "plt.ylim(0,500)\n",
    "plt.yticks(ticks=[0,100,200,300,400,500], labels=['\\$0','\\$100','\\$200','\\$300','\\$400','\\$500'])\n",
    "plt.suptitle('Precio al menudeo por año', fontsize=20, x = 0.2, y=1.0)\n",
    "\n",
    "plt.text(x = x3[0]-0.20, y = A[0], s = 'A', fontsize = 18)\n",
    "plt.text(x = x3[0]-0.20, y = B[0]-20, s = 'B', fontsize = 18)\n",
    "plt.text(x = x3[2]-0.20, y = C[0]-20, s = 'C', fontsize = 18)\n",
    "plt.text(x = x3[3]-0.20, y = D[0]-20, s = 'D', fontsize = 18)\n",
    "plt.text(x = x3[5]-0.20, y = E[0]-20, s = 'E', fontsize = 18)\n",
    "\n",
    "axes = plt.gca()\n",
    "axes.spines['right'].set_visible(False)\n",
    "axes.spines['top'].set_visible(False)\n",
    "axes.spines['left'].set_color('gray')\n",
    "axes.spines['bottom'].set_color('gray')\n",
    "axes.tick_params(axis='x', colors='#444444')\n",
    "axes.tick_params(axis='y', colors='#444444')\n",
    "#plt.savefig('his06.png',bbox_inches='tight', dpi=150)\n",
    "plt.show()\n"
   ]
  },
  {
   "cell_type": "code",
   "execution_count": null,
   "metadata": {},
   "outputs": [],
   "source": [
    "plt.plot(x3, A, lw=3, color='gray')\n",
    "plt.scatter(x3[-1], A[-1], marker='o', alpha=0.85, ec = 'k', s=75, zorder=5, color='royalblue')\n",
    "\n",
    "plt.plot(x3, B, lw=3, color='gray')\n",
    "plt.scatter(x3[-1], B[-1], marker='o', alpha=0.85, ec = 'k',s=75, zorder=5, color='royalblue')\n",
    "\n",
    "plt.plot(x3[2:], C, lw=3, color='gray')\n",
    "plt.scatter(x3[-1], C[-1], marker='o', alpha=0.85, ec = 'k',s=75, zorder=5, color='royalblue')\n",
    "\n",
    "plt.plot(x3[3:], D, lw=3, color='gray')\n",
    "plt.scatter(x3[-1], D[-1], marker='o', alpha=0.85, ec = 'k',s=75, zorder=5, color='royalblue')\n",
    "\n",
    "plt.plot(x3[5:], E, lw=3, color='gray')\n",
    "plt.scatter(x3[-1], E[-1], marker='o', alpha=0.85, ec = 'k',s=75, zorder=5, color='royalblue')\n",
    "\n",
    "plt.ylim(0,500)\n",
    "plt.yticks(ticks=[0,100,300,400,500], labels=['\\$0','\\$100','\\$300','\\$400','\\$500'])\n",
    "plt.suptitle('Precio al menudeo por año', fontsize=20, x = 0.2, y=1.0)\n",
    "\n",
    "plt.text(x = x3[0]-0.20, y = A[0], s = 'A', fontsize = 18)\n",
    "plt.text(x = x3[0]-0.20, y = B[0]-20, s = 'B', fontsize = 18)\n",
    "plt.text(x = x3[2]-0.20, y = C[0]-20, s = 'C', fontsize = 18)\n",
    "plt.text(x = x3[3]-0.20, y = D[0]-20, s = 'D', fontsize = 18)\n",
    "plt.text(x = x3[5]-0.20, y = E[0]-20, s = 'E', fontsize = 18)\n",
    "\n",
    "axes = plt.gca()\n",
    "axes.spines['right'].set_visible(False)\n",
    "axes.spines['top'].set_visible(False)\n",
    "axes.spines['left'].set_color('gray')\n",
    "axes.spines['bottom'].set_color('gray')\n",
    "axes.tick_params(axis='x', colors='#444444')\n",
    "axes.tick_params(axis='y', colors='#444444')\n",
    "\n",
    "left, bottom, width, height = (2012, 150, 8, 50)\n",
    "rect = plt.Rectangle((left, bottom), width, height,\n",
    "                     facecolor=\"black\", alpha=0.1)\n",
    "axes.add_patch(rect)\n",
    "plt.text(x = x3[0], y = 165, s = 'Rango de precios de introducción', fontsize = 14, color='navy')\n",
    "plt.text(x = 2012.25, y = 145, s = f'\\$150', fontsize = 16, color='navy')\n",
    "plt.text(x = 2012.25, y = 190, s = f'\\$200', fontsize = 16, color='navy')\n",
    "#plt.savefig('his07.png',bbox_inches='tight', dpi=150)\n",
    "plt.show()\n"
   ]
  },
  {
   "cell_type": "code",
   "execution_count": null,
   "metadata": {},
   "outputs": [],
   "source": []
  }
 ],
 "metadata": {
  "kernelspec": {
   "display_name": "Python 3",
   "language": "python",
   "name": "python3"
  },
  "language_info": {
   "codemirror_mode": {
    "name": "ipython",
    "version": 3
   },
   "file_extension": ".py",
   "mimetype": "text/x-python",
   "name": "python",
   "nbconvert_exporter": "python",
   "pygments_lexer": "ipython3",
   "version": "3.8.8"
  }
 },
 "nbformat": 4,
 "nbformat_minor": 4
}
