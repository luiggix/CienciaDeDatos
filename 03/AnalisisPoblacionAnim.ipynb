{
 "cells": [
  {
   "cell_type": "markdown",
   "id": "aea44159-0316-4b25-a55b-e2cf1b7ed7d4",
   "metadata": {},
   "source": [
    "# Práctica 3: Análisis de la población mundial (animación)\n",
    "\n",
    "**Módulo 14: Storytelling en ciencia de datos**\n",
    "\n",
    "**Diplomado en Ciencia de Datos**\n",
    "\n",
    "**DGTIC, Universidad Nacional Autónoma de México**\n",
    "\n",
    "This tutorial by Luis M. de la Cruz Salas is licensed under <a href=\"https://creativecommons.org/licenses/by-nc-nd/4.0?ref=chooser-v1\">Attribution-NonCommercial-NoDerivatives 4.0 International</a>"
   ]
  },
  {
   "cell_type": "code",
   "execution_count": null,
   "id": "c5dde828-b140-4b17-b295-00a4008c4be7",
   "metadata": {},
   "outputs": [],
   "source": [
    "import pandas as pd\n",
    "import matplotlib.pyplot as plt\n",
    "import matplotlib.colors as mcolors\n",
    "#\n",
    "# El módulo utils contiene las funciones que se usarán en esta práctica.\n",
    "#\n",
    "from utils import maxminTicks, inicializaGrafica, graficaTFR, graficaTFR_Pais\n",
    "#\n",
    "# Para la animación necesitamos: FuncAnimation\n",
    "# y writers es para guardar la animación en un archivo.\n",
    "#\n",
    "from matplotlib.animation import FuncAnimation, writers\n",
    "plt.style.use('Solarize_Light2')"
   ]
  },
  {
   "cell_type": "code",
   "execution_count": null,
   "id": "ad90e72c-dc7c-47ef-a92e-b50722fd571b",
   "metadata": {},
   "outputs": [],
   "source": [
    "#\n",
    "# Función que se usa para modificar los valores de la curva que se va a animar.\n",
    "#\n",
    "def dibuja(i, ax, linea, linea_glow, texto, x, y):\n",
    "    \"\"\"\n",
    "    Modifica los valores de la curva que se va a animar.\n",
    "    \n",
    "    También modifica los títulos y algunos textos que se ponen sobre la gráfica.\n",
    "\n",
    "    Parameters\n",
    "    ----------\n",
    "    i : int\n",
    "        Indica el cuadro en el que va la animación.\n",
    "    ax : Axes\n",
    "        Ejes de la gráfica.\n",
    "    linea : Line2D\n",
    "        Línea base de la curva del país que se va a animar.\n",
    "    linea_glow : Line2D\n",
    "        Línea para el glow de la curva del país que se va a animar.\n",
    "    texto : Annotation\n",
    "        Texto sobre la curva.\n",
    "    x : Serie\n",
    "        Datos de los años.\n",
    "    y : Serie\n",
    "        Datos de la fertilidad.\n",
    "    \"\"\"\n",
    "    #\n",
    "    # Este límite permite definir hasta que punto se dibuja la curva.\n",
    "    #\n",
    "    limit = 14 - (i + 1)\n",
    "    #\n",
    "    # Se actualizan los datos de las curvas, la base y el glow.\n",
    "    #\n",
    "    linea.set_data(x[limit:14], y[limit:14])\n",
    "    linea_glow.set_data(x[limit:14], y[limit:14])\n",
    "    #\n",
    "    # Se actualiza el título de la gráfica con la info de los años.\n",
    "    #\n",
    "    title_graf = x.iloc[limit]\n",
    "    ax.set_title(title_graf)\n",
    "    #\n",
    "    # Se actualiza el texto que va sobre la curva.\n",
    "    #\n",
    "    xt = x.iloc[limit]\n",
    "    yt = y.iloc[limit]\n",
    "    texto.set_position( (xt,yt) )\n",
    "    texto.set_text('México {:3.2f}'.format(y.iloc[limit]))"
   ]
  },
  {
   "cell_type": "code",
   "execution_count": null,
   "id": "ff4b6038-2ca4-4e14-b125-d9e779509bd7",
   "metadata": {},
   "outputs": [],
   "source": [
    "#\n",
    "# Obtenemos la información, que es la misma de la práctica 1.\n",
    "#\n",
    "TFR = pd.read_csv('../Datos/UNdata_Export_20211229_175420412.zip')"
   ]
  },
  {
   "cell_type": "code",
   "execution_count": null,
   "id": "45699ed1-3abe-4cee-b519-0366d85123c5",
   "metadata": {},
   "outputs": [],
   "source": [
    "#\n",
    "# Se agrupa por país \n",
    "#\n",
    "paises = TFR.groupby('Country or Area')"
   ]
  },
  {
   "cell_type": "code",
   "execution_count": null,
   "id": "5408faba-5a5b-48af-986e-bbe1b0624e84",
   "metadata": {},
   "outputs": [],
   "source": [
    "#\n",
    "# Calculamos el máximo en el eje `y` para definir los `yticks`.\n",
    "#\n",
    "p_max, y_max, p_min, y_min, yticks = maxminTicks(TFR)\n",
    "print('Máximo = {}, \\t País : {}'.format(y_max, p_max))\n",
    "print('Mínimo = {}, \\t País : {}'.format(y_min, p_min))\n",
    "print('yticks : {}'.format(yticks))"
   ]
  },
  {
   "cell_type": "code",
   "execution_count": null,
   "id": "c074819a-6a25-4cf2-8f26-2cbd1fae0c89",
   "metadata": {},
   "outputs": [],
   "source": [
    "#\n",
    "# Definimos un conjunto de países a ser graficados y sus colores correspondientes. \n",
    "# \n",
    "paises_colores = {\n",
    "    p_max                      : 'red',      \n",
    "    'United States of America' : 'mediumblue',\n",
    "    'Japan'                    : mcolors.TABLEAU_COLORS['tab:green'],\n",
    "    'Germany'                  : 'maroon',\n",
    "    p_min                      : '#0099FF',\n",
    "    'Egypt'                    : 'darkorange',\n",
    "    'Argentina'                : 'darkviolet',\n",
    "    'Nigeria'                  : 'forestgreen',\n",
    "    'World'                    : mcolors.BASE_COLORS['k']\n",
    "}"
   ]
  },
  {
   "cell_type": "code",
   "execution_count": null,
   "id": "30b2cc07-99c3-4b26-afa7-bd71bff9a34e",
   "metadata": {},
   "outputs": [],
   "source": [
    "#%matplotlib qt\n",
    "#\n",
    "# Hacemos la gráfica base\n",
    "#\n",
    "fig, ejes = inicializaGrafica(y_max, yticks)\n",
    "graficaTFR(paises, {'lw':0.5, 'c':'lightgray'})\n",
    "#\n",
    "# Realizamos las gráficas de los países elegidos.\n",
    "#\n",
    "for p, c in paises_colores.items():\n",
    "    par = {'lw':2.0, 'c':c, 'marker':''}\n",
    "    graficaTFR_Pais(paises, p, 0, par)\n",
    "#\n",
    "# Dibujamos el primer dato de México\n",
    "#\n",
    "mex_color = '#002241'                         # Color\n",
    "par = {'lw':3.0, 'c':mex_color, 'marker':'o'} # Parámetro de la curva\n",
    "par_glow = {'alpha':0.4, 'c':mex_color}       # Parámetros para el 'glow'\n",
    "#\n",
    "# Se hace la gráfica de México desde el lugar 13 hasta el 14.\n",
    "# En l, lg y t1 tendremos la líneas y el texto que se modificarán durante\n",
    "# la animación.\n",
    "#\n",
    "l, lg, t1 = graficaTFR_Pais(paises, 'Mexico', 13, par, par_glow, 3) \n",
    "#\n",
    "# Definimos el país a animar y realizamos la animación\n",
    "#\n",
    "mexico = paises.get_group('Mexico')\n",
    "\n",
    "anim = FuncAnimation(fig,     # La figura donde se hace la animación\n",
    "                      dibuja,  # la función que actualiza la info que se dibuja\n",
    "                      fargs=(ejes, l, lg, t1,   # Argumentos para la función\n",
    "                            mexico['Year(s)'], # dibuja()\n",
    "                            mexico['Value'], ),\n",
    "                      interval=500,  # Tiempo en milisegundos entre cada cuadro.\n",
    "                      frames=14,     # Número de iteraciones (Cuadros)\n",
    "                      repeat=True)   # Permite poner la animación en un ciclo \n",
    "\n",
    "# Lo siguiente es para guardar la animación en un archivo en formato MP4.\n",
    "Writer = writers['ffmpeg']\n",
    "writer = Writer(fps=3, metadata=dict(artist='Me'), bitrate=1800)\n",
    "anim.save('fert.mp4', writer=writer)\n",
    "\n",
    "# También es posible guardar el video en un GIF como sigue\n",
    "anim.save('fert.gif', writer='imagemagick', fps=3)\n",
    "\n",
    "#plt.show()"
   ]
  },
  {
   "cell_type": "code",
   "execution_count": null,
   "id": "2b7040ca-e9fc-4922-a0f9-8771f741e3bb",
   "metadata": {},
   "outputs": [],
   "source": [
    "from IPython.display import Image,Video"
   ]
  },
  {
   "cell_type": "code",
   "execution_count": null,
   "id": "84c7d603-e8df-4a7a-a6b0-7d45d07072df",
   "metadata": {},
   "outputs": [],
   "source": [
    "Image('fert.gif', width=500)  "
   ]
  },
  {
   "cell_type": "code",
   "execution_count": null,
   "id": "15969bde-6fcf-4534-8a9d-76c882a4c508",
   "metadata": {},
   "outputs": [],
   "source": [
    "Video('fert.mp4', width=500)"
   ]
  },
  {
   "cell_type": "code",
   "execution_count": null,
   "id": "8b3f5449-112a-4e59-b983-853e67a5d0f3",
   "metadata": {},
   "outputs": [],
   "source": []
  }
 ],
 "metadata": {
  "kernelspec": {
   "display_name": "Python 3",
   "language": "python",
   "name": "python3"
  },
  "language_info": {
   "codemirror_mode": {
    "name": "ipython",
    "version": 3
   },
   "file_extension": ".py",
   "mimetype": "text/x-python",
   "name": "python",
   "nbconvert_exporter": "python",
   "pygments_lexer": "ipython3",
   "version": "3.8.8"
  }
 },
 "nbformat": 4,
 "nbformat_minor": 5
}
