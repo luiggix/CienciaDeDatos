{
 "cells": [
  {
   "cell_type": "markdown",
   "id": "604d07ca-d802-46df-87e7-67688258e4db",
   "metadata": {},
   "source": [
    "# Práctica 5: Análisis de población con Bokeh\n",
    "\n",
    "**Módulo 14: Storytelling en ciencia de datos**\n",
    "\n",
    "**Diplomado en Ciencia de Datos**\n",
    "\n",
    "**DGTIC, Universidad Nacional Autónoma de México**\n",
    "\n",
    "This tutorial by Luis M. de la Cruz Salas is licensed under <a href=\"https://creativecommons.org/licenses/by-nc-nd/4.0?ref=chooser-v1\">Attribution-NonCommercial-NoDerivatives 4.0 International</a>"
   ]
  },
  {
   "cell_type": "code",
   "execution_count": null,
   "id": "04af14c9-3b91-40dc-abe7-6262635c546a",
   "metadata": {},
   "outputs": [],
   "source": [
    "import numpy as np\n",
    "import matplotlib.pyplot as plt\n",
    "import pandas as pd"
   ]
  },
  {
   "cell_type": "code",
   "execution_count": null,
   "id": "2b709910-532b-4a25-97d1-4131fb670c35",
   "metadata": {},
   "outputs": [],
   "source": [
    "from bokeh.io import output_notebook, show\n",
    "from bokeh.plotting import figure\n",
    "output_notebook()"
   ]
  },
  {
   "cell_type": "code",
   "execution_count": null,
   "id": "dc0e2c34-df1c-4a9e-a166-d33e2ec1fbc7",
   "metadata": {},
   "outputs": [],
   "source": [
    "TFR = pd.read_csv('../Datos/UNdata_Export_20211229_175420412.zip')"
   ]
  },
  {
   "cell_type": "code",
   "execution_count": null,
   "id": "3f655e01-0d43-4fa7-b436-71c7bc62891c",
   "metadata": {},
   "outputs": [],
   "source": [
    "TFR.head()"
   ]
  },
  {
   "cell_type": "code",
   "execution_count": null,
   "id": "cc5f32bd-24c3-49a7-b05e-7c8bc205576a",
   "metadata": {},
   "outputs": [],
   "source": [
    "paises = TFR.groupby('Country or Area')"
   ]
  },
  {
   "cell_type": "code",
   "execution_count": null,
   "id": "b2d751a7-e9cd-4ed9-b34f-4f4a9ead2f7b",
   "metadata": {},
   "outputs": [],
   "source": [
    "# Después se obtienen los datos de España y Suecia\n",
    "spa = paises.get_group('Spain')\n",
    "swe = paises.get_group('Sweden')"
   ]
  },
  {
   "cell_type": "code",
   "execution_count": null,
   "id": "ab415e4e-2449-49ca-b2d2-4beaccad021a",
   "metadata": {},
   "outputs": [],
   "source": [
    "spa.index"
   ]
  },
  {
   "cell_type": "code",
   "execution_count": null,
   "id": "be07d09a-17dd-4b80-a15c-1bc5a3414997",
   "metadata": {},
   "outputs": [],
   "source": [
    "len(spa.index)"
   ]
  },
  {
   "cell_type": "code",
   "execution_count": null,
   "id": "c0e33927-e9d9-408d-8306-d59c5ab750d2",
   "metadata": {},
   "outputs": [],
   "source": [
    "lustros_keys = [i for i in range(0,len(spa.index))]\n",
    "lustros_keys"
   ]
  },
  {
   "cell_type": "code",
   "execution_count": null,
   "id": "8e14a7a0-3bd4-489c-a676-98a5c6efb60b",
   "metadata": {},
   "outputs": [],
   "source": [
    "p = figure(width=300, height=300)\n",
    "p.line(x=lustros_keys, y=spa['Value'], color=\"indigo\", line_width=2.0)\n",
    "p.line(x=lustros_keys, y=swe['Value'], color=\"green\", line_width=2.0)\n",
    "show(p)"
   ]
  },
  {
   "cell_type": "code",
   "execution_count": null,
   "id": "2c95efd2-fb77-427b-854c-230604e59fc6",
   "metadata": {},
   "outputs": [],
   "source": [
    "lustros_labels = list(spa['Year(s)'])\n",
    "lustros_labels"
   ]
  },
  {
   "cell_type": "code",
   "execution_count": null,
   "id": "9d9ab0c4-9d41-4bbe-a5fd-158fb7def834",
   "metadata": {},
   "outputs": [],
   "source": [
    "x_labels = dict(zip(lustros_keys, lustros_labels))\n",
    "x_labels"
   ]
  },
  {
   "cell_type": "code",
   "execution_count": null,
   "id": "102e21c6-f69b-4115-9fcd-e6996dbd969e",
   "metadata": {},
   "outputs": [],
   "source": [
    "p = figure(width=300, height=300)\n",
    "p.line(x=lustros_keys, y=spa['Value'], color=\"indigo\", line_width=2.0)\n",
    "p.line(x=lustros_keys, y=swe['Value'], color=\"green\", line_width=2.0)\n",
    "p.xaxis.major_label_overrides = x_labels\n",
    "\n",
    "show(p)"
   ]
  },
  {
   "cell_type": "code",
   "execution_count": null,
   "id": "c92d30e6-1557-46e1-be85-bca76f66b87c",
   "metadata": {},
   "outputs": [],
   "source": [
    "p = figure(width=300, height=300)\n",
    "p.line(x=lustros_keys, y=spa['Value'], color=\"indigo\", line_width=2.0)\n",
    "p.line(x=lustros_keys, y=swe['Value'], color=\"green\", line_width=2.0)\n",
    "p.xaxis.major_label_overrides = x_labels\n",
    "p.xaxis.major_label_orientation = 1.5*np.pi/4\n",
    "show(p)"
   ]
  },
  {
   "cell_type": "code",
   "execution_count": null,
   "id": "5c6944f7-7518-45b3-a728-d8f09e89156e",
   "metadata": {},
   "outputs": [],
   "source": [
    "p = figure(width=300, height=300)\n",
    "p.line(x=lustros_keys, y=spa['Value'], color=\"indigo\", line_width=2.0)\n",
    "p.line(x=lustros_keys, y=swe['Value'], color=\"green\", line_width=2.0)\n",
    "p.xaxis.major_label_overrides = x_labels\n",
    "p.xaxis.major_label_orientation = 1.5*np.pi/4\n",
    "p.x_range.flipped = True\n",
    "show(p)\n"
   ]
  },
  {
   "cell_type": "code",
   "execution_count": null,
   "id": "8239eb6b-7b7b-4ba0-b673-2ac4dde6ed23",
   "metadata": {},
   "outputs": [],
   "source": [
    "from bokeh.models.annotations import Span\n",
    "\n",
    "p = figure(width=300, height=300)\n",
    "p.line(x=lustros_keys, y=spa['Value'], color=\"indigo\", line_width=2.0)\n",
    "p.line(x=lustros_keys, y=swe['Value'], color=\"green\", line_width=2.0)\n",
    "p.xaxis.major_label_overrides = x_labels\n",
    "p.xaxis.major_label_orientation = 1.5*np.pi/4\n",
    "\n",
    "upper = Span(location=2.1, dimension='width', \n",
    "             line_color='black', line_width=1.0, line_dash=\"dashed\")\n",
    "p.add_layout(upper)\n",
    "\n",
    "p.x_range.flipped = True\n",
    "show(p)"
   ]
  },
  {
   "cell_type": "code",
   "execution_count": null,
   "id": "f4c3dcb2-d126-4805-a2a1-507745f5cc1b",
   "metadata": {},
   "outputs": [],
   "source": [
    "from bokeh.models.annotations import Span, Label\n",
    "\n",
    "p = figure(width=300, height=300)\n",
    "p.line(x=lustros_keys, y=spa['Value'], color=\"indigo\", line_width=2.0)\n",
    "p.line(x=lustros_keys, y=swe['Value'], color=\"green\", line_width=2.0)\n",
    "p.xaxis.major_label_overrides = x_labels\n",
    "p.xaxis.major_label_orientation = 1.5*np.pi/4\n",
    "\n",
    "upper = Span(location=2.1, dimension='width', \n",
    "             line_color='black', line_width=1.0, line_dash=\"dashed\")\n",
    "p.add_layout(upper)\n",
    "\n",
    "spa_tex = Label(x=lustros_keys[0], y=spa.Value.iloc[0], x_offset=8, \n",
    "              text=\"España {}\".format(spa.Value.iloc[-1]), \n",
    "              text_baseline=\"middle\",\n",
    "              text_font_size=\"8px\",\n",
    "              text_color=\"indigo\")\n",
    "p.add_layout(spa_tex)\n",
    "\n",
    "swe_tex = Label(x=lustros_keys[0], y=swe.Value.iloc[0], x_offset=8, \n",
    "              text=\"Suecia {}\".format(swe.Value.iloc[-1]), \n",
    "              text_baseline=\"middle\",\n",
    "              text_font_size=\"8px\",\n",
    "              text_color=\"green\")\n",
    "p.add_layout(swe_tex)\n",
    "\n",
    "\n",
    "p.x_range.flipped = True\n",
    "show(p)"
   ]
  },
  {
   "cell_type": "code",
   "execution_count": null,
   "id": "646954b5-7726-47ee-82c0-d8a253c4d7e4",
   "metadata": {},
   "outputs": [],
   "source": [
    "p = figure(width=300, height=300)\n",
    "p.line(x=lustros_keys, y=spa['Value'], color=\"indigo\", line_width=2.0)\n",
    "p.line(x=lustros_keys, y=swe['Value'], color=\"green\", line_width=2.0)\n",
    "p.xaxis.major_label_overrides = x_labels\n",
    "p.xaxis.major_label_orientation = 1.5*np.pi/4\n",
    "\n",
    "upper = Span(location=2.1, dimension='width', \n",
    "             line_color='black', line_width=1.0, line_dash=\"dashed\")\n",
    "p.add_layout(upper)\n",
    "\n",
    "spa_tex = Label(x=lustros_keys[0], y=spa.Value.iloc[0], x_offset=8, \n",
    "              text=\"España {}\".format(spa.Value.iloc[-1]), \n",
    "              text_baseline=\"middle\",\n",
    "              text_font_size=\"8px\",\n",
    "              text_color=\"indigo\")\n",
    "p.add_layout(spa_tex)\n",
    "\n",
    "swe_tex = Label(x=lustros_keys[0], y=swe.Value.iloc[0], x_offset=8, \n",
    "              text=\"Suecia {}\".format(swe.Value.iloc[-1]), \n",
    "              text_baseline=\"middle\",\n",
    "              text_font_size=\"8px\",\n",
    "              text_color=\"green\")\n",
    "p.add_layout(swe_tex)\n",
    "\n",
    "pais = paises.get_group('Yemen')\n",
    "p.line(x=lustros_keys, y=pais['Value'], color=\"gray\", \n",
    "       line_width=0.75, alpha=0.5)\n",
    "\n",
    "p.x_range.flipped = True\n",
    "show(p)"
   ]
  },
  {
   "cell_type": "code",
   "execution_count": null,
   "id": "f85e342d-7bb5-4b39-9d5c-cc931e83c174",
   "metadata": {},
   "outputs": [],
   "source": [
    "p = figure(width=300, height=300)\n",
    "p.line(x=lustros_keys, y=spa['Value'], color=\"indigo\", line_width=2.0)\n",
    "p.line(x=lustros_keys, y=swe['Value'], color=\"green\", line_width=2.0)\n",
    "p.xaxis.major_label_overrides = x_labels\n",
    "p.xaxis.major_label_orientation = 1.5*np.pi/4\n",
    "\n",
    "upper = Span(location=2.1, dimension='width', \n",
    "             line_color='black', line_width=1.0, line_dash=\"dashed\")\n",
    "p.add_layout(upper)\n",
    "\n",
    "spa_tex = Label(x=lustros_keys[0], y=spa.Value.iloc[0], x_offset=8, \n",
    "              text=\"España {}\".format(spa.Value.iloc[-1]), \n",
    "              text_baseline=\"middle\",\n",
    "              text_font_size=\"8px\",\n",
    "              text_color=\"indigo\")\n",
    "p.add_layout(spa_tex)\n",
    "\n",
    "swe_tex = Label(x=lustros_keys[0], y=swe.Value.iloc[0], x_offset=8, \n",
    "              text=\"Suecia {}\".format(swe.Value.iloc[-1]), \n",
    "              text_baseline=\"middle\",\n",
    "              text_font_size=\"8px\",\n",
    "              text_color=\"green\")\n",
    "p.add_layout(swe_tex)\n",
    "\n",
    "for kpais in paises.groups.keys():\n",
    "    pais = paises.get_group(kpais)\n",
    "    p.line(x=lustros_keys, y=pais['Value'], color=\"gray\", \n",
    "       line_width=0.75, alpha=0.25)\n",
    "\n",
    "p.x_range.flipped = True\n",
    "show(p)"
   ]
  },
  {
   "cell_type": "code",
   "execution_count": null,
   "id": "c7a11931-2701-443a-9784-14ba8117db20",
   "metadata": {},
   "outputs": [],
   "source": []
  }
 ],
 "metadata": {
  "kernelspec": {
   "display_name": "Python 3",
   "language": "python",
   "name": "python3"
  },
  "language_info": {
   "codemirror_mode": {
    "name": "ipython",
    "version": 3
   },
   "file_extension": ".py",
   "mimetype": "text/x-python",
   "name": "python",
   "nbconvert_exporter": "python",
   "pygments_lexer": "ipython3",
   "version": "3.8.8"
  }
 },
 "nbformat": 4,
 "nbformat_minor": 5
}
