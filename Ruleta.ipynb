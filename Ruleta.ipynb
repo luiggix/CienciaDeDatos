{
 "cells": [
  {
   "cell_type": "code",
   "execution_count": 1,
   "id": "7d758e85-b481-4bc6-925e-293ebe3ef999",
   "metadata": {},
   "outputs": [],
   "source": [
    "import pandas as pd\n",
    "import random\n",
    "import ipywidgets as widgets"
   ]
  },
  {
   "cell_type": "code",
   "execution_count": 53,
   "id": "89fa55a3-3b05-4833-9e90-8214f09a8c57",
   "metadata": {},
   "outputs": [],
   "source": [
    "participantes = pd.read_csv('courseid_85_participants.csv')\n",
    "nombres = [n + ' ' + a for n, a in zip(participantes['Nombre'], participantes['Apellido(s)'])]"
   ]
  },
  {
   "cell_type": "code",
   "execution_count": 46,
   "id": "cb546370-a460-4d6a-adf6-dd29e6855716",
   "metadata": {},
   "outputs": [],
   "source": [
    "def seleccionar(nombres):\n",
    "    elegido = random.choice(nombres)\n",
    "    html = widgets.HTML(\n",
    "            value='<font color=\"SeaGreen\"><b>{}</b></font>'.format(elegido), \n",
    "            description='Ganador : '\n",
    "    )\n",
    "    display(html)\n",
    "    nombres.remove(elegido)"
   ]
  },
  {
   "cell_type": "code",
   "execution_count": 47,
   "id": "2a26274f-56cf-49c7-b802-200f06f4be81",
   "metadata": {},
   "outputs": [
    {
     "data": {
      "application/vnd.jupyter.widget-view+json": {
       "model_id": "9a3e8e936468463e9c3aec549bc4dad0",
       "version_major": 2,
       "version_minor": 0
      },
      "text/plain": [
       "HTML(value='<font color=\"SeaGreen\"><b>Fernando Chacón Meade</b></font>', description='Ganador : ')"
      ]
     },
     "metadata": {},
     "output_type": "display_data"
    }
   ],
   "source": [
    "seleccionar(nombres)"
   ]
  },
  {
   "cell_type": "code",
   "execution_count": 54,
   "id": "1723c4dc-0ed7-4fa4-92c4-5d320438b9fb",
   "metadata": {},
   "outputs": [],
   "source": [
    "lista = [1, 3, 4, 5, 6, 8, 9, 10, 11, 14, 15, 16, 17, 19, 21, 23, 24, 25, 26]"
   ]
  },
  {
   "cell_type": "code",
   "execution_count": 55,
   "id": "9b003495",
   "metadata": {},
   "outputs": [],
   "source": [
    "nuevo = participantes.iloc[lista]"
   ]
  },
  {
   "cell_type": "code",
   "execution_count": 57,
   "id": "75fee2ff",
   "metadata": {},
   "outputs": [
    {
     "data": {
      "text/plain": [
       "Index(['Nombre', 'Apellido(s)', 'Dirección Email'], dtype='object')"
      ]
     },
     "execution_count": 57,
     "metadata": {},
     "output_type": "execute_result"
    }
   ],
   "source": [
    "nuevo.columns"
   ]
  },
  {
   "cell_type": "code",
   "execution_count": 58,
   "id": "d5a5f7b9",
   "metadata": {},
   "outputs": [],
   "source": [
    "nuevo = nuevo.drop(['Dirección Email'], axis=1)"
   ]
  },
  {
   "cell_type": "code",
   "execution_count": 60,
   "id": "0fcd2cba",
   "metadata": {},
   "outputs": [],
   "source": [
    "renata = {'Nombre':'Renata', 'Apellido(s)':'Monsiváis Salas'}\n",
    "julio = {'Nombre':'Julio César', 'Apellido(s)':'Quiñonez Pérez'}"
   ]
  },
  {
   "cell_type": "code",
   "execution_count": 61,
   "id": "7b8c0e8c",
   "metadata": {},
   "outputs": [],
   "source": [
    "nuevo = nuevo.append(renata, ignore_index=True)\n",
    "nuevo = nuevo.append(julio, ignore_index=True)"
   ]
  },
  {
   "cell_type": "code",
   "execution_count": 63,
   "id": "4babe34f",
   "metadata": {},
   "outputs": [],
   "source": [
    "nuevo['Tarea 1'] = [10, 10, 10, 10, 10, 10, 10, 10, 10, 10, 10, 10, 0, 10, 10, 10, 10, 10, 10, 10, 0]"
   ]
  },
  {
   "cell_type": "code",
   "execution_count": 64,
   "id": "398a025f",
   "metadata": {},
   "outputs": [],
   "source": [
    "nuevo['Tarea 2'] = [9.5, 10, 10, 8.5, 9.5, 8.5, 8.5, 9.0, 8.0, 9.5, 10, 8.5, 9.0, 9.5, 9.0, 10, 9.0, 9.5, 10, 10, 0]"
   ]
  },
  {
   "cell_type": "code",
   "execution_count": 65,
   "id": "aaaa9e51",
   "metadata": {},
   "outputs": [],
   "source": [
    "nuevo['Presentación en Clase'] = [10, 10, 10, 10, 10, 10, 10, 10, 10, 10, 10, 10, 10, 10, 10, 10, 10, 10, 10, 10, 10]"
   ]
  },
  {
   "cell_type": "code",
   "execution_count": 66,
   "id": "ce48bb51",
   "metadata": {},
   "outputs": [],
   "source": [
    "nuevo['Equipo'] = [5, 4, 5, 1, 5, 3, 2, 1, 1, 1, 5, 4, 3, 2, 4, 1, 3, 2, 4, 2, 2]"
   ]
  },
  {
   "cell_type": "code",
   "execution_count": 80,
   "id": "7d236e98",
   "metadata": {},
   "outputs": [],
   "source": [
    "nuevo['Proyecto'] = [9.5, 9.5, 9.5, 9.5, 9.5, \n",
    "                     9.5, 9.0, 9.5, 9.5, 9.5,\n",
    "                     9.5, 9.5, 9.5, 9.0, 9.5,\n",
    "                     9.5, 9.5, 9.0, 9.5, 9.0,\n",
    "                     9.0]"
   ]
  },
  {
   "cell_type": "code",
   "execution_count": 81,
   "id": "42bd2824",
   "metadata": {},
   "outputs": [],
   "source": [
    "nuevo['Cal. Final'] =  (nuevo['Tarea 1'] + nuevo['Tarea 2']) * 0.20 / 2.0 + \\\n",
    "                        nuevo['Presentación en Clase'] * 0.10 + \\\n",
    "                        nuevo['Proyecto'] * 0.70"
   ]
  },
  {
   "cell_type": "code",
   "execution_count": 84,
   "id": "b7441f07",
   "metadata": {},
   "outputs": [
    {
     "data": {
      "text/html": [
       "<div>\n",
       "<style scoped>\n",
       "    .dataframe tbody tr th:only-of-type {\n",
       "        vertical-align: middle;\n",
       "    }\n",
       "\n",
       "    .dataframe tbody tr th {\n",
       "        vertical-align: top;\n",
       "    }\n",
       "\n",
       "    .dataframe thead th {\n",
       "        text-align: right;\n",
       "    }\n",
       "</style>\n",
       "<table border=\"1\" class=\"dataframe\">\n",
       "  <thead>\n",
       "    <tr style=\"text-align: right;\">\n",
       "      <th></th>\n",
       "      <th>Nombre</th>\n",
       "      <th>Apellido(s)</th>\n",
       "      <th>Tarea 1</th>\n",
       "      <th>Tarea 2</th>\n",
       "      <th>Presentación en Clase</th>\n",
       "      <th>Equipo</th>\n",
       "      <th>Proyecto</th>\n",
       "      <th>Cal. Final</th>\n",
       "    </tr>\n",
       "  </thead>\n",
       "  <tbody>\n",
       "    <tr>\n",
       "      <th>0</th>\n",
       "      <td>Guadalupe Vanessa Carolina</td>\n",
       "      <td>Gutiérrez Hernández</td>\n",
       "      <td>10</td>\n",
       "      <td>9.5</td>\n",
       "      <td>10</td>\n",
       "      <td>5</td>\n",
       "      <td>9.5</td>\n",
       "      <td>9.60</td>\n",
       "    </tr>\n",
       "    <tr>\n",
       "      <th>1</th>\n",
       "      <td>Diego Adrián</td>\n",
       "      <td>Barrera Hernández</td>\n",
       "      <td>10</td>\n",
       "      <td>10.0</td>\n",
       "      <td>10</td>\n",
       "      <td>4</td>\n",
       "      <td>9.5</td>\n",
       "      <td>9.65</td>\n",
       "    </tr>\n",
       "    <tr>\n",
       "      <th>2</th>\n",
       "      <td>Isaac Antonio</td>\n",
       "      <td>Belmont Juárez</td>\n",
       "      <td>10</td>\n",
       "      <td>10.0</td>\n",
       "      <td>10</td>\n",
       "      <td>5</td>\n",
       "      <td>9.5</td>\n",
       "      <td>9.65</td>\n",
       "    </tr>\n",
       "    <tr>\n",
       "      <th>3</th>\n",
       "      <td>Luis Rafael</td>\n",
       "      <td>Castillo Rico</td>\n",
       "      <td>10</td>\n",
       "      <td>8.5</td>\n",
       "      <td>10</td>\n",
       "      <td>1</td>\n",
       "      <td>9.5</td>\n",
       "      <td>9.50</td>\n",
       "    </tr>\n",
       "    <tr>\n",
       "      <th>4</th>\n",
       "      <td>José Raúl</td>\n",
       "      <td>Castro Esparza</td>\n",
       "      <td>10</td>\n",
       "      <td>9.5</td>\n",
       "      <td>10</td>\n",
       "      <td>5</td>\n",
       "      <td>9.5</td>\n",
       "      <td>9.60</td>\n",
       "    </tr>\n",
       "    <tr>\n",
       "      <th>5</th>\n",
       "      <td>Pedro Pablo</td>\n",
       "      <td>Cortés Guerrero</td>\n",
       "      <td>10</td>\n",
       "      <td>8.5</td>\n",
       "      <td>10</td>\n",
       "      <td>3</td>\n",
       "      <td>9.5</td>\n",
       "      <td>9.50</td>\n",
       "    </tr>\n",
       "    <tr>\n",
       "      <th>6</th>\n",
       "      <td>Luis Alberto</td>\n",
       "      <td>Flores Rodríguez</td>\n",
       "      <td>10</td>\n",
       "      <td>8.5</td>\n",
       "      <td>10</td>\n",
       "      <td>2</td>\n",
       "      <td>9.0</td>\n",
       "      <td>9.15</td>\n",
       "    </tr>\n",
       "    <tr>\n",
       "      <th>7</th>\n",
       "      <td>Cristian Armando</td>\n",
       "      <td>Flores Álvarez</td>\n",
       "      <td>10</td>\n",
       "      <td>9.0</td>\n",
       "      <td>10</td>\n",
       "      <td>1</td>\n",
       "      <td>9.5</td>\n",
       "      <td>9.55</td>\n",
       "    </tr>\n",
       "    <tr>\n",
       "      <th>8</th>\n",
       "      <td>Carlos David</td>\n",
       "      <td>García Hernández</td>\n",
       "      <td>10</td>\n",
       "      <td>8.0</td>\n",
       "      <td>10</td>\n",
       "      <td>1</td>\n",
       "      <td>9.5</td>\n",
       "      <td>9.45</td>\n",
       "    </tr>\n",
       "    <tr>\n",
       "      <th>9</th>\n",
       "      <td>Karla Guadalupe</td>\n",
       "      <td>Huitrón Gutiérrez</td>\n",
       "      <td>10</td>\n",
       "      <td>9.5</td>\n",
       "      <td>10</td>\n",
       "      <td>1</td>\n",
       "      <td>9.5</td>\n",
       "      <td>9.60</td>\n",
       "    </tr>\n",
       "    <tr>\n",
       "      <th>10</th>\n",
       "      <td>Adriana</td>\n",
       "      <td>Jiménez Pineda</td>\n",
       "      <td>10</td>\n",
       "      <td>10.0</td>\n",
       "      <td>10</td>\n",
       "      <td>5</td>\n",
       "      <td>9.5</td>\n",
       "      <td>9.65</td>\n",
       "    </tr>\n",
       "    <tr>\n",
       "      <th>11</th>\n",
       "      <td>Rocío</td>\n",
       "      <td>Lopez Guzmán</td>\n",
       "      <td>10</td>\n",
       "      <td>8.5</td>\n",
       "      <td>10</td>\n",
       "      <td>4</td>\n",
       "      <td>9.5</td>\n",
       "      <td>9.50</td>\n",
       "    </tr>\n",
       "    <tr>\n",
       "      <th>12</th>\n",
       "      <td>Jesús</td>\n",
       "      <td>Márquez García</td>\n",
       "      <td>0</td>\n",
       "      <td>9.0</td>\n",
       "      <td>10</td>\n",
       "      <td>3</td>\n",
       "      <td>9.5</td>\n",
       "      <td>8.55</td>\n",
       "    </tr>\n",
       "    <tr>\n",
       "      <th>13</th>\n",
       "      <td>Manuel Alejandro</td>\n",
       "      <td>Morales Jiménez</td>\n",
       "      <td>10</td>\n",
       "      <td>9.5</td>\n",
       "      <td>10</td>\n",
       "      <td>2</td>\n",
       "      <td>9.0</td>\n",
       "      <td>9.25</td>\n",
       "    </tr>\n",
       "    <tr>\n",
       "      <th>14</th>\n",
       "      <td>Pamela Angélica</td>\n",
       "      <td>Puigvert  Angulo</td>\n",
       "      <td>10</td>\n",
       "      <td>9.0</td>\n",
       "      <td>10</td>\n",
       "      <td>4</td>\n",
       "      <td>9.5</td>\n",
       "      <td>9.55</td>\n",
       "    </tr>\n",
       "    <tr>\n",
       "      <th>15</th>\n",
       "      <td>Abraham Alejandro</td>\n",
       "      <td>Reynoso Ávila</td>\n",
       "      <td>10</td>\n",
       "      <td>10.0</td>\n",
       "      <td>10</td>\n",
       "      <td>1</td>\n",
       "      <td>9.5</td>\n",
       "      <td>9.65</td>\n",
       "    </tr>\n",
       "    <tr>\n",
       "      <th>16</th>\n",
       "      <td>Luis Alfredo</td>\n",
       "      <td>Sánchez Galindo</td>\n",
       "      <td>10</td>\n",
       "      <td>9.0</td>\n",
       "      <td>10</td>\n",
       "      <td>3</td>\n",
       "      <td>9.5</td>\n",
       "      <td>9.55</td>\n",
       "    </tr>\n",
       "    <tr>\n",
       "      <th>17</th>\n",
       "      <td>Dariana</td>\n",
       "      <td>Vielma Gallegos</td>\n",
       "      <td>10</td>\n",
       "      <td>9.5</td>\n",
       "      <td>10</td>\n",
       "      <td>2</td>\n",
       "      <td>9.0</td>\n",
       "      <td>9.25</td>\n",
       "    </tr>\n",
       "    <tr>\n",
       "      <th>18</th>\n",
       "      <td>Carlos Andrés</td>\n",
       "      <td>González Jurado</td>\n",
       "      <td>10</td>\n",
       "      <td>10.0</td>\n",
       "      <td>10</td>\n",
       "      <td>4</td>\n",
       "      <td>9.5</td>\n",
       "      <td>9.65</td>\n",
       "    </tr>\n",
       "    <tr>\n",
       "      <th>19</th>\n",
       "      <td>Renata</td>\n",
       "      <td>Monsiváis Salas</td>\n",
       "      <td>10</td>\n",
       "      <td>10.0</td>\n",
       "      <td>10</td>\n",
       "      <td>2</td>\n",
       "      <td>9.0</td>\n",
       "      <td>9.30</td>\n",
       "    </tr>\n",
       "    <tr>\n",
       "      <th>20</th>\n",
       "      <td>Julio César</td>\n",
       "      <td>Quiñonez Pérez</td>\n",
       "      <td>0</td>\n",
       "      <td>0.0</td>\n",
       "      <td>10</td>\n",
       "      <td>2</td>\n",
       "      <td>9.0</td>\n",
       "      <td>7.30</td>\n",
       "    </tr>\n",
       "  </tbody>\n",
       "</table>\n",
       "</div>"
      ],
      "text/plain": [
       "                        Nombre          Apellido(s)  Tarea 1  Tarea 2  \\\n",
       "0   Guadalupe Vanessa Carolina  Gutiérrez Hernández       10      9.5   \n",
       "1                 Diego Adrián    Barrera Hernández       10     10.0   \n",
       "2                Isaac Antonio       Belmont Juárez       10     10.0   \n",
       "3                  Luis Rafael        Castillo Rico       10      8.5   \n",
       "4                    José Raúl       Castro Esparza       10      9.5   \n",
       "5                  Pedro Pablo      Cortés Guerrero       10      8.5   \n",
       "6                 Luis Alberto     Flores Rodríguez       10      8.5   \n",
       "7             Cristian Armando       Flores Álvarez       10      9.0   \n",
       "8                 Carlos David     García Hernández       10      8.0   \n",
       "9              Karla Guadalupe    Huitrón Gutiérrez       10      9.5   \n",
       "10                     Adriana       Jiménez Pineda       10     10.0   \n",
       "11                       Rocío         Lopez Guzmán       10      8.5   \n",
       "12                       Jesús       Márquez García        0      9.0   \n",
       "13            Manuel Alejandro      Morales Jiménez       10      9.5   \n",
       "14             Pamela Angélica     Puigvert  Angulo       10      9.0   \n",
       "15           Abraham Alejandro        Reynoso Ávila       10     10.0   \n",
       "16                Luis Alfredo      Sánchez Galindo       10      9.0   \n",
       "17                     Dariana      Vielma Gallegos       10      9.5   \n",
       "18               Carlos Andrés      González Jurado       10     10.0   \n",
       "19                      Renata      Monsiváis Salas       10     10.0   \n",
       "20                 Julio César       Quiñonez Pérez        0      0.0   \n",
       "\n",
       "    Presentación en Clase  Equipo  Proyecto  Cal. Final  \n",
       "0                      10       5       9.5        9.60  \n",
       "1                      10       4       9.5        9.65  \n",
       "2                      10       5       9.5        9.65  \n",
       "3                      10       1       9.5        9.50  \n",
       "4                      10       5       9.5        9.60  \n",
       "5                      10       3       9.5        9.50  \n",
       "6                      10       2       9.0        9.15  \n",
       "7                      10       1       9.5        9.55  \n",
       "8                      10       1       9.5        9.45  \n",
       "9                      10       1       9.5        9.60  \n",
       "10                     10       5       9.5        9.65  \n",
       "11                     10       4       9.5        9.50  \n",
       "12                     10       3       9.5        8.55  \n",
       "13                     10       2       9.0        9.25  \n",
       "14                     10       4       9.5        9.55  \n",
       "15                     10       1       9.5        9.65  \n",
       "16                     10       3       9.5        9.55  \n",
       "17                     10       2       9.0        9.25  \n",
       "18                     10       4       9.5        9.65  \n",
       "19                     10       2       9.0        9.30  \n",
       "20                     10       2       9.0        7.30  "
      ]
     },
     "execution_count": 84,
     "metadata": {},
     "output_type": "execute_result"
    }
   ],
   "source": [
    "nuevo"
   ]
  },
  {
   "cell_type": "code",
   "execution_count": 83,
   "id": "d5e1a658",
   "metadata": {},
   "outputs": [],
   "source": [
    "nuevo.to_csv('Cal_Modulo14.csv')"
   ]
  },
  {
   "cell_type": "code",
   "execution_count": 85,
   "id": "e472517a",
   "metadata": {},
   "outputs": [],
   "source": [
    "nuevo.to_excel('Cal_Modulo14.xlsx')"
   ]
  },
  {
   "cell_type": "code",
   "execution_count": null,
   "id": "59f6e001",
   "metadata": {},
   "outputs": [],
   "source": []
  }
 ],
 "metadata": {
  "kernelspec": {
   "display_name": "Python 3",
   "language": "python",
   "name": "python3"
  },
  "language_info": {
   "codemirror_mode": {
    "name": "ipython",
    "version": 3
   },
   "file_extension": ".py",
   "mimetype": "text/x-python",
   "name": "python",
   "nbconvert_exporter": "python",
   "pygments_lexer": "ipython3",
   "version": "3.8.8"
  }
 },
 "nbformat": 4,
 "nbformat_minor": 5
}
