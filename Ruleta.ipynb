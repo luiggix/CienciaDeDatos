{
 "cells": [
  {
   "cell_type": "code",
   "execution_count": 1,
   "id": "7d758e85-b481-4bc6-925e-293ebe3ef999",
   "metadata": {},
   "outputs": [],
   "source": [
    "import pandas as pd\n",
    "import random\n",
    "import ipywidgets as widgets"
   ]
  },
  {
   "cell_type": "code",
   "execution_count": 2,
   "id": "89fa55a3-3b05-4833-9e90-8214f09a8c57",
   "metadata": {},
   "outputs": [],
   "source": [
    "participantes = pd.read_csv('courseid_85_participants.csv')\n",
    "nombres = [n + ' ' + a for n, a in zip(participantes['Nombre'], participantes['Apellido(s)'])]"
   ]
  },
  {
   "cell_type": "code",
   "execution_count": 46,
   "id": "cb546370-a460-4d6a-adf6-dd29e6855716",
   "metadata": {},
   "outputs": [],
   "source": [
    "def seleccionar(nombres):\n",
    "    elegido = random.choice(nombres)\n",
    "    html = widgets.HTML(\n",
    "            value='<font color=\"SeaGreen\"><b>{}</b></font>'.format(elegido), \n",
    "            description='Ganador : '\n",
    "    )\n",
    "    display(html)\n",
    "    nombres.remove(elegido)"
   ]
  },
  {
   "cell_type": "code",
   "execution_count": 47,
   "id": "2a26274f-56cf-49c7-b802-200f06f4be81",
   "metadata": {},
   "outputs": [
    {
     "data": {
      "application/vnd.jupyter.widget-view+json": {
       "model_id": "9a3e8e936468463e9c3aec549bc4dad0",
       "version_major": 2,
       "version_minor": 0
      },
      "text/plain": [
       "HTML(value='<font color=\"SeaGreen\"><b>Fernando Chacón Meade</b></font>', description='Ganador : ')"
      ]
     },
     "metadata": {},
     "output_type": "display_data"
    }
   ],
   "source": [
    "seleccionar(nombres)"
   ]
  },
  {
   "cell_type": "code",
   "execution_count": null,
   "id": "1723c4dc-0ed7-4fa4-92c4-5d320438b9fb",
   "metadata": {},
   "outputs": [],
   "source": []
  }
 ],
 "metadata": {
  "kernelspec": {
   "display_name": "Python 3",
   "language": "python",
   "name": "python3"
  },
  "language_info": {
   "codemirror_mode": {
    "name": "ipython",
    "version": 3
   },
   "file_extension": ".py",
   "mimetype": "text/x-python",
   "name": "python",
   "nbconvert_exporter": "python",
   "pygments_lexer": "ipython3",
   "version": "3.8.8"
  }
 },
 "nbformat": 4,
 "nbformat_minor": 5
}
