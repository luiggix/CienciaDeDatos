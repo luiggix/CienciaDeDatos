{
 "cells": [
  {
   "cell_type": "markdown",
   "metadata": {},
   "source": [
    "## TAREA 6\n",
    "- Ortega Ibarra Jaime Jesus.\n",
    "### Modelo Exponencial para COVID-19"
   ]
  },
  {
   "cell_type": "markdown",
   "metadata": {},
   "source": [
    "Hacer un análisis de los datos publicados en: https://github.com/CSSEGISandData/COVID-19, ajustando un\n",
    "modelo simple que se describe a continuación."
   ]
  },
  {
   "cell_type": "markdown",
   "metadata": {},
   "source": [
    "#### Actividad 1."
   ]
  },
  {
   "cell_type": "markdown",
   "metadata": {},
   "source": [
    "Graficar el crecimiento de los casos confirmados para al menos 10\n",
    "países, incluyendo México. Poner la información de cada país en\n",
    "un origen común, comenzando desde que hay al menos un caso\n",
    "confirmado como se ve en las siguientes gráficas:"
   ]
  },
  {
   "cell_type": "code",
   "execution_count": 1,
   "metadata": {},
   "outputs": [],
   "source": [
    "#Importamos bibliotecas necesarias\n",
    "import pandas as pd\n",
    "import matplotlib.pyplot as plt\n",
    "import numpy as np\n",
    "from ipywidgets import interact, interactive\n",
    "import ipywidgets as widgets"
   ]
  },
  {
   "cell_type": "code",
   "execution_count": 2,
   "metadata": {},
   "outputs": [
    {
     "data": {
      "text/html": [
       "<div>\n",
       "<style scoped>\n",
       "    .dataframe tbody tr th:only-of-type {\n",
       "        vertical-align: middle;\n",
       "    }\n",
       "\n",
       "    .dataframe tbody tr th {\n",
       "        vertical-align: top;\n",
       "    }\n",
       "\n",
       "    .dataframe thead th {\n",
       "        text-align: right;\n",
       "    }\n",
       "</style>\n",
       "<table border=\"1\" class=\"dataframe\">\n",
       "  <thead>\n",
       "    <tr style=\"text-align: right;\">\n",
       "      <th></th>\n",
       "      <th>Province/State</th>\n",
       "      <th>Country/Region</th>\n",
       "      <th>Lat</th>\n",
       "      <th>Long</th>\n",
       "      <th>1/22/20</th>\n",
       "      <th>1/23/20</th>\n",
       "      <th>1/24/20</th>\n",
       "      <th>1/25/20</th>\n",
       "      <th>1/26/20</th>\n",
       "      <th>1/27/20</th>\n",
       "      <th>...</th>\n",
       "      <th>4/7/20</th>\n",
       "      <th>4/8/20</th>\n",
       "      <th>4/9/20</th>\n",
       "      <th>4/10/20</th>\n",
       "      <th>4/11/20</th>\n",
       "      <th>4/12/20</th>\n",
       "      <th>4/13/20</th>\n",
       "      <th>4/14/20</th>\n",
       "      <th>4/15/20</th>\n",
       "      <th>4/16/20</th>\n",
       "    </tr>\n",
       "  </thead>\n",
       "  <tbody>\n",
       "    <tr>\n",
       "      <th>0</th>\n",
       "      <td>NaN</td>\n",
       "      <td>Afghanistan</td>\n",
       "      <td>33.0000</td>\n",
       "      <td>65.0000</td>\n",
       "      <td>0</td>\n",
       "      <td>0</td>\n",
       "      <td>0</td>\n",
       "      <td>0</td>\n",
       "      <td>0</td>\n",
       "      <td>0</td>\n",
       "      <td>...</td>\n",
       "      <td>423</td>\n",
       "      <td>444</td>\n",
       "      <td>484</td>\n",
       "      <td>521</td>\n",
       "      <td>555</td>\n",
       "      <td>607</td>\n",
       "      <td>665</td>\n",
       "      <td>714</td>\n",
       "      <td>784</td>\n",
       "      <td>840</td>\n",
       "    </tr>\n",
       "    <tr>\n",
       "      <th>1</th>\n",
       "      <td>NaN</td>\n",
       "      <td>Albania</td>\n",
       "      <td>41.1533</td>\n",
       "      <td>20.1683</td>\n",
       "      <td>0</td>\n",
       "      <td>0</td>\n",
       "      <td>0</td>\n",
       "      <td>0</td>\n",
       "      <td>0</td>\n",
       "      <td>0</td>\n",
       "      <td>...</td>\n",
       "      <td>383</td>\n",
       "      <td>400</td>\n",
       "      <td>409</td>\n",
       "      <td>416</td>\n",
       "      <td>433</td>\n",
       "      <td>446</td>\n",
       "      <td>467</td>\n",
       "      <td>475</td>\n",
       "      <td>494</td>\n",
       "      <td>518</td>\n",
       "    </tr>\n",
       "    <tr>\n",
       "      <th>2</th>\n",
       "      <td>NaN</td>\n",
       "      <td>Algeria</td>\n",
       "      <td>28.0339</td>\n",
       "      <td>1.6596</td>\n",
       "      <td>0</td>\n",
       "      <td>0</td>\n",
       "      <td>0</td>\n",
       "      <td>0</td>\n",
       "      <td>0</td>\n",
       "      <td>0</td>\n",
       "      <td>...</td>\n",
       "      <td>1468</td>\n",
       "      <td>1572</td>\n",
       "      <td>1666</td>\n",
       "      <td>1761</td>\n",
       "      <td>1825</td>\n",
       "      <td>1914</td>\n",
       "      <td>1983</td>\n",
       "      <td>2070</td>\n",
       "      <td>2160</td>\n",
       "      <td>2268</td>\n",
       "    </tr>\n",
       "    <tr>\n",
       "      <th>3</th>\n",
       "      <td>NaN</td>\n",
       "      <td>Andorra</td>\n",
       "      <td>42.5063</td>\n",
       "      <td>1.5218</td>\n",
       "      <td>0</td>\n",
       "      <td>0</td>\n",
       "      <td>0</td>\n",
       "      <td>0</td>\n",
       "      <td>0</td>\n",
       "      <td>0</td>\n",
       "      <td>...</td>\n",
       "      <td>545</td>\n",
       "      <td>564</td>\n",
       "      <td>583</td>\n",
       "      <td>601</td>\n",
       "      <td>601</td>\n",
       "      <td>638</td>\n",
       "      <td>646</td>\n",
       "      <td>659</td>\n",
       "      <td>673</td>\n",
       "      <td>673</td>\n",
       "    </tr>\n",
       "    <tr>\n",
       "      <th>4</th>\n",
       "      <td>NaN</td>\n",
       "      <td>Angola</td>\n",
       "      <td>-11.2027</td>\n",
       "      <td>17.8739</td>\n",
       "      <td>0</td>\n",
       "      <td>0</td>\n",
       "      <td>0</td>\n",
       "      <td>0</td>\n",
       "      <td>0</td>\n",
       "      <td>0</td>\n",
       "      <td>...</td>\n",
       "      <td>17</td>\n",
       "      <td>19</td>\n",
       "      <td>19</td>\n",
       "      <td>19</td>\n",
       "      <td>19</td>\n",
       "      <td>19</td>\n",
       "      <td>19</td>\n",
       "      <td>19</td>\n",
       "      <td>19</td>\n",
       "      <td>19</td>\n",
       "    </tr>\n",
       "  </tbody>\n",
       "</table>\n",
       "<p>5 rows × 90 columns</p>\n",
       "</div>"
      ],
      "text/plain": [
       "  Province/State Country/Region      Lat     Long  1/22/20  1/23/20  1/24/20  \\\n",
       "0            NaN    Afghanistan  33.0000  65.0000        0        0        0   \n",
       "1            NaN        Albania  41.1533  20.1683        0        0        0   \n",
       "2            NaN        Algeria  28.0339   1.6596        0        0        0   \n",
       "3            NaN        Andorra  42.5063   1.5218        0        0        0   \n",
       "4            NaN         Angola -11.2027  17.8739        0        0        0   \n",
       "\n",
       "   1/25/20  1/26/20  1/27/20  ...  4/7/20  4/8/20  4/9/20  4/10/20  4/11/20  \\\n",
       "0        0        0        0  ...     423     444     484      521      555   \n",
       "1        0        0        0  ...     383     400     409      416      433   \n",
       "2        0        0        0  ...    1468    1572    1666     1761     1825   \n",
       "3        0        0        0  ...     545     564     583      601      601   \n",
       "4        0        0        0  ...      17      19      19       19       19   \n",
       "\n",
       "   4/12/20  4/13/20  4/14/20  4/15/20  4/16/20  \n",
       "0      607      665      714      784      840  \n",
       "1      446      467      475      494      518  \n",
       "2     1914     1983     2070     2160     2268  \n",
       "3      638      646      659      673      673  \n",
       "4       19       19       19       19       19  \n",
       "\n",
       "[5 rows x 90 columns]"
      ]
     },
     "execution_count": 2,
     "metadata": {},
     "output_type": "execute_result"
    }
   ],
   "source": [
    "#Leemos nuestros datos\n",
    "#confirm = pd.read_csv('time_series_covid19_confirmed_global.csv')\n",
    "url = 'https://raw.githubusercontent.com/CSSEGISandData/COVID-19/master/csse_covid_19_data/csse_covid_19_time_series/time_series_covid19_confirmed_global.csv'\n",
    "confirm = pd.read_csv(url)\n",
    "datos = confirm.values\n",
    "confirm.head()"
   ]
  },
  {
   "cell_type": "markdown",
   "metadata": {},
   "source": [
    "### Países por Graficar"
   ]
  },
  {
   "cell_type": "markdown",
   "metadata": {},
   "source": [
    "China\\\n",
    "En paises como China la información se encuentra en más de un renglón, por lo cual con el siguiente código, recolectaremos todos los datos de china, para posteriormente sumar el número de casos en cada región, para así generar un total por día."
   ]
  },
  {
   "cell_type": "code",
   "execution_count": 3,
   "metadata": {},
   "outputs": [],
   "source": [
    "china = []\n",
    "for i in range(len(confirm)):\n",
    "        if datos[i:i+1,1] == 'China':\n",
    "            china.append(datos[i])\n",
    "            \n",
    "china = pd.DataFrame(china)\n",
    "datos = china.values\n",
    "datos_china=[]\n",
    "\n",
    "for j in range(4,80):\n",
    "    suma = 0\n",
    "    for i in range(len(china)):\n",
    "        suma = suma + datos[i,j]\n",
    "    datos_china.append(suma)"
   ]
  },
  {
   "cell_type": "markdown",
   "metadata": {},
   "source": [
    "Francia"
   ]
  },
  {
   "cell_type": "code",
   "execution_count": 4,
   "metadata": {},
   "outputs": [
    {
     "name": "stderr",
     "output_type": "stream",
     "text": [
      "/home/luiggi/anaconda3/lib/python3.7/site-packages/ipykernel_launcher.py:3: DeprecationWarning: The truth value of an empty array is ambiguous. Returning False, but in future this will result in an error. Use `array.size > 0` to check that an array is not empty.\n",
      "  This is separate from the ipykernel package so we can avoid doing imports until\n"
     ]
    }
   ],
   "source": [
    "france = []\n",
    "for i in range(len(confirm)):\n",
    "        if datos[i:i+1,1] == 'France':\n",
    "            france.append(datos[i])\n",
    "            \n",
    "france = pd.DataFrame(france)\n",
    "datos = france.values\n",
    "datos_francia=[]\n",
    "for j in range(4,80):\n",
    "    suma = 0\n",
    "    for i in range(len(france)):\n",
    "        suma = suma + datos[i,j]\n",
    "    datos_francia.append(suma)"
   ]
  },
  {
   "cell_type": "markdown",
   "metadata": {},
   "source": [
    "Canadá"
   ]
  },
  {
   "cell_type": "code",
   "execution_count": 5,
   "metadata": {},
   "outputs": [
    {
     "ename": "IndexError",
     "evalue": "index 1 is out of bounds for axis 1 with size 0",
     "output_type": "error",
     "traceback": [
      "\u001b[0;31m--------------------------------------------------------------------\u001b[0m",
      "\u001b[0;31mIndexError\u001b[0m                         Traceback (most recent call last)",
      "\u001b[0;32m<ipython-input-5-de097180adc6>\u001b[0m in \u001b[0;36m<module>\u001b[0;34m\u001b[0m\n\u001b[1;32m      1\u001b[0m \u001b[0mcanada\u001b[0m \u001b[0;34m=\u001b[0m \u001b[0;34m[\u001b[0m\u001b[0;34m]\u001b[0m\u001b[0;34m\u001b[0m\u001b[0;34m\u001b[0m\u001b[0m\n\u001b[1;32m      2\u001b[0m \u001b[0;32mfor\u001b[0m \u001b[0mi\u001b[0m \u001b[0;32min\u001b[0m \u001b[0mrange\u001b[0m\u001b[0;34m(\u001b[0m\u001b[0mlen\u001b[0m\u001b[0;34m(\u001b[0m\u001b[0mconfirm\u001b[0m\u001b[0;34m)\u001b[0m\u001b[0;34m)\u001b[0m\u001b[0;34m:\u001b[0m\u001b[0;34m\u001b[0m\u001b[0;34m\u001b[0m\u001b[0m\n\u001b[0;32m----> 3\u001b[0;31m         \u001b[0;32mif\u001b[0m \u001b[0mdatos\u001b[0m\u001b[0;34m[\u001b[0m\u001b[0mi\u001b[0m\u001b[0;34m:\u001b[0m\u001b[0mi\u001b[0m\u001b[0;34m+\u001b[0m\u001b[0;36m1\u001b[0m\u001b[0;34m,\u001b[0m\u001b[0;36m1\u001b[0m\u001b[0;34m]\u001b[0m \u001b[0;34m==\u001b[0m \u001b[0;34m'Canada'\u001b[0m\u001b[0;34m:\u001b[0m\u001b[0;34m\u001b[0m\u001b[0;34m\u001b[0m\u001b[0m\n\u001b[0m\u001b[1;32m      4\u001b[0m             \u001b[0mcanada\u001b[0m\u001b[0;34m.\u001b[0m\u001b[0mappend\u001b[0m\u001b[0;34m(\u001b[0m\u001b[0mdatos\u001b[0m\u001b[0;34m[\u001b[0m\u001b[0mi\u001b[0m\u001b[0;34m]\u001b[0m\u001b[0;34m)\u001b[0m\u001b[0;34m\u001b[0m\u001b[0;34m\u001b[0m\u001b[0m\n\u001b[1;32m      5\u001b[0m \u001b[0;34m\u001b[0m\u001b[0m\n",
      "\u001b[0;31mIndexError\u001b[0m: index 1 is out of bounds for axis 1 with size 0"
     ]
    }
   ],
   "source": [
    "canada = []\n",
    "for i in range(len(confirm)):\n",
    "        if datos[i:i+1,1] == 'Canada':\n",
    "            canada.append(datos[i])\n",
    "            \n",
    "canada = pd.DataFrame(canada)\n",
    "datos = canada.values\n",
    "datos_canada=[]\n",
    "for j in range(4,80):\n",
    "    suma = 0\n",
    "    for i in range(len(canada)):\n",
    "        suma = suma + datos[i,j]\n",
    "    datos_canada.append(suma)"
   ]
  },
  {
   "cell_type": "markdown",
   "metadata": {},
   "source": [
    "Netherlands"
   ]
  },
  {
   "cell_type": "code",
   "execution_count": null,
   "metadata": {},
   "outputs": [],
   "source": [
    "Netherlands = []\n",
    "for i in range(len(confirm)):\n",
    "        if datos[i:i+1,1] == 'Netherlands':\n",
    "            Netherlands.append(datos[i])\n",
    "            \n",
    "Netherlands = pd.DataFrame(Netherlands)\n",
    "datos = Netherlands.values\n",
    "datos_Netherlands=[]\n",
    "for j in range(4,80):\n",
    "    suma = 0\n",
    "    for i in range(len(Netherlands)):\n",
    "        suma = suma + datos[i,j]\n",
    "    datos_Netherlands.append(suma)"
   ]
  },
  {
   "cell_type": "markdown",
   "metadata": {},
   "source": [
    "México"
   ]
  },
  {
   "cell_type": "code",
   "execution_count": null,
   "metadata": {},
   "outputs": [],
   "source": [
    "for i in range(len(confirm)):\n",
    "    if confirm.values[i:i+1,1] == 'Mexico':\n",
    "        datos_mex = confirm.values[i]\n",
    "datos_mexico = datos_mex[4:80]"
   ]
  },
  {
   "cell_type": "markdown",
   "metadata": {},
   "source": [
    "Italia"
   ]
  },
  {
   "cell_type": "code",
   "execution_count": null,
   "metadata": {},
   "outputs": [],
   "source": [
    "for i in range(len(confirm)):\n",
    "    if confirm.values[i:i+1,1] == 'Italy':\n",
    "        datos_it = confirm.values[i]\n",
    "datos_italy = datos_it[4:80]"
   ]
  },
  {
   "cell_type": "markdown",
   "metadata": {},
   "source": [
    "España"
   ]
  },
  {
   "cell_type": "code",
   "execution_count": null,
   "metadata": {},
   "outputs": [],
   "source": [
    "for i in range(len(confirm)):\n",
    "    if confirm.values[i:i+1,1] == 'Spain':\n",
    "        datos_esp = confirm.values[i]\n",
    "datos_españa = datos_esp[4:80]"
   ]
  },
  {
   "cell_type": "markdown",
   "metadata": {},
   "source": [
    "Estados Unidos"
   ]
  },
  {
   "cell_type": "code",
   "execution_count": null,
   "metadata": {},
   "outputs": [],
   "source": [
    "for i in range(len(confirm)):\n",
    "    if confirm.values[i:i+1,1] == 'US':\n",
    "        datos_us = confirm.values[i]\n",
    "datos_US = datos_us[4:80]"
   ]
  },
  {
   "cell_type": "markdown",
   "metadata": {},
   "source": [
    "Japón"
   ]
  },
  {
   "cell_type": "code",
   "execution_count": null,
   "metadata": {},
   "outputs": [],
   "source": [
    "for i in range(len(confirm)):\n",
    "    if confirm.values[i:i+1,1] == 'Japan':\n",
    "        datos_jap = confirm.values[i]\n",
    "datos_Japon = datos_jap[4:80]"
   ]
  },
  {
   "cell_type": "markdown",
   "metadata": {},
   "source": [
    "Rusia"
   ]
  },
  {
   "cell_type": "code",
   "execution_count": null,
   "metadata": {},
   "outputs": [],
   "source": [
    "for i in range(len(confirm)):\n",
    "    if confirm.values[i:i+1,1] == 'Russia':\n",
    "        datos_rus = confirm.values[i]\n",
    "datos_Rusia = datos_rus[4:80]"
   ]
  },
  {
   "cell_type": "markdown",
   "metadata": {},
   "source": [
    "Creando Gráfica\\\n",
    "Realizamos dos gráficas para ver el comportamiento del crecimiento de casos de México con respecto a los demás países, para ello realicé dos distintas gráficas, una es logarítmica para lograr distribuir los 10 países a lo largo de la gráfica y la otra es una gráfica normal, tomando en cuenta el inicio desde 0 casos confirmados."
   ]
  },
  {
   "cell_type": "code",
   "execution_count": null,
   "metadata": {},
   "outputs": [],
   "source": [
    "plt.figure(figsize=(20,10))\n",
    "plt.plot(datos_china,'--', color='lightcoral')\n",
    "plt.plot(datos_mexico,'-o')\n",
    "plt.plot(datos_italy,'--')\n",
    "plt.plot(datos_españa,'--')\n",
    "plt.plot(datos_US,'--')\n",
    "plt.plot(datos_francia,'--')\n",
    "plt.plot(datos_canada,'--')\n",
    "plt.plot(datos_Netherlands,'--')\n",
    "plt.plot(datos_Japon,'--')\n",
    "plt.plot(datos_Rusia,'--')\n",
    "plt.legend(('China','Mexico','Italia','España','Estados Unidos','Francia','Canadá','Netherlands','Japón','Rusia'))\n",
    "plt.title('Casos confirmados por país')\n",
    "plt.xlabel('Días')\n",
    "plt.ylabel('Cantidad casos Confirmados (Escala Logarítmica)')\n",
    "plt.yscale('log')\n",
    "plt.plot()\n",
    "plt.grid()"
   ]
  },
  {
   "cell_type": "code",
   "execution_count": null,
   "metadata": {},
   "outputs": [],
   "source": [
    "plt.figure(figsize=(20,10))\n",
    "plt.plot(datos_china,'--', color='lightcoral')\n",
    "plt.plot(datos_mexico,'-o')\n",
    "plt.plot(datos_italy,'--')\n",
    "plt.plot(datos_españa,'--')\n",
    "plt.plot(datos_US,'--')\n",
    "plt.plot(datos_francia,'--')\n",
    "plt.plot(datos_canada,'--')\n",
    "plt.plot(datos_Netherlands,'--')\n",
    "plt.plot(datos_Japon,'--')\n",
    "plt.plot(datos_Rusia,'--')\n",
    "plt.legend(('China','Mexico','Italia','España','Estados Unidos','Francia','Canadá','Netherlands','Japón','Rusia'))\n",
    "plt.title('Casos confirmados por país')\n",
    "plt.ylim(0,10000)\n",
    "plt.xlim(30,80)\n",
    "plt.xlabel('Días')\n",
    "plt.ylabel('Cantidad casos Confirmados (Escala Logarítmica)')\n",
    "plt.plot()\n",
    "plt.grid()"
   ]
  },
  {
   "cell_type": "markdown",
   "metadata": {},
   "source": [
    "## Modelo Exponencial"
   ]
  },
  {
   "cell_type": "markdown",
   "metadata": {},
   "source": [
    "Por definición tenemos:\n",
    "- $I_{n}$ = Cantidad de casos confirmados en el día $n$\n",
    "- $I_{n+1}$ = Cantidad de casos confirmados en el día $n+1$\n",
    "- $\\triangle I_{n+1}$ = Incremento en cantidad de confirmados del día $n$ al día $n+1$\n",
    "\n",
    "Suponga que el incremento en la cantidad de confirmados, $\\triangle I_{n}$ , para el\n",
    "día siguiente $(n+1)$ es proporcional a la cantidad de confirmados del\n",
    "día de hoy $(n)$, es decir:\n",
    "\n",
    "$\\triangle I_{n}=E∗I_{n}$\n",
    "\n",
    "donde $\\triangle I_{n}=I_{n+1}−I_{n}$. Sustituyendo esta relación en la ecuación de\n",
    "arriba y rearreglando obtenemos:\n",
    "\n",
    "$I_{n+1}=I_{n}∗(E+1)$."
   ]
  },
  {
   "cell_type": "markdown",
   "metadata": {},
   "source": [
    "#### Actividad 2"
   ]
  },
  {
   "cell_type": "markdown",
   "metadata": {},
   "source": [
    "Elegir un país y ajustar el modelo descrito en las páginas 3 y 4.\n",
    "Calcular $(E+1)$ usando la información publicada por la Johns\n",
    "Hopkins CSSE. Determinar a partir de cuántos casos el modelo\n",
    "ajusta mejor durante los primeros días.Elegir un país y ajustar el modelo descrito en las páginas 3 y 4.\n",
    "Calcular $(E+1)$ usando la información publicada por la Johns\n",
    "Hopkins CSSE. Determinar a partir de cuántos casos el modelo\n",
    "ajusta mejor durante los primeros días."
   ]
  },
  {
   "cell_type": "code",
   "execution_count": null,
   "metadata": {},
   "outputs": [],
   "source": [
    "for i in range(len(confirm)):\n",
    "    if confirm.values[i:i+1,1] == 'Mexico':\n",
    "        datos_mex = confirm.values[i]\n",
    "datos_mex[56:65]"
   ]
  },
  {
   "cell_type": "markdown",
   "metadata": {},
   "source": [
    "Utilizaremos los siguientes valores \n",
    "$CasosConfirmados$ $=$ $[26,41,53,82,93,118,164,203,251]$\n",
    "\n",
    "Entonces generaremos nuestros valores para $(E+1)$ Por ejemplo\n",
    "\n",
    "Para $I_{n}=26$ tendríamos $I_{n+1}=41$\n",
    "\n",
    "Entonces $(E+1)=\\frac{41}{26}=1.5769$\n",
    "\n",
    "Repetimos para cada día $\"n\"$ y posterior a ello calculamos la media de $E+1$\n",
    "\n",
    "Una vez calculada, podemos generar los valores con nuestro modelo, en nuestro caso iniciamos en 26 casos, pues fue la cantidad que hacía que el modelo se ajustara de la mejor manera posible, entonces calculamos de la siguiente manera:\n",
    "\n",
    "$Para$ $I_{n}=26$\n",
    "\n",
    "Nuestra cantidad de confirmados para el día 1, será el valor inicial, es decir $26$.\n",
    "\n",
    "Para el día $2$\n",
    "\n",
    "$26*1.3354=34$ y repetimos con $n$ resultados7\n",
    "\n",
    "Para el día $3$\n",
    "\n",
    "$34*1.3354=46.371$\n",
    "\n"
   ]
  },
  {
   "cell_type": "code",
   "execution_count": null,
   "metadata": {},
   "outputs": [],
   "source": [
    "def model_exp(Dia):\n",
    "    Model_Data = datos_mex[56:65]\n",
    "    E1 = []\n",
    "    for i in range(len(Model_Data)-1):\n",
    "        E_result = Model_Data[i+1]/Model_Data[i]\n",
    "        E1.append(E_result)\n",
    "    #print(E1)\n",
    "    mean_E1 = np.mean(E1)\n",
    "    #print(mean_E1)\n",
    "    modelo = [Model_Data[0]]\n",
    "    est = Model_Data[0]\n",
    "    for i in range(Dia):\n",
    "        est = int(est*(mean_E1))\n",
    "        modelo.append(est)\n",
    "    print('Casos confirmados de acuerdo al modelo:',modelo[len(modelo)-1])\n",
    "    plt.figure(figsize=(10,7))\n",
    "    plt.plot(modelo,'-o')\n",
    "    plt.plot(datos_mex[56:65],'-o')\n",
    "    plt.legend(('Modelo','Datos Reales'))\n",
    "    plt.title('Comparacion Modelo/DatosReales')\n",
    "    plt.xlabel('Días')\n",
    "    plt.ylabel('Casos confirmados')\n",
    "    plt.grid()\n",
    "    plt.show()"
   ]
  },
  {
   "cell_type": "code",
   "execution_count": null,
   "metadata": {},
   "outputs": [],
   "source": [
    "model_exp(11)"
   ]
  },
  {
   "cell_type": "markdown",
   "metadata": {},
   "source": [
    "Como podemos observar en la gráfica, evidentemente el crecimiennto es exponencial y después de varios calculos, he llegado a que se ajusta a partir de los 251 casos confirmados. He hecho un slider para visualizar de mejor manera el crecimiento de la gráfica con respecto a los días transcurridos."
   ]
  }
 ],
 "metadata": {
  "kernelspec": {
   "display_name": "Python 3",
   "language": "python",
   "name": "python3"
  },
  "language_info": {
   "codemirror_mode": {
    "name": "ipython",
    "version": 3
   },
   "file_extension": ".py",
   "mimetype": "text/x-python",
   "name": "python",
   "nbconvert_exporter": "python",
   "pygments_lexer": "ipython3",
   "version": "3.7.6"
  }
 },
 "nbformat": 4,
 "nbformat_minor": 2
}
