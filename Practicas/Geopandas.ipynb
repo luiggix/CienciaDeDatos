{
 "cells": [
  {
   "cell_type": "code",
   "execution_count": 1,
   "id": "35db4eb5",
   "metadata": {},
   "outputs": [
    {
     "ename": "ModuleNotFoundError",
     "evalue": "No module named 'geopandas'",
     "output_type": "error",
     "traceback": [
      "\u001b[0;31m---------------------------------------------------------------------------\u001b[0m",
      "\u001b[0;31mModuleNotFoundError\u001b[0m                       Traceback (most recent call last)",
      "\u001b[0;32m<ipython-input-1-a62d01c1d62e>\u001b[0m in \u001b[0;36m<module>\u001b[0;34m\u001b[0m\n\u001b[0;32m----> 1\u001b[0;31m \u001b[0;32mimport\u001b[0m \u001b[0mgeopandas\u001b[0m \u001b[0;32mas\u001b[0m \u001b[0mgpd\u001b[0m\u001b[0;34m\u001b[0m\u001b[0;34m\u001b[0m\u001b[0m\n\u001b[0m",
      "\u001b[0;31mModuleNotFoundError\u001b[0m: No module named 'geopandas'"
     ]
    }
   ],
   "source": [
    "import geopandas as gpd\n",
    "# conda install --channel conda-forge geopandas"
   ]
  },
  {
   "cell_type": "code",
   "execution_count": null,
   "id": "fbf548da",
   "metadata": {},
   "outputs": [],
   "source": [
    "shapefile='Datos/Europe/Europe.shp'"
   ]
  },
  {
   "cell_type": "code",
   "execution_count": null,
   "id": "b1e85fec",
   "metadata": {},
   "outputs": [],
   "source": [
    "europa_gdf = gpd.read_file(shapefile)"
   ]
  },
  {
   "cell_type": "code",
   "execution_count": null,
   "id": "fde8d3e8",
   "metadata": {},
   "outputs": [],
   "source": [
    "europa_gdf"
   ]
  },
  {
   "cell_type": "code",
   "execution_count": null,
   "id": "377c26ef",
   "metadata": {},
   "outputs": [],
   "source": [
    "europa_gdf.drop('ORGN_NAME', axis=1, inplace=True)\n",
    "europa_gdf"
   ]
  },
  {
   "cell_type": "code",
   "execution_count": null,
   "id": "4f971756",
   "metadata": {},
   "outputs": [],
   "source": [
    "europa_gdf.plot()"
   ]
  },
  {
   "cell_type": "code",
   "execution_count": null,
   "id": "bc486b13",
   "metadata": {},
   "outputs": [],
   "source": [
    "import pandas as pd"
   ]
  },
  {
   "cell_type": "code",
   "execution_count": null,
   "id": "d2b759fb",
   "metadata": {},
   "outputs": [],
   "source": [
    "percapita_df = pd.read_csv('Datos/Europe/percapita.csv')\n",
    "percapita_df"
   ]
  },
  {
   "cell_type": "code",
   "execution_count": null,
   "id": "007a3459",
   "metadata": {},
   "outputs": [],
   "source": [
    "europa_gdf['percapita'] = percapita_df['percapita']\n",
    "europa_gdf"
   ]
  },
  {
   "cell_type": "code",
   "execution_count": null,
   "id": "926bc08a",
   "metadata": {},
   "outputs": [],
   "source": [
    "europa_gdf.plot(column='percapita',cmap='gist_rainbow')"
   ]
  },
  {
   "cell_type": "code",
   "execution_count": null,
   "id": "38e6b64c",
   "metadata": {},
   "outputs": [],
   "source": [
    "import matplotlib.pyplot as plt"
   ]
  },
  {
   "cell_type": "code",
   "execution_count": null,
   "id": "a8cda98e",
   "metadata": {},
   "outputs": [],
   "source": [
    "europa_gdf['percapita'].max()"
   ]
  },
  {
   "cell_type": "code",
   "execution_count": null,
   "id": "6fce99db",
   "metadata": {},
   "outputs": [],
   "source": [
    "#Evitar los outliers (valores atipicos)\n",
    "europa_gdf = europa_gdf[europa_gdf['percapita'] < 100000]\n",
    "#europa_gdf = europa_gdf[europa_gdf['percapita'] > 0]"
   ]
  },
  {
   "cell_type": "code",
   "execution_count": null,
   "id": "15c80a44",
   "metadata": {},
   "outputs": [],
   "source": [
    "fig = plt.figure(figsize=(9,7))\n",
    "ax = fig.add_subplot(111)\n",
    "\n",
    "plt.title('PIB per Capita (USD) de los países de Europa\\n', fontsize=19)\n",
    "europa_gdf.plot(column='percapita',cmap='gist_rainbow', ax=ax)\n",
    "ax.set_xlabel('Longitud', fontsize=13)\n",
    "ax.set_ylabel('Latitud', fontsize=13)\n",
    "\n",
    "min_p = min(europa_gdf['percapita'])\n",
    "max_p = max(europa_gdf['percapita'])\n",
    "\n",
    "bar = plt.cm.ScalarMappable(cmap='gist_rainbow', norm = plt.Normalize(vmin=min_p, vmax=max_p))\n",
    "\n",
    "bar._A = []\n",
    "\n",
    "cax = plt.axes([0.85, 0.15, 0.03, 0.7])\n",
    "\n",
    "cbar = fig.colorbar(bar, cax=cax)\n",
    "\n",
    "cbar.set_label('PIB per Capita (USD)', fontsize=12)\n",
    "\n",
    "plt.show()"
   ]
  },
  {
   "cell_type": "code",
   "execution_count": null,
   "id": "4284ae10",
   "metadata": {},
   "outputs": [],
   "source": []
  }
 ],
 "metadata": {
  "kernelspec": {
   "display_name": "Python 3",
   "language": "python",
   "name": "python3"
  },
  "language_info": {
   "codemirror_mode": {
    "name": "ipython",
    "version": 3
   },
   "file_extension": ".py",
   "mimetype": "text/x-python",
   "name": "python",
   "nbconvert_exporter": "python",
   "pygments_lexer": "ipython3",
   "version": "3.8.8"
  }
 },
 "nbformat": 4,
 "nbformat_minor": 5
}
