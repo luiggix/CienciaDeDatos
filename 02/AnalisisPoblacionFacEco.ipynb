{
 "cells": [
  {
   "cell_type": "markdown",
   "metadata": {},
   "source": [
    "# Práctica 2: Análisis de población vs factores de desarrollo\n",
    "\n",
    "**Módulo 14: Storytelling en ciencia de datos**\n",
    "\n",
    "**Diplomado en Ciencia de Datos**\n",
    "\n",
    "**DGTIC, Universidad Nacional Autónoma de México**\n",
    "\n",
    "This tutorial by Luis M. de la Cruz Salas is licensed under <a href=\"https://creativecommons.org/licenses/by-nc-nd/4.0?ref=chooser-v1\">Attribution-NonCommercial-NoDerivatives 4.0 International</a>\n"
   ]
  },
  {
   "cell_type": "markdown",
   "metadata": {},
   "source": [
    "## Objetivo.\n",
    "\n",
    "En esta práctica se va realizar un análisis y visualización complementario del TFR (Total Fertility Rate) mundial comparando con otros factores de desarrollo.\n",
    "\n",
    "Usaremos la misma información de la práctica 1, así como los scripts que se desarrollaron en ella para continuar con esta práctica 2."
   ]
  },
  {
   "cell_type": "markdown",
   "metadata": {},
   "source": [
    "## Importar las bibliotecas \n",
    "Incluimos las bibliotecas necesarias para la lectura de datos y para la visualización."
   ]
  },
  {
   "cell_type": "code",
   "execution_count": null,
   "metadata": {},
   "outputs": [],
   "source": [
    "import numpy as np\n",
    "import matplotlib.pyplot as plt\n",
    "import pandas as pd"
   ]
  },
  {
   "cell_type": "markdown",
   "metadata": {},
   "source": [
    "## Lectura de datos de FR\n",
    "Usamos la misma información de la práctica 1."
   ]
  },
  {
   "cell_type": "code",
   "execution_count": null,
   "metadata": {},
   "outputs": [],
   "source": [
    "TFR = pd.read_csv('../Datos/UNdata_Export_20211229_175420412.zip')\n",
    "\n",
    "# Se agrupa por país \n",
    "paises = TFR.groupby('Country or Area')"
   ]
  },
  {
   "cell_type": "code",
   "execution_count": null,
   "metadata": {},
   "outputs": [],
   "source": [
    "TFR"
   ]
  },
  {
   "cell_type": "markdown",
   "metadata": {},
   "source": [
    "## Funciones para graficación\n",
    "Ponemos todos los scripts de la práctica 1, con algunas modificaciones, en funciones de Python como sigue:"
   ]
  },
  {
   "cell_type": "code",
   "execution_count": null,
   "metadata": {
    "tags": []
   },
   "outputs": [],
   "source": [
    "from math import ceil\n",
    "\n",
    "def maxminTicks(TFR):\n",
    "    \"\"\"\n",
    "    Calcula el máximo y el mínimo de todos los países y los yticks.\n",
    "    \n",
    "    Parameters\n",
    "    ----------\n",
    "    paises : DataFrameGroupBy\n",
    "        Dataframe generado por GroupBy con la información de los países.\n",
    "        \n",
    "    Returns\n",
    "    -------\n",
    "    p_max, y_max, p_min, y_min, yticks\n",
    "        El país con el máximo valor, el valor máximo, la lista para los yticks,\n",
    "        el país con el valor mínimo y el valor mínimo.\n",
    "    \"\"\"    \n",
    "    # Se obtiene el valor máximo\n",
    "    y_max = TFR['Value'].max() \n",
    "\n",
    "    # Extrae el nombre del país con el valor máximo\n",
    "    p_max = TFR[TFR['Value'] == y_max].iloc[0][0]\n",
    "\n",
    "    # Se obtiene el valor mínimo\n",
    "    y_min = TFR['Value'].min() \n",
    "\n",
    "    # Extrae el nombre del país con el valor mínimo\n",
    "    p_min = TFR[TFR['Value'] == y_min].iloc[0][0]\n",
    "\n",
    "    # Se generan los yticks\n",
    "    yticks = [i for i in range(0,ceil(y_max)+1)]\n",
    "\n",
    "    return p_max, y_max, p_min, y_min, yticks"
   ]
  },
  {
   "cell_type": "code",
   "execution_count": null,
   "metadata": {
    "tags": []
   },
   "outputs": [],
   "source": [
    "def inicializaGrafica(y_maximo, yticks):\n",
    "    \"\"\"\n",
    "    Inicializa algunos parámetros de la figura (el canvas).\n",
    "    \n",
    "    Parameters\n",
    "    ----------\n",
    "    y_maximo : int\n",
    "        Valor máximo para el eje y.\n",
    "    \n",
    "    yticks : list\n",
    "        Lista de valores para los ticks en el eje y.\n",
    "    \"\"\"\n",
    "    fig = plt.figure(figsize=(10,10)) \n",
    "    plt.xticks(rotation=70, fontsize=10)\n",
    "    plt.xlim(-2,14,-1)\n",
    "    plt.gca().invert_xaxis()\n",
    "    plt.ylim(0,y_maximo)   \n",
    "    plt.yticks(yticks)     \n",
    "    plt.grid(ls='--', lw=0.5)\n",
    "\n",
    "    # Información adicional y títulos\n",
    "    plt.title('Promedio de número de hijos por mujer', loc='left', fontsize=12)\n",
    "    plt.title('fuente: http://data.un.org', loc='right', fontstyle='italic', fontsize=10)\n",
    "    plt.suptitle('Evolución del TFR (Total Fertility Rate)', y = 0.94, fontsize=14)\n",
    "\n",
    "    # Se eliminan las líneas del marco de la gráfica\n",
    "    ejes = plt.gca()\n",
    "    ejes.spines['right'].set_visible(False)\n",
    "    ejes.spines['top'].set_visible(False)\n",
    "    ejes.spines['left'].set_visible(False)\n",
    "    ejes.spines['bottom'].set_visible(False)\n",
    "    \n",
    "    # Modificamos algunos parámetros de los ticks en el eje y\n",
    "    ejes.tick_params(axis='y', width=1, length=25)\n",
    "    \n",
    "    # Realizamos algunas anotaciones sobre el gráfico base\n",
    "    plt.annotate('Nivel de \\n reemplazo: \\n promedio = 2.1', \n",
    "                 xy=(11.5, 2.095), xytext=(11.5, 1.0),\n",
    "                 bbox=dict(boxstyle='round', facecolor='gray', edgecolor='black', alpha=0.1, linewidth=0.75),\n",
    "                 arrowprops=dict(arrowstyle='->', facecolor='black', edgecolor='black'),\n",
    "                 fontsize=10, color='black', horizontalalignment='center')\n",
    "    \n",
    "    plt.text(2, 8.25, 'Cada línea representa la \\n evolución del promedio  \\n de hijos por mujer en un país', \n",
    "             transform=plt.gca().transData, horizontalalignment='center', color='black',\n",
    "             bbox=dict(boxstyle='round', facecolor='gray', edgecolor='black', alpha=0.1, linewidth=0.75))  \n"
   ]
  },
  {
   "cell_type": "code",
   "execution_count": null,
   "metadata": {
    "tags": []
   },
   "outputs": [],
   "source": [
    "def graficaTFR(paises, parametros={}):\n",
    "    \"\"\"\n",
    "    Realiza la gráfica de todos los países.\n",
    "    \n",
    "    Parameters\n",
    "    ----------\n",
    "    paises : DataFrameGroupBy\n",
    "        Dataframe generado por GroupBy con la información de los países.\n",
    "    \n",
    "    parametros : dict\n",
    "        Parámetros para generar la gráfica.\n",
    "    \"\"\"\n",
    "    for p in paises.groups.keys():\n",
    "        pais = paises.get_group(p)\n",
    "        plt.plot(pais['Year(s)'], pais['Value'], **parametros) \n",
    "        \n",
    "    # Al final de todas las gráficas ponemos la del nivel de reemplazo \n",
    "    plt.plot([-1,14],[2.1,2.1], 'k--', lw=1.0, zorder=1000)"
   ]
  },
  {
   "cell_type": "code",
   "execution_count": null,
   "metadata": {
    "tags": []
   },
   "outputs": [],
   "source": [
    "def graficaTFR_Pais(paises, p, parametros={}, par_glow = None):\n",
    "    \"\"\"\n",
    "    Realiza la gráfica de un solo país con realce para fondo negro.\n",
    "    \n",
    "    Parameters\n",
    "    ----------\n",
    "    paises : DataFrameGroupBy\n",
    "        Dataframe generado por GroupBy con la información de los países.\n",
    "    \n",
    "    parametros : dict\n",
    "        Parámetros para generar la gráfica.\n",
    "    \n",
    "    par_glow : dict\n",
    "        Diccionario con los parámetros para resaltar las curvas con un \"halo\" \n",
    "        a su alrededor. Cuando par_glow = None (defalt) no se hace nada. En otro\n",
    "        caso es conveniente pasar la transparencia y el color. Esta\n",
    "        curva se dibuja por detrás de la curva principal, con un ancho mayor y el\n",
    "        color definido\n",
    "        Ejemplo:\n",
    "                par_glow = {'alpha':0.4, 'c':'yellow'}\n",
    "    \"\"\"\n",
    "    pais = paises.get_group(p)\n",
    "\n",
    "    if par_glow:\n",
    "    # Se grafica una curva con una línea 3 veces más ancha que la original\n",
    "    # y transparente para resaltarla. \n",
    "        plt.plot(pais['Year(s)'], pais['Value'], lw=parametros['lw']*5, **par_glow)\n",
    "\n",
    "    # Se grafica la curva del país con los parámetros necesarios.\n",
    "    line = plt.plot(pais['Year(s)'], pais['Value'], **parametros)\n",
    "\n",
    "    # Ponemos un texto al final de la curva para mostrar el \n",
    "    # nombre del país y el valor final de fertilidad\n",
    "    pais_val = pais['Value'].iloc[0]\n",
    "    plt.text(x = 0, y = pais_val, \n",
    "             s = ' {} {:1.2f}'.format(p, pais_val), \n",
    "             c = line[0].get_color(), weight = 'bold')\n",
    "    \n",
    "    # Ponemos el valor inicial de fertilidad al principio de la curva.\n",
    "    pais_val = pais['Value'].iloc[-1] \n",
    "    plt.text(x = 13.75, y = pais_val, \n",
    "             s = '{:1.2f} '.format(pais_val), \n",
    "             c = line[0].get_color(), weight = 'bold')"
   ]
  },
  {
   "cell_type": "markdown",
   "metadata": {},
   "source": [
    "## Visualización del *canvas* \n",
    "Calculamos el máximo en el eje $y$ y los `yticks` y posteriormente hacemos la gráfica base."
   ]
  },
  {
   "cell_type": "code",
   "execution_count": null,
   "metadata": {},
   "outputs": [],
   "source": [
    "p_max, y_max, p_min, y_min, yticks = maxminTicks(TFR)\n",
    "print('Máximo = {}, \\t País : {}'.format(y_max, p_max))\n",
    "print('Mínimo = {}, \\t País : {}'.format(y_min, p_min))\n",
    "print('yticks : {}'.format(yticks))"
   ]
  },
  {
   "cell_type": "code",
   "execution_count": null,
   "metadata": {},
   "outputs": [],
   "source": [
    "# Hacemos la gráfica base\n",
    "inicializaGrafica(y_max, yticks)\n",
    "graficaTFR(paises, {'lw':0.5, 'c':'#FFFFFF'})"
   ]
  },
  {
   "cell_type": "markdown",
   "metadata": {},
   "source": [
    "Este es ahora nuestro lienzo listo para agregar información."
   ]
  },
  {
   "cell_type": "markdown",
   "metadata": {},
   "source": [
    "## Selección de países con diferente GDP.\n",
    "Definimos un conjunto de países a ser graficados y sus colores correspondientes. Elegimos países con diferente PIB per cápita y diferente zona geográfica, en este caso serán: México, USA, Japón, Alemania, Egipto, Argentina, Nigeria. Además agregamos a los países que hayan tenido el máximo y el mínimo de TFR en el rango de tiempo estudiado. También agregamos los datos promedio anuales mundiales."
   ]
  },
  {
   "cell_type": "code",
   "execution_count": null,
   "metadata": {},
   "outputs": [],
   "source": [
    "paises_colores = {\n",
    "    'Mexico'                   : 'C0',  \n",
    "    'United States of America' : 'C1',\n",
    "    'Japan'                    : 'C2',  \n",
    "    'Germany'                  : 'C3',  \n",
    "    'Egypt'                    : 'C4',\n",
    "    'Argentina'                : 'C5',\n",
    "    'Nigeria'                  : 'C6',\n",
    "    p_max                      : 'red',      # País con el valor máximo\n",
    "    p_min                      : 'blue',     # País con el valor mínimo\n",
    "    'World'                    : 'black'     # Datos promedio mundiales\n",
    "}"
   ]
  },
  {
   "cell_type": "markdown",
   "metadata": {},
   "source": [
    "### Visualización de los países\n",
    "Realizamos las gráficas para estos países."
   ]
  },
  {
   "cell_type": "code",
   "execution_count": null,
   "metadata": {},
   "outputs": [],
   "source": [
    "# Hacemos la gráfica base\n",
    "inicializaGrafica(y_max, yticks)\n",
    "graficaTFR(paises, {'lw':0.5, 'c':'lightgrey'})\n",
    "\n",
    "# Hacemos la gráfica para los países definidos antes para \n",
    "# hacer la comparación entre ellos.\n",
    "for p, c in paises_colores.items():\n",
    "    par = {'lw':3.0, 'c':c}\n",
    "    graficaTFR_Pais(paises, p, par)\n",
    "\n",
    "plt.show()"
   ]
  },
  {
   "cell_type": "markdown",
   "metadata": {},
   "source": [
    "Si puso atención, en la definición de la función `graficaTFR_Pais()` hay un parámetro\n",
    "para \"resaltar las gráficas\" el cual se puede usar como sigue:"
   ]
  },
  {
   "cell_type": "code",
   "execution_count": null,
   "metadata": {},
   "outputs": [],
   "source": [
    "# Hacemos la gráfica base\n",
    "inicializaGrafica(y_max, yticks)\n",
    "graficaTFR(paises, {'lw':0.5, 'c':'lightgrey'})\n",
    "\n",
    "# Hacemos la gráfica para los países definidos antes para hacer la comparación entre ellos.\n",
    "for p, c in paises_colores.items():\n",
    "    par = {'lw':1.5, 'c':c, 'marker':'.'}\n",
    "    par_glow = {'alpha':0.5, 'c':c}         # Parámetros para poner \"brillo\" a las curvas\n",
    "    graficaTFR_Pais(paises, p, par, par_glow) # Pasamos los parámetros a la función\n",
    "\n",
    "plt.savefig('FR01.png')\n",
    "plt.show()"
   ]
  },
  {
   "cell_type": "markdown",
   "metadata": {},
   "source": [
    "En esta visualización graficamos el TFR de países de diferentes continentes y con el siguiente *GDP per capita* (en *US dollars*): \n",
    "- USA (63,413.5), \n",
    "- Alemania (46,208.4), \n",
    "- Japón (40,193.3), \n",
    "- Macao SAR (39,403.1), \n",
    "- Argentina (8,579.0), \n",
    "- Mexico (8,329.3), \n",
    "- Egipto (3,569.2), \n",
    "- Nigeria (2,097.1), \n",
    "- Yemen (758.1) \n",
    "\n",
    "(Fuente: [The World Data Bank](https://data.worldbank.org/indicator/NY.GDP.PCAP.CD?most_recent_value_desc=true&view=chart) ). \n",
    "\n",
    "En general se observa que los países con mayor ingreso per cápita tienden a bajar el número de hijos por mujer por debajo del NR. Los tres países que en esta visualización se ven com mayor fertilidad (Egipto, Yemen y Nigeria) tienen un ingreso bajo, comparado con los otros países, pero todos han reducido su porcentaje de fertilidad. Nigeria es un caso particular, pues solo ha bajado de 6.35 en 1955 a 5.42 en 2020.\n",
    "\n",
    "Se puede jugar un poco con el fondo de la gráfica:"
   ]
  },
  {
   "cell_type": "code",
   "execution_count": null,
   "metadata": {},
   "outputs": [],
   "source": [
    "# Hacemos la gráfica base\n",
    "inicializaGrafica(y_max, yticks)\n",
    "graficaTFR(paises, {'lw':0.5, 'c':'lightgrey'})\n",
    "\n",
    "# Hacemos la gráfica para los países definidos antes para hacer la comparación entre ellos.\n",
    "for p, c in paises_colores.items():\n",
    "    par = {'lw':1.5, 'c':c, 'marker':'.'}\n",
    "    par_glow = {'alpha':0.5, 'c':c}         # Parámetros para poner \"brillo\" a las curvas\n",
    "    graficaTFR_Pais(paises, p, par, par_glow) # Pasamos los parámetros a la función\n",
    "\n",
    "# Cambio de color del fondo de la gráfica\n",
    "ax = plt.gca()\n",
    "ax.set_facecolor('palegoldenrod')\n",
    "\n",
    "plt.savefig('FR02.png')\n",
    "plt.show()"
   ]
  },
  {
   "cell_type": "markdown",
   "metadata": {},
   "source": [
    "## Datos del PIB per cápita por país\n",
    "Vamos ahora a complementar esta visualización con información del PIB per capita en cada país.\n",
    "\n",
    "Obtenemos la información de los ingresos por persona en cada país de http://data.un.org haciendo la búsqueda de 'per capita income' y seleccionando el conjunto de datos 'Gross national income per capita (PPP int. \\$)' como se muestra en la siguiente figura:\n",
    "\n",
    "<img src=\"../Figuras/PerCapita.png\"  style=\"width: 800px;\"/>\n",
    "\n",
    "**Observación** : Elegimos datos solo para el año 2010, que es el año en el que vamos a realizar la comparación. Por esta razón tomaremos los datos de la década 2005-2010 para el caso del FR (esta información se encuentra en el lugar 2 del arreglo de cada país, véanse las gráficas anteriores y recuérdese que el eje $x$ fue invertido)."
   ]
  },
  {
   "cell_type": "code",
   "execution_count": null,
   "metadata": {},
   "outputs": [],
   "source": [
    "# Leemos el archivo con los datos del PIB en un DataFrame\n",
    "per_capita_income = pd.read_csv('../Datos/UNdata_Export_20211023_002155840.zip')\n",
    "pd.set_option('display.max_rows', None) # Para poder ver todo el dataframe\n",
    "per_capita_income"
   ]
  },
  {
   "cell_type": "code",
   "execution_count": null,
   "metadata": {},
   "outputs": [],
   "source": [
    "pd.set_option('display.max_rows', 15) # Regreso a un número limitado de renglones por despliegue de dataframe"
   ]
  },
  {
   "cell_type": "markdown",
   "metadata": {},
   "source": [
    "### Tratamiento de los datos.\n",
    "Observamos que el número de países listados en los dos DataFrames, el de fertilidad y el de ingresos, es diferente, así que necesitamos ajustarlos para poder hacer una comparación entre ellos."
   ]
  },
  {
   "cell_type": "code",
   "execution_count": null,
   "metadata": {},
   "outputs": [],
   "source": [
    "# Se agrupa por país la información de los ingresos para acceder más fácil y \n",
    "# de manera similar a como se hace con la información del FR:\n",
    "ingreso_pais = per_capita_income.groupby('Country or Area')"
   ]
  },
  {
   "cell_type": "code",
   "execution_count": null,
   "metadata": {},
   "outputs": [],
   "source": [
    "# Checamos la longitud de cada agrupación para ver si coinciden\n",
    "print(len(paises.groups.keys()), len(per_capita_income)) "
   ]
  },
  {
   "cell_type": "markdown",
   "metadata": {},
   "source": [
    "Debido a que no tenemos la misma información en ambas agrupaciones, haremos un ajuste para comparar solo la información que esté presente en ambos conjuntos de datos."
   ]
  },
  {
   "cell_type": "code",
   "execution_count": null,
   "metadata": {},
   "outputs": [],
   "source": [
    "# Lista de países a comparar:\n",
    "lista_paises_final = []\n",
    "\n",
    "# Hacemos el recorrido usando el DataFrame de mayor longitud (paises)\n",
    "for p in paises.groups.keys():     \n",
    "    try:                            \n",
    "        ingreso_pais.get_group(p)    # Aseguramos que se tiene la misma info en cada DataFrame.\n",
    "        lista_paises_final.append(p) # Si se tuvo éxito entonces se agrega el país a la lista final.\n",
    "    except KeyError: # Captura de la excepción de tipo KeyError\n",
    "        continue     # Lo único que hacemos es saltarnos el país que no está \n",
    "                     # en ambos DataFrames y continuar con el siguiente.\n",
    "        \n",
    "print('Lista final de países en ambos Dataframes : ', len(lista_paises_final), '\\n')\n",
    "print(lista_paises_final)"
   ]
  },
  {
   "cell_type": "code",
   "execution_count": null,
   "metadata": {},
   "outputs": [],
   "source": [
    "# Revisamos la información del FR uno de los países para identificar en qué lugar está la info de 2010\n",
    "paises.get_group('Mexico')"
   ]
  },
  {
   "cell_type": "markdown",
   "metadata": {},
   "source": [
    "Obsérvese que la información del rango 2005-2010 se encuentra en el renglón 2 de cada grupo."
   ]
  },
  {
   "cell_type": "code",
   "execution_count": null,
   "metadata": {},
   "outputs": [],
   "source": [
    "ingreso_pais.get_group('Mexico')"
   ]
  },
  {
   "cell_type": "markdown",
   "metadata": {},
   "source": [
    "Obsérverse que cada grupo solo contiene un renglón de información (el renglón 0)."
   ]
  },
  {
   "cell_type": "code",
   "execution_count": null,
   "metadata": {},
   "outputs": [],
   "source": [
    "# Ahora creamos dos listas, una para el FR y otra para el PCI (Per Capita Income).\n",
    "l_TFR = []\n",
    "l_PCI = []\n",
    "for p in lista_paises_final:\n",
    "    l_TFR.append(paises.get_group(p)['Value'].iloc[2])  # El lugar 2 corresponde a los datos para 2010\n",
    "    l_PCI.append(ingreso_pais.get_group(p)['Value'].iloc[0]) # Solo se tiene el dato para 2010\n",
    "\n",
    "print('\\nTFR (tamaño: {}) \\nDatos :\\n{}'.format(len(l_TFR), l_TFR))\n",
    "print('\\nPCI (tamaño: {}) \\nDatos :\\n{}'.format(len(l_PCI), l_PCI))"
   ]
  },
  {
   "cell_type": "markdown",
   "metadata": {},
   "source": [
    "**Obsérvese** que se tienen `nan` en algunos lugares de la lista de TFR, lo que significa que no se tiene información completa para algunos países. Tomaremos esto en cuenta más adelante."
   ]
  },
  {
   "cell_type": "markdown",
   "metadata": {},
   "source": [
    "### Visualización TFR vs PCI\n",
    "Ahora haremos la gráfica de esta información usando puntos en el plano."
   ]
  },
  {
   "cell_type": "code",
   "execution_count": null,
   "metadata": {},
   "outputs": [],
   "source": [
    "fig = plt.figure(figsize=(10,6)) # Cambiamos el tamaño de la figura\n",
    "\n",
    "# Graficamos el PCI (eje $y$) en función de la FR (eje $x$)\n",
    "# Usamos un color gris tenue y con transparencia. En este caso, este\n",
    "# será nuestro lienzo base para todo lo demás.\n",
    "plt.scatter(l_TFR, l_PCI, marker='o', color='lightgray', alpha=0.5) \n",
    "\n",
    "# Información adicional y títulos\n",
    "plt.title('fuente: http://data.un.org', loc='right', fontstyle='italic', fontsize=10)\n",
    "plt.suptitle(' TFR vs PCI ', y = 0.94, fontsize=14)\n",
    "    \n",
    "plt.grid(ls='--', lw=0.5, c='#AAAAAA')\n",
    "plt.xlabel('TFR [No. de hijos por mujer]')\n",
    "plt.ylabel('PCI [USD/Año]')\n",
    "\n",
    "plt.show()"
   ]
  },
  {
   "cell_type": "markdown",
   "metadata": {},
   "source": [
    "Observamos en la visualización anterior que los puntos se aglomeran en ciertas zonas del espacio. Se puede ver un comportamiento decreciente conforme aumenta el TFR. \n",
    "\n",
    "Vamos a completar la visualización anterior, resaltando los países que elegimos en el paso 5 (probablemente algunos no aparezcan debido a que ajustamos la información)."
   ]
  },
  {
   "cell_type": "code",
   "execution_count": null,
   "metadata": {},
   "outputs": [],
   "source": [
    "fig = plt.figure(figsize=(10,6)) # Cambiamos el tamaño de la figura\n",
    "\n",
    "plt.scatter(l_TFR, l_PCI, marker='o', color='lightgray', alpha=0.5) \n",
    "plt.title('fuente: http://data.un.org', loc='right', fontstyle='italic', fontsize=10)\n",
    "plt.suptitle(' TFR vs PCI ', y = 0.94, fontsize=14)\n",
    "plt.grid(ls='--', lw=0.5, c='#AAAAAA')\n",
    "plt.xlabel('TFR [No. de hijos por mujer]')\n",
    "plt.ylabel('PCI [USD/Año]')\n",
    "\n",
    "# Gráfica de los países elegidos en el paso 5 usando puntos de colores y resaltados.\n",
    "for p, c in paises_colores.items():\n",
    "    try:\n",
    "        ip = lista_paises_final.index(p)\n",
    "        plt.scatter(l_TFR[ip], l_PCI[ip], \n",
    "                    marker='o', s=100,\n",
    "                    facecolor=c, edgecolor='grey', alpha=0.75,\n",
    "                    zorder=1000, label=p)\n",
    "    except ValueError:\n",
    "        continue\n",
    "\n",
    "plt.legend()\n",
    "\n",
    "plt.show()"
   ]
  },
  {
   "cell_type": "markdown",
   "metadata": {},
   "source": [
    "### Ajuste de los datos.\n",
    "Dada la tendencia que se observa en esta gráfica, vamos a intentar ajustar una curva a los datos."
   ]
  },
  {
   "cell_type": "code",
   "execution_count": null,
   "metadata": {},
   "outputs": [],
   "source": [
    "# Usaremos en este caso la función curve_fit.\n",
    "from scipy.optimize import curve_fit\n",
    "\n",
    "# La función que queremos ajustar: exponencial decreciente.\n",
    "def func(x, a, b, c):\n",
    "    return a * np.exp(-b * x) + c\n",
    "\n",
    "# Vamos a limpiar los datos, pues existen algunos 'nan' en ellos, particularmente en el FR.\n",
    "xdata = []\n",
    "ydata = []\n",
    "for lf, li in zip(l_TFR, l_PCI):\n",
    "    if ~np.isnan(lf):\n",
    "        xdata.append(lf)\n",
    "        ydata.append(li)\n",
    "    \n",
    "# Con las listas xdata y ydata ya podemos hacer el ajuste\n",
    "popt, pcov = curve_fit(func, xdata, ydata)\n",
    "perr = np.sqrt(np.diag(pcov))"
   ]
  },
  {
   "cell_type": "code",
   "execution_count": null,
   "metadata": {},
   "outputs": [],
   "source": [
    "print(popt, perr)"
   ]
  },
  {
   "cell_type": "code",
   "execution_count": null,
   "metadata": {},
   "outputs": [],
   "source": [
    "# Graficamos el ajuste\n",
    "x = np.linspace(1,9,100)\n",
    "y = func(x, *popt)\n",
    "plt.plot(x, y, 'r-',label='fit: a={:5.3f}, b={:5.3}, c={:5.3f}'.format(popt[0], popt[1], popt[2]))\n",
    "plt.legend()\n",
    "plt.show()"
   ]
  },
  {
   "cell_type": "markdown",
   "metadata": {},
   "source": [
    "Finalmente graficamos todo junto:"
   ]
  },
  {
   "cell_type": "code",
   "execution_count": null,
   "metadata": {},
   "outputs": [],
   "source": [
    "fig = plt.figure(figsize=(10,6)) # Cambiamos el tamaño de la figura\n",
    "\n",
    "plt.scatter(l_TFR, l_PCI, marker='o', color='#ABABAB', alpha=0.5) \n",
    "plt.title('fuente: http://data.un.org', loc='right', fontstyle='italic', fontsize=10)\n",
    "plt.suptitle('TFR vs PCI ', y = 0.94, fontsize=14)\n",
    "    \n",
    "plt.grid(ls='--', lw=0.5, c='#AAAAAA')\n",
    "plt.xlabel('TFR [No. de hijos por mujer]')\n",
    "plt.ylabel('PCI [USD/Año]')\n",
    "\n",
    "# Gráfica de los países elegido en el paso 5 usando puntos de colores y resaltados.\n",
    "for p, c in paises_colores.items():\n",
    "    try:\n",
    "        ip = lista_paises_final.index(p)\n",
    "        plt.scatter(l_TFR[ip], l_PCI[ip], \n",
    "                    marker='o', s=75,\n",
    "                    facecolor=c, edgecolor='black', alpha=0.75,\n",
    "                    zorder=1000, label=p)\n",
    "    except ValueError:\n",
    "        continue\n",
    "\n",
    "# Gráfica del ajuste resaltada\n",
    "plt.plot(x, y, 'r-', lw=3.0, alpha=0.4)\n",
    "plt.plot(x, y, 'r-', lw=1.0, label='fit: a={:5.3f}, b={:5.3}, c={:5.3f}'.format(popt[0], popt[1], popt[2]))\n",
    "plt.legend()\n",
    "\n",
    "# Eliminamos parte del recuadro de la figura.\n",
    "ejes = fig.axes\n",
    "ejes[0].spines['right'].set_visible(False)\n",
    "ejes[0].spines['top'].set_visible(False)\n",
    "    \n",
    "plt.savefig('FR03.png')\n",
    "plt.show()"
   ]
  },
  {
   "cell_type": "markdown",
   "metadata": {},
   "source": [
    "- ¿Que podría mejorar de esta visualización? (colores, dimensiones, anotaciones, leyendas, ajuste de la curva, etc.)\n",
    "- ¿Qué historia se puede contar con esta gráfica?"
   ]
  },
  {
   "cell_type": "markdown",
   "metadata": {},
   "source": [
    "## Datos del nivel en educación.\n",
    "Vamos ahora realizar una visualización similar pero con información del nivel de educación en cada país.\n",
    "\n",
    "Obtenemos la información de http://data.un.org haciendo la búsqueda por 'education' y eligiendo el conjunto de datos 'Gross enrolment ratio. Tertiary education', como se muestra en la siguiente figura:\n",
    "\n",
    "<img src=\"../Figuras/Educacion.png\"  style=\"width: 800px;\"/>\n",
    "\n",
    "**Observación** : igual que en el caso del ingreso, los datos son solo para el año 2010, que es el año en el que vamos a realizar la comparación."
   ]
  },
  {
   "cell_type": "code",
   "execution_count": null,
   "metadata": {},
   "outputs": [],
   "source": [
    "# Leemos el archivo generado \n",
    "educacion = pd.read_csv('../Datos/UNdata_Export_20211023_005512887.zip')\n",
    "educacion"
   ]
  },
  {
   "cell_type": "markdown",
   "metadata": {},
   "source": [
    "Observamos que la información viene para 'Female', 'Male' y 'All genders'."
   ]
  },
  {
   "cell_type": "code",
   "execution_count": null,
   "metadata": {},
   "outputs": [],
   "source": [
    "# Organizamos la información por país y por sexo:\n",
    "educacion_pais = educacion.groupby(['Reference Area', 'Sex'])\n",
    "\n",
    "# Podemos por ejemplo revisar la información para México:\n",
    "gender = 'Female' # Este parámetro permite elegir el sexo para la comparación.\n",
    "educacion_pais.get_group(('Mexico',gender))"
   ]
  },
  {
   "cell_type": "markdown",
   "metadata": {},
   "source": [
    "Obsérvese que solo se tiene un renglón por grupo."
   ]
  },
  {
   "cell_type": "markdown",
   "metadata": {},
   "source": [
    "### Tratamiento de los datos\n",
    "\n",
    "Igual que antes, debemos asegurarnos que tenemos el mismo número de datos."
   ]
  },
  {
   "cell_type": "code",
   "execution_count": null,
   "metadata": {},
   "outputs": [],
   "source": [
    "lista_paises_final2 = []\n",
    "for p in paises.groups.keys():\n",
    "    try:\n",
    "        e = educacion_pais.get_group((p, gender))\n",
    "        lista_paises_final2.append(p)\n",
    "    except KeyError:\n",
    "        continue\n",
    "        \n",
    "print('Lista final de países en ambos Dataframes : ', len(lista_paises_final2), '\\n')\n",
    "print(lista_paises_final2)"
   ]
  },
  {
   "cell_type": "code",
   "execution_count": null,
   "metadata": {},
   "outputs": [],
   "source": [
    "# Ahora creamos dos listas, una para el FR y otra para el nivel educativo\n",
    "l_TFR2 = []\n",
    "l_ED = []\n",
    "for p in lista_paises_final2:\n",
    "    l_TFR2.append(paises.get_group(p)['Value'].iloc[2])  # El lugar 2 corresponde a los datos para 2010\n",
    "    \n",
    "    e = educacion_pais.get_group((p, gender))\n",
    "    l_ED.append(e['Observation Value'].iloc[0]) # Solo se tiene el dato para 2010\n",
    "\n",
    "print('\\nTFR (tamaño: {}) \\nDatos :\\n{}'.format(len(l_TFR2), l_TFR2))\n",
    "print('\\nEducación (tamaño: {}) \\nDatos :\\n{}'.format(len(l_ED), l_ED))"
   ]
  },
  {
   "cell_type": "markdown",
   "metadata": {},
   "source": [
    "### Visualización TFR vs Educación"
   ]
  },
  {
   "cell_type": "code",
   "execution_count": null,
   "metadata": {},
   "outputs": [],
   "source": [
    "fig = plt.figure(figsize=(10,6)) # Cambiamos el tamaño de la figura\n",
    "\n",
    "# Graficamos el nivel de eduación (eje $y$) en función de la fertilidad (eje $x$)\n",
    "plt.scatter(l_TFR2, l_ED, marker='o', color='lightgray', alpha=0.5) \n",
    "\n",
    "# Información adicional y títulos\n",
    "plt.title('fuente: http://data.un.org', loc='right', fontstyle='italic', fontsize=10)\n",
    "plt.suptitle('TFR vs Educación (mujer) ', y = 0.94, fontsize=14)\n",
    "    \n",
    "plt.grid(ls='--', lw=0.5, c='#AAAAAA')\n",
    "plt.xlabel('TFR [No. de hijos por mujer]')\n",
    "plt.ylabel('% en tercer nivel educativo ({})'.format(gender))\n",
    "\n",
    "# Gráfica de los países elegido en el paso 5 usando puntos de colores y resaltados.\n",
    "for p, c in paises_colores.items():\n",
    "    try:\n",
    "        ip = lista_paises_final2.index(p)\n",
    "        plt.scatter(l_TFR[ip], l_ED[ip], \n",
    "                    marker='o', s=75,\n",
    "                    facecolor=c, edgecolor='k', alpha=0.75,\n",
    "                    zorder=1000, label=p)\n",
    "    except ValueError:\n",
    "        continue\n",
    "\n",
    "plt.legend(loc='upper center')\n",
    "\n",
    "plt.show()"
   ]
  },
  {
   "cell_type": "markdown",
   "metadata": {},
   "source": [
    "- ¿Qué se puede decir de esta visualización?\n",
    "- ¿Cómo se podría mejorar? (colores, dimensiones, anotaciones, leyendas, etc)\n",
    "- ¿Podría realizar un ajuste de una curva a estos datos?\n",
    "- ¿Cree que los datos están correctos?"
   ]
  },
  {
   "cell_type": "markdown",
   "metadata": {},
   "source": [
    "## Visualización final TFR vs PCI vs ED.\n",
    "\n",
    "Finalmente vamos a combinar las tres variables: TFR, ingresos, educación, en una sola visualización."
   ]
  },
  {
   "cell_type": "markdown",
   "metadata": {},
   "source": [
    "### Tratamiento de los datos."
   ]
  },
  {
   "cell_type": "code",
   "execution_count": null,
   "metadata": {},
   "outputs": [],
   "source": [
    "# Creamos una lista de países que tengan la información de las tres variables.\n",
    "lista_paises_final3 = []\n",
    "for p in lista_paises_final:\n",
    "    if p in lista_paises_final2:\n",
    "        lista_paises_final3.append(p)\n",
    "\n",
    "print('Total de países para la comparación: {} \\n\\n'.format(len(lista_paises_final3)), lista_paises_final3)"
   ]
  },
  {
   "cell_type": "code",
   "execution_count": null,
   "metadata": {},
   "outputs": [],
   "source": [
    "# Ahora creamos tres listas para las variables FR, PCI y educación, para los \n",
    "# países de la lista anterior.\n",
    "lf = []\n",
    "li = []\n",
    "le = []\n",
    "for p in lista_paises_final3:\n",
    "    lf.append(paises.get_group(p)['Value'].iloc[2])  # El lugar 2 corresponde a los datos para 2010\n",
    "    li.append(ingreso_pais.get_group(p)['Value'].iloc[0]) # Solo se tiene el dato para 2010\n",
    "    e = educacion_pais.get_group((p, gender))\n",
    "    le.append(e['Observation Value'].iloc[0]) # Solo se tiene el dato para 2010\n",
    "\n",
    "print('\\nTFR (tamaño: {}) \\nDatos :\\n{}'.format(len(lf), lf))\n",
    "print('\\nPCI (tamaño: {}) \\nDatos :\\n{}'.format(len(li), li))\n",
    "print('\\nEducación (tamaño: {}) \\nDatos :\\n{}'.format(len(le), le))"
   ]
  },
  {
   "cell_type": "markdown",
   "metadata": {},
   "source": [
    "Hacemos la visualización usando la variable eduación como un valor para el área de los círculos que se van a graficar."
   ]
  },
  {
   "cell_type": "code",
   "execution_count": null,
   "metadata": {},
   "outputs": [],
   "source": [
    "fig = plt.figure(figsize=(10,6)) # Cambiamos el tamaño de la figura\n",
    "\n",
    "# Eje x: TFR\n",
    "# Eje y: PCI\n",
    "# Area y color: Educación\n",
    "\n",
    "se = np.array(le) * 5\n",
    "max_se = np.max(se)\n",
    "color = [int(c) for c in se]\n",
    "scatter = plt.scatter(lf, li, marker='o', c=se, alpha=0.5, s=se, cmap=\"viridis\") \n",
    "plt.colorbar(mappable=scatter, label='Nivel educativo')\n",
    "\n",
    "plt.title('fuente: http://data.un.org', loc='right', fontstyle='italic', fontsize=10)\n",
    "plt.suptitle('TFR vs PCI vs Educación ', y = 0.98, fontsize=14)\n",
    "    \n",
    "plt.grid(ls='--', lw=0.5, c='#AAAAAA')\n",
    "plt.xlabel('TFR [No. de hijos por mujer]')\n",
    "plt.ylabel('PCI [USD/Año]')\n",
    "\n",
    "# Gráficamos el ajuste entre fertilidad e ingresos\n",
    "plt.plot(x, y, '--', c='red', lw=2.0, zorder=0, alpha=0.75,\n",
    "         label='Ajuste FR: a={:5.3f}, b={:5.3}, c={:5.3f}'.format(popt[0], popt[1], popt[2]))\n",
    "\n",
    "# Identificamos algunos países en el gráfico\n",
    "ipm = lista_paises_final3.index('Mexico')\n",
    "plt.annotate('México', xy=(lf[ipm], li[ipm]), xytext=(5, 30000),\n",
    "             bbox=dict(boxstyle='round', facecolor='green', edgecolor='black', alpha=0.75, linewidth=1.1),\n",
    "             arrowprops=dict(arrowstyle='->', facecolor='black', edgecolor='black'),\n",
    "             fontsize=10, color='white', horizontalalignment='center')\n",
    "\n",
    "ipn = lista_paises_final3.index('Niger')\n",
    "plt.annotate('Nigeria', xy=(lf[ipn], li[ipn]), xytext=(7, 5000),\n",
    "             bbox=dict(boxstyle='round', facecolor='yellow', edgecolor='black', alpha=0.75, linewidth=1.1),\n",
    "             arrowprops=dict(arrowstyle='->', facecolor='black', edgecolor='black'),\n",
    "             fontsize=10, color='black', horizontalalignment='center')\n",
    "\n",
    "ipj = lista_paises_final3.index('China')\n",
    "plt.annotate('China', xy=(lf[ipj], li[ipj]), xytext=(1.5, 1000),\n",
    "             bbox=dict(boxstyle='round', facecolor='red', edgecolor='black', alpha=0.75, linewidth=1.1),\n",
    "             arrowprops=dict(arrowstyle='->', facecolor='black', edgecolor='black'),\n",
    "             fontsize=10, color='white', horizontalalignment='center')\n",
    "\n",
    "# Agregamos un poco más de información\n",
    "plt.text(6.75, 40000, 'El área y color de cada \\n círculo representa el nivel \\n educativo del país',                   \n",
    "             transform=plt.gca().transData, \n",
    "             horizontalalignment='center', color='black',\n",
    "             bbox=dict(boxstyle='round', facecolor='gray', edgecolor='black', alpha=0.1, linewidth=0.75)) \n",
    "\n",
    "# Usamos escala semilogarítmica\n",
    "plt.yscale('log')\n",
    "plt.ylim(1e2,1e5)\n",
    "plt.xlim(0.5,8)\n",
    "plt.legend(loc='lower left', fontsize=10)\n",
    "\n",
    "# Eliminamos parte del recuadro de la figura.\n",
    "ejes = fig.axes\n",
    "ejes[0].spines['right'].set_visible(False)\n",
    "ejes[0].spines['top'].set_visible(False)\n",
    "ejes[0].spines['bottom'].set_visible(False)\n",
    "\n",
    "plt.savefig('FR04.png')\n",
    "plt.show()"
   ]
  },
  {
   "cell_type": "markdown",
   "metadata": {},
   "source": [
    "- ¿Puede contar la historia de esta última visualización?\n",
    "- ¿Hay algo que sobre o que falte?"
   ]
  },
  {
   "cell_type": "code",
   "execution_count": null,
   "metadata": {},
   "outputs": [],
   "source": []
  }
 ],
 "metadata": {
  "kernelspec": {
   "display_name": "Python 3",
   "language": "python",
   "name": "python3"
  },
  "language_info": {
   "codemirror_mode": {
    "name": "ipython",
    "version": 3
   },
   "file_extension": ".py",
   "mimetype": "text/x-python",
   "name": "python",
   "nbconvert_exporter": "python",
   "pygments_lexer": "ipython3",
   "version": "3.8.8"
  },
  "toc-autonumbering": false,
  "toc-showtags": false
 },
 "nbformat": 4,
 "nbformat_minor": 4
}
