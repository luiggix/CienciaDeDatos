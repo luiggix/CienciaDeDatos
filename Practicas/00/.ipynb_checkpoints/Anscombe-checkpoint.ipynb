{
 "cells": [
  {
   "cell_type": "markdown",
   "id": "05920898",
   "metadata": {
    "slideshow": {
     "slide_type": "slide"
    }
   },
   "source": [
    "# Práctica 0: ¿Por qué visualizar?\n",
    "**C03 : Visualización Científica y Narrativas**\n",
    "\n",
    "**RAUGM 2021: Geociencias e inclusión**\n",
    "\n",
    "This notebook by Luis M. de la Cruz Salas is licensed under <a href=\"https://creativecommons.org/licenses/by-nc-nd/4.0?ref=chooser-v1\">Attribution-NonCommercial-NoDerivatives 4.0 International</a>"
   ]
  },
  {
   "cell_type": "markdown",
   "id": "b1a11b55",
   "metadata": {
    "slideshow": {
     "slide_type": "slide"
    }
   },
   "source": [
    "## ¿Porqué Visualizar?\n",
    "\n",
    "<div class=\"texto\"> El proceso de transformar datos crudos en imágenes ayuda a mejorar las interpretaciones de grandes conjuntos de datos y eso permite obtener una perspectiva que podría pasarse por alto si se usarán solamente métodos estadísticos.\n",
    "\n",
    "<h3>\n",
    "Ejemplo: <a href=\"https://en.wikipedia.org/wiki/Anscombe%27s_quartet\"> Anscombe's quartet </a>\n",
    "</h3>\n",
    "    \n",
    "Consiste de cuatro conjuntos de datos que tienen las mismas propiedades estadísticas:\n",
    "</div>\n",
    "\n",
    "| Propiedad | Valor   |\n",
    "|---|---|\n",
    "| Media $\\bar{x}$ | 9     |\n",
    "| Media $\\bar{y}$ | 7.50  |\n",
    "| Varianza muestral $s_x^2$   | 11    |\n",
    "| Varianza muestral $s_y^2$   | 4.125 |\n",
    "| Correlación entre $x$ y $y$ | 0.816 |\n",
    "| Regresión lineal | $y$ = 3.00 + 0.500$x$ |\n",
    "| Coef. de determinación $R^{2}$ | 0.67 |\n",
    "\n",
    "Cada conjunto consiste de once puntos (x, y) y fueron construidos por el estadístico F. J. Anscombe.\n",
    "\n",
    "Referencia: Anscombe, F. J. (1973). \"Graphs in Statistical Analysis\". The American Statistician. 27 (1): 17–21. doi:10.2307/2682899. JSTOR 2682899. "
   ]
  },
  {
   "cell_type": "code",
   "execution_count": null,
   "id": "ad7b4675",
   "metadata": {},
   "outputs": [],
   "source": [
    "import numpy as np\n",
    "import pandas as pd \n",
    "from sklearn.linear_model import LinearRegression"
   ]
  },
  {
   "cell_type": "markdown",
   "id": "8122ce7e-547a-496f-a72b-fffb85adceb5",
   "metadata": {},
   "source": [
    "Leer el archivo con la información y ponerla en un DataFrame"
   ]
  },
  {
   "cell_type": "code",
   "execution_count": null,
   "id": "15b188af",
   "metadata": {
    "slideshow": {
     "slide_type": "subslide"
    }
   },
   "outputs": [],
   "source": [
    "data = pd.read_csv('AnscombeQuartet.txt', sep='\\t', header=None)\n",
    "data"
   ]
  },
  {
   "cell_type": "markdown",
   "id": "83321d5f-6c42-4f6f-8b2f-7785389ac465",
   "metadata": {},
   "source": [
    "Organicemos un poco el DataFrame"
   ]
  },
  {
   "cell_type": "code",
   "execution_count": null,
   "id": "cccf6e6d",
   "metadata": {
    "slideshow": {
     "slide_type": "slide"
    }
   },
   "outputs": [],
   "source": [
    "header = pd.MultiIndex.from_product([['Dataset 1','Dataset 2', \n",
    "                                      'Dataset 3', 'Dataset 4'],\n",
    "                                     ['x', 'y']],\n",
    "                                    names=['dat','val'])\n",
    "data.columns = header\n",
    "data.index = [1,2,3,4,5,6,7,8,9,10,11]\n",
    "data"
   ]
  },
  {
   "cell_type": "code",
   "execution_count": null,
   "id": "7c8bef92",
   "metadata": {},
   "outputs": [],
   "source": [
    "data.mean(axis=0) # Calculamos la media de todos los conjuntos de datos"
   ]
  },
  {
   "cell_type": "code",
   "execution_count": null,
   "id": "3de8ecca",
   "metadata": {},
   "outputs": [],
   "source": [
    "data.var(axis=0) # Calculamos la varianza muestral de todos los conjuntos de datos"
   ]
  },
  {
   "cell_type": "code",
   "execution_count": null,
   "id": "193f7db7",
   "metadata": {},
   "outputs": [],
   "source": [
    "data['Dataset 1'].corr() # Correlación\n",
    "                        # Cambiar el número del dataset"
   ]
  },
  {
   "cell_type": "code",
   "execution_count": null,
   "id": "dd5fcb08",
   "metadata": {},
   "outputs": [],
   "source": [
    "# Convertir los valores en un arreglo columna de numpy\n",
    "X = data.iloc[:, 0].values.reshape(-1, 1)\n",
    "X"
   ]
  },
  {
   "cell_type": "code",
   "execution_count": null,
   "id": "7d8d8ab5",
   "metadata": {},
   "outputs": [],
   "source": [
    "def regresionLineal(data, i):\n",
    "    X = data.iloc[:, i].values.reshape(-1, 1)   # Vector columna X\n",
    "    Y = data.iloc[:, i+1].values.reshape(-1, 1) # Vector columna Y\n",
    "    \n",
    "#    if i == 4:\n",
    "#        X = np.delete(X, 2).reshape(-1,1)\n",
    "#        Y = np.delete(Y, 2).reshape(-1,1)\n",
    "\n",
    "    linear_regressor = LinearRegression() # Objeto para la regresión lineal\n",
    "    linear_regressor.fit(X, Y)            # Se realiza la regresión lineal\n",
    "    R2 = linear_regressor.score(X,Y)      # Coeficiente de determinación\n",
    "    m = linear_regressor.coef_            # Coeficientes de la regresión\n",
    "    b = linear_regressor.intercept_       # lineal y = mx + b \n",
    "\n",
    "    X_pred = np.arange(0,21,1)\n",
    "    X_pred.shape = (-1,1) # vector columna\n",
    "    Y_pred = linear_regressor.predict(X_pred)  # Se realiza la predicción\n",
    "    \n",
    "    return X, Y, X_pred, Y_pred, R2, m[0][0], b[0]"
   ]
  },
  {
   "cell_type": "code",
   "execution_count": null,
   "id": "77d744a7",
   "metadata": {},
   "outputs": [],
   "source": [
    "# Cálculo de la regresión para el Dataset 1\n",
    "X, Y, X_pred, Y_pred, R2, m, b = regresionLineal(data, 4)\n",
    "print('R2 = {:0.3f} \\t m = {:0.3f} \\t b = {:0.3f}'.format(R2, m, b))"
   ]
  },
  {
   "cell_type": "code",
   "execution_count": null,
   "id": "9cfccd9d",
   "metadata": {},
   "outputs": [],
   "source": [
    "# Cálculo de la regresión para todo los Dataset's\n",
    "for i in range(0,7,2):\n",
    "    X, Y, X_pred, Y_pred, R2, m, b = regresionLineal(data, i)\n",
    "    print('Dataset {:} : R2 = {:0.3f} \\t m = {:0.3f} \\t b = {:0.3f}'.format(i//2+1, R2, m, b))"
   ]
  },
  {
   "cell_type": "markdown",
   "id": "3a6dfa39-fd12-4ba2-998f-2deb4da279dc",
   "metadata": {},
   "source": [
    "**¿Qué se puede decir de estos resultados?**"
   ]
  },
  {
   "cell_type": "code",
   "execution_count": null,
   "id": "46ad417e",
   "metadata": {},
   "outputs": [],
   "source": [
    "import matplotlib.pyplot as plt\n",
    "params = {'legend.fontsize': 16,\n",
    "         'axes.labelsize':16,\n",
    "         'axes.titlesize':16,\n",
    "         'xtick.labelsize':16,\n",
    "         'ytick.labelsize':16}\n",
    "plt.rcParams.update(params)\n",
    "\n",
    "fig, axes = plt.subplots(nrows=2, ncols=2, figsize=(14,8))\n",
    "\n",
    "num = 1\n",
    "for a in axes:\n",
    "    for ax in a:\n",
    "        X, Y, X_pred, Y_pred, R2, m, b = regresionLineal(data, (num - 1)*2)\n",
    "        ax.scatter(X, Y, marker = 'o', c='orange', s=75, edgecolor='red')\n",
    "        leyenda = 'R2 : {:0.3f}, m : {:0.3f}, b : {:0.3f}'.format(R2, m, b)\n",
    "        ax.plot(X_pred, Y_pred, color='blue', lw=2.0, label=leyenda)\n",
    "        ax.set_xlim(2,20)\n",
    "        ax.set_aspect(aspect=1.0)\n",
    "        ax.set_xlabel('x')\n",
    "        ax.set_ylabel('y')\n",
    "        ax.set_title('Dataset {}'.format(num))\n",
    "        ax.legend()\n",
    "        num += 1\n",
    "plt.tight_layout()"
   ]
  },
  {
   "cell_type": "markdown",
   "id": "9b07cd50-788f-4e95-a6cb-63ef3f8bcbb8",
   "metadata": {},
   "source": [
    "**¿Qué puede decir de estos gráficos**\n",
    "\n",
    "- Gráfica del Dataset 1: relación lineal simple entre dos variables correlacionadas.\n",
    "- Gráfica del Dataset 2: se observa una relación entre $x$ y $y$ pero no parece ser lineal.\n",
    "- Gráfica del Dataset 3: relación lineal pero la regresión obtenida se ve afectada por el dato extremo que influye en el resultado final y altera el coeficiente de correlación de 1 a 0.816.\n",
    "- Gráfica del Dataset 4: se muestra como un valor atípico es suficiente para producir un coeficiente de correlación alto, aún cuando la relación entre las variables no es lineal.\n",
    "\n",
    "Este cuarteto es usado todavía en la actualidad para ilustrar la importancia de graficar los datos antes de realizar cualquier análisis estadístico. También se muestra el efecto de los valores atípicos. \n",
    "\n",
    "La intención fue cambiar la impresión de que **“los cálculos numéricos son exactos, pero los gráficos aproximados”**.\n",
    "\n",
    "<a href='https://es.wikipedia.org/wiki/Edward_Tufte'>Edward Tufte</a> usó el cuarteto en la primera página del primer capítulo de su libro <a href='https://archive.org/details/visualdisplayofq00tuft/mode/2up'>*The Visual Display of Quantitative Information*</a>, para enfatizar la importancia de mirar los datos antes de analizarlos. "
   ]
  },
  {
   "cell_type": "code",
   "execution_count": null,
   "id": "5b749df4",
   "metadata": {},
   "outputs": [],
   "source": []
  }
 ],
 "metadata": {
  "kernelspec": {
   "display_name": "Python 3",
   "language": "python",
   "name": "python3"
  },
  "language_info": {
   "codemirror_mode": {
    "name": "ipython",
    "version": 3
   },
   "file_extension": ".py",
   "mimetype": "text/x-python",
   "name": "python",
   "nbconvert_exporter": "python",
   "pygments_lexer": "ipython3",
   "version": "3.8.8"
  }
 },
 "nbformat": 4,
 "nbformat_minor": 5
}
