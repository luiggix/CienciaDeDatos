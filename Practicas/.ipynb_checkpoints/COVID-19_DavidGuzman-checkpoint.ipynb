{
 "cells": [
  {
   "cell_type": "code",
   "execution_count": 1,
   "metadata": {},
   "outputs": [],
   "source": [
    "import pandas as pd\n",
    "import numpy as np\n",
    "import matplotlib.pyplot as plt\n",
    "from scipy.optimize import curve_fit\n",
    "\n",
    "plt.rc('text', usetex=True)\n",
    "plt.rc('font', family='serif')"
   ]
  },
  {
   "cell_type": "code",
   "execution_count": 2,
   "metadata": {},
   "outputs": [
    {
     "data": {
      "text/html": [
       "<div>\n",
       "<style scoped>\n",
       "    .dataframe tbody tr th:only-of-type {\n",
       "        vertical-align: middle;\n",
       "    }\n",
       "\n",
       "    .dataframe tbody tr th {\n",
       "        vertical-align: top;\n",
       "    }\n",
       "\n",
       "    .dataframe thead th {\n",
       "        text-align: right;\n",
       "    }\n",
       "</style>\n",
       "<table border=\"1\" class=\"dataframe\">\n",
       "  <thead>\n",
       "    <tr style=\"text-align: right;\">\n",
       "      <th></th>\n",
       "      <th>1/22/20</th>\n",
       "      <th>1/23/20</th>\n",
       "      <th>1/24/20</th>\n",
       "      <th>1/25/20</th>\n",
       "      <th>1/26/20</th>\n",
       "      <th>1/27/20</th>\n",
       "      <th>1/28/20</th>\n",
       "      <th>1/29/20</th>\n",
       "      <th>1/30/20</th>\n",
       "      <th>1/31/20</th>\n",
       "      <th>...</th>\n",
       "      <th>4/7/20</th>\n",
       "      <th>4/8/20</th>\n",
       "      <th>4/9/20</th>\n",
       "      <th>4/10/20</th>\n",
       "      <th>4/11/20</th>\n",
       "      <th>4/12/20</th>\n",
       "      <th>4/13/20</th>\n",
       "      <th>4/14/20</th>\n",
       "      <th>4/15/20</th>\n",
       "      <th>4/16/20</th>\n",
       "    </tr>\n",
       "    <tr>\n",
       "      <th>Country/Region</th>\n",
       "      <th></th>\n",
       "      <th></th>\n",
       "      <th></th>\n",
       "      <th></th>\n",
       "      <th></th>\n",
       "      <th></th>\n",
       "      <th></th>\n",
       "      <th></th>\n",
       "      <th></th>\n",
       "      <th></th>\n",
       "      <th></th>\n",
       "      <th></th>\n",
       "      <th></th>\n",
       "      <th></th>\n",
       "      <th></th>\n",
       "      <th></th>\n",
       "      <th></th>\n",
       "      <th></th>\n",
       "      <th></th>\n",
       "      <th></th>\n",
       "      <th></th>\n",
       "    </tr>\n",
       "  </thead>\n",
       "  <tbody>\n",
       "    <tr>\n",
       "      <th>Afghanistan</th>\n",
       "      <td>0</td>\n",
       "      <td>0</td>\n",
       "      <td>0</td>\n",
       "      <td>0</td>\n",
       "      <td>0</td>\n",
       "      <td>0</td>\n",
       "      <td>0</td>\n",
       "      <td>0</td>\n",
       "      <td>0</td>\n",
       "      <td>0</td>\n",
       "      <td>...</td>\n",
       "      <td>423</td>\n",
       "      <td>444</td>\n",
       "      <td>484</td>\n",
       "      <td>521</td>\n",
       "      <td>555</td>\n",
       "      <td>607</td>\n",
       "      <td>665</td>\n",
       "      <td>714</td>\n",
       "      <td>784</td>\n",
       "      <td>840</td>\n",
       "    </tr>\n",
       "    <tr>\n",
       "      <th>Albania</th>\n",
       "      <td>0</td>\n",
       "      <td>0</td>\n",
       "      <td>0</td>\n",
       "      <td>0</td>\n",
       "      <td>0</td>\n",
       "      <td>0</td>\n",
       "      <td>0</td>\n",
       "      <td>0</td>\n",
       "      <td>0</td>\n",
       "      <td>0</td>\n",
       "      <td>...</td>\n",
       "      <td>383</td>\n",
       "      <td>400</td>\n",
       "      <td>409</td>\n",
       "      <td>416</td>\n",
       "      <td>433</td>\n",
       "      <td>446</td>\n",
       "      <td>467</td>\n",
       "      <td>475</td>\n",
       "      <td>494</td>\n",
       "      <td>518</td>\n",
       "    </tr>\n",
       "    <tr>\n",
       "      <th>Algeria</th>\n",
       "      <td>0</td>\n",
       "      <td>0</td>\n",
       "      <td>0</td>\n",
       "      <td>0</td>\n",
       "      <td>0</td>\n",
       "      <td>0</td>\n",
       "      <td>0</td>\n",
       "      <td>0</td>\n",
       "      <td>0</td>\n",
       "      <td>0</td>\n",
       "      <td>...</td>\n",
       "      <td>1468</td>\n",
       "      <td>1572</td>\n",
       "      <td>1666</td>\n",
       "      <td>1761</td>\n",
       "      <td>1825</td>\n",
       "      <td>1914</td>\n",
       "      <td>1983</td>\n",
       "      <td>2070</td>\n",
       "      <td>2160</td>\n",
       "      <td>2268</td>\n",
       "    </tr>\n",
       "    <tr>\n",
       "      <th>Andorra</th>\n",
       "      <td>0</td>\n",
       "      <td>0</td>\n",
       "      <td>0</td>\n",
       "      <td>0</td>\n",
       "      <td>0</td>\n",
       "      <td>0</td>\n",
       "      <td>0</td>\n",
       "      <td>0</td>\n",
       "      <td>0</td>\n",
       "      <td>0</td>\n",
       "      <td>...</td>\n",
       "      <td>545</td>\n",
       "      <td>564</td>\n",
       "      <td>583</td>\n",
       "      <td>601</td>\n",
       "      <td>601</td>\n",
       "      <td>638</td>\n",
       "      <td>646</td>\n",
       "      <td>659</td>\n",
       "      <td>673</td>\n",
       "      <td>673</td>\n",
       "    </tr>\n",
       "    <tr>\n",
       "      <th>Angola</th>\n",
       "      <td>0</td>\n",
       "      <td>0</td>\n",
       "      <td>0</td>\n",
       "      <td>0</td>\n",
       "      <td>0</td>\n",
       "      <td>0</td>\n",
       "      <td>0</td>\n",
       "      <td>0</td>\n",
       "      <td>0</td>\n",
       "      <td>0</td>\n",
       "      <td>...</td>\n",
       "      <td>17</td>\n",
       "      <td>19</td>\n",
       "      <td>19</td>\n",
       "      <td>19</td>\n",
       "      <td>19</td>\n",
       "      <td>19</td>\n",
       "      <td>19</td>\n",
       "      <td>19</td>\n",
       "      <td>19</td>\n",
       "      <td>19</td>\n",
       "    </tr>\n",
       "  </tbody>\n",
       "</table>\n",
       "<p>5 rows × 86 columns</p>\n",
       "</div>"
      ],
      "text/plain": [
       "                1/22/20  1/23/20  1/24/20  1/25/20  1/26/20  1/27/20  1/28/20  \\\n",
       "Country/Region                                                                  \n",
       "Afghanistan           0        0        0        0        0        0        0   \n",
       "Albania               0        0        0        0        0        0        0   \n",
       "Algeria               0        0        0        0        0        0        0   \n",
       "Andorra               0        0        0        0        0        0        0   \n",
       "Angola                0        0        0        0        0        0        0   \n",
       "\n",
       "                1/29/20  1/30/20  1/31/20  ...  4/7/20  4/8/20  4/9/20  \\\n",
       "Country/Region                             ...                           \n",
       "Afghanistan           0        0        0  ...     423     444     484   \n",
       "Albania               0        0        0  ...     383     400     409   \n",
       "Algeria               0        0        0  ...    1468    1572    1666   \n",
       "Andorra               0        0        0  ...     545     564     583   \n",
       "Angola                0        0        0  ...      17      19      19   \n",
       "\n",
       "                4/10/20  4/11/20  4/12/20  4/13/20  4/14/20  4/15/20  4/16/20  \n",
       "Country/Region                                                                 \n",
       "Afghanistan         521      555      607      665      714      784      840  \n",
       "Albania             416      433      446      467      475      494      518  \n",
       "Algeria            1761     1825     1914     1983     2070     2160     2268  \n",
       "Andorra             601      601      638      646      659      673      673  \n",
       "Angola               19       19       19       19       19       19       19  \n",
       "\n",
       "[5 rows x 86 columns]"
      ]
     },
     "execution_count": 2,
     "metadata": {},
     "output_type": "execute_result"
    }
   ],
   "source": [
    "url = 'https://raw.githubusercontent.com/CSSEGISandData/COVID-19/master/csse_covid_19_data/csse_covid_19_time_series/time_series_covid19_confirmed_global.csv'\n",
    "covid_global = pd.read_csv(url)\n",
    "covid_global.drop(['Province/State', 'Lat', 'Long'], axis = 1, inplace = True)\n",
    "# Agrupamos por país pues algunos países vienen desglosados por ciudad\n",
    "covid_global = covid_global.groupby('Country/Region').sum()\n",
    "covid_global.head()"
   ]
  },
  {
   "cell_type": "markdown",
   "metadata": {},
   "source": [
    "# Punto 1"
   ]
  },
  {
   "cell_type": "markdown",
   "metadata": {},
   "source": [
    "Para los países tomemos los 10 con más casos y a México."
   ]
  },
  {
   "cell_type": "code",
   "execution_count": 4,
   "metadata": {},
   "outputs": [
    {
     "data": {
      "text/html": [
       "<div>\n",
       "<style scoped>\n",
       "    .dataframe tbody tr th:only-of-type {\n",
       "        vertical-align: middle;\n",
       "    }\n",
       "\n",
       "    .dataframe tbody tr th {\n",
       "        vertical-align: top;\n",
       "    }\n",
       "\n",
       "    .dataframe thead th {\n",
       "        text-align: right;\n",
       "    }\n",
       "</style>\n",
       "<table border=\"1\" class=\"dataframe\">\n",
       "  <thead>\n",
       "    <tr style=\"text-align: right;\">\n",
       "      <th></th>\n",
       "      <th>Países</th>\n",
       "      <th>Total</th>\n",
       "    </tr>\n",
       "  </thead>\n",
       "  <tbody>\n",
       "    <tr>\n",
       "      <th>171</th>\n",
       "      <td>US</td>\n",
       "      <td>667801</td>\n",
       "    </tr>\n",
       "    <tr>\n",
       "      <th>156</th>\n",
       "      <td>Spain</td>\n",
       "      <td>184948</td>\n",
       "    </tr>\n",
       "    <tr>\n",
       "      <th>84</th>\n",
       "      <td>Italy</td>\n",
       "      <td>168941</td>\n",
       "    </tr>\n",
       "    <tr>\n",
       "      <th>61</th>\n",
       "      <td>France</td>\n",
       "      <td>147091</td>\n",
       "    </tr>\n",
       "    <tr>\n",
       "      <th>65</th>\n",
       "      <td>Germany</td>\n",
       "      <td>137698</td>\n",
       "    </tr>\n",
       "    <tr>\n",
       "      <th>175</th>\n",
       "      <td>United Kingdom</td>\n",
       "      <td>104145</td>\n",
       "    </tr>\n",
       "    <tr>\n",
       "      <th>36</th>\n",
       "      <td>China</td>\n",
       "      <td>83403</td>\n",
       "    </tr>\n",
       "    <tr>\n",
       "      <th>80</th>\n",
       "      <td>Iran</td>\n",
       "      <td>77995</td>\n",
       "    </tr>\n",
       "    <tr>\n",
       "      <th>170</th>\n",
       "      <td>Turkey</td>\n",
       "      <td>74193</td>\n",
       "    </tr>\n",
       "    <tr>\n",
       "      <th>16</th>\n",
       "      <td>Belgium</td>\n",
       "      <td>34809</td>\n",
       "    </tr>\n",
       "  </tbody>\n",
       "</table>\n",
       "</div>"
      ],
      "text/plain": [
       "             Países   Total\n",
       "171              US  667801\n",
       "156           Spain  184948\n",
       "84            Italy  168941\n",
       "61           France  147091\n",
       "65          Germany  137698\n",
       "175  United Kingdom  104145\n",
       "36            China   83403\n",
       "80             Iran   77995\n",
       "170          Turkey   74193\n",
       "16          Belgium   34809"
      ]
     },
     "execution_count": 4,
     "metadata": {},
     "output_type": "execute_result"
    }
   ],
   "source": [
    "total_casos = [covid_global.loc[pais][-1] for pais in covid_global.index]\n",
    "\n",
    "totales = pd.DataFrame(data = {'Países':list(covid_global.index), 'Total':total_casos})\n",
    "totales.sort_values(by = 'Total', ascending = False).head(10)"
   ]
  },
  {
   "cell_type": "code",
   "execution_count": null,
   "metadata": {},
   "outputs": [],
   "source": [
    "paises = ['US', 'Spain', 'Italy', 'Germany', 'France', 'China', \n",
    "          'Iran', 'United Kingdom', 'Turkey', 'Switzerland', 'Mexico']"
   ]
  },
  {
   "cell_type": "code",
   "execution_count": null,
   "metadata": {},
   "outputs": [],
   "source": [
    "# Diccionario de fechas, nos servirá más adelante y también para que todas las fechas tengan el mismo formato.\n",
    "\n",
    "dict_fechas = {}\n",
    "\n",
    "inicial_enero = 22\n",
    "inicial_febrero = 1\n",
    "inicial_marzo = 1\n",
    "inicial_abril = 1\n",
    "inicial_mayo = 1\n",
    "\n",
    "for i in range(200):\n",
    "    \n",
    "    if i <= 10:     \n",
    "        fecha = str(inicial_enero) + '/Ene/20'\n",
    "        inicial_enero = inicial_enero + 1\n",
    "        dict_fechas[i] = fecha\n",
    "    elif i <= 10+29:\n",
    "        fecha = str(inicial_febrero) + '/Feb/20'\n",
    "        inicial_febrero = inicial_febrero + 1\n",
    "        dict_fechas[i] = fecha\n",
    "    elif i <= 10+29+31:\n",
    "        fecha = str(inicial_marzo) + '/Mar/20'\n",
    "        inicial_marzo = inicial_marzo + 1\n",
    "        dict_fechas[i] = fecha\n",
    "    elif i <= 10+29+31+30:\n",
    "        fecha = str(inicial_abril) + '/Abr/20'\n",
    "        inicial_abril = inicial_abril + 1\n",
    "        dict_fechas[i] = fecha\n",
    "    elif i <= 10+29+31+30+31:\n",
    "        fecha = str(inicial_mayo) + '/May/20'\n",
    "        inicial_mayo = inicial_mayo + 1\n",
    "        dict_fechas[i] = fecha"
   ]
  },
  {
   "cell_type": "code",
   "execution_count": null,
   "metadata": {},
   "outputs": [],
   "source": [
    "plt.figure(figsize=(12,7))\n",
    "\n",
    "for pais in paises:\n",
    "    \n",
    "    if pais == 'Mexico':\n",
    "        kwargs = {'alpha':1.0, 'linewidth':3.0}\n",
    "    else:\n",
    "        kwargs = {'alpha':0.4, 'linewidth':1.0}\n",
    "    \n",
    "    fechas = [dict_fechas[i] for i in range(len(covid_global.columns))]\n",
    "    casos = covid_global.loc[pais]\n",
    "    \n",
    "    plt.scatter(fechas, casos, s = 8, label = '', **kwargs)\n",
    "    plt.plot(fechas, casos, label = pais, **kwargs)\n",
    "    plt.xticks(rotation = 45)\n",
    "    plt.xticks(np.arange(0, len(fechas), step=3))\n",
    "\n",
    "    plt.xlabel(r'\\textbf{Fecha}')\n",
    "    plt.ylabel(r'\\textbf{Número de casos}')\n",
    "\n",
    "# plt.yscale('log')\n",
    "plt.legend(bbox_to_anchor=(1.2, 1.01), loc='upper right', ncol=1)\n",
    "plt.grid()\n",
    "plt.show()"
   ]
  },
  {
   "cell_type": "code",
   "execution_count": null,
   "metadata": {},
   "outputs": [],
   "source": [
    "plt.figure(figsize=(12,7))\n",
    "\n",
    "for pais in paises:\n",
    "    \n",
    "    if pais == 'Mexico':\n",
    "        kwargs = {'alpha':1.0, 'linewidth':3.0}\n",
    "    else:\n",
    "        kwargs = {'alpha':0.4, 'linewidth':1.0}\n",
    "    \n",
    "    fechas = [dict_fechas[i] for i in range(len(covid_global.columns))]\n",
    "    casos = covid_global.loc[pais]\n",
    "    \n",
    "    plt.scatter(fechas, casos, s = 8, label = '', **kwargs)\n",
    "    plt.plot(fechas, casos, label = pais, **kwargs)\n",
    "    plt.xticks(rotation = 45)\n",
    "    plt.xticks(np.arange(0, len(fechas), step=3))\n",
    "\n",
    "    plt.xlabel(r'\\textbf{Fecha}')\n",
    "    plt.ylabel(r'\\textbf{Número de casos (logscale)}')\n",
    "\n",
    "plt.yscale('log')\n",
    "plt.legend(bbox_to_anchor=(1.2, 1.01), loc='upper right', ncol=1)\n",
    "plt.grid()\n",
    "plt.show()"
   ]
  },
  {
   "cell_type": "markdown",
   "metadata": {},
   "source": [
    "# Punto 2"
   ]
  },
  {
   "cell_type": "markdown",
   "metadata": {},
   "source": [
    "Ahora para hacer el modelo tenemos que \n",
    "\n",
    "$$ I_{n+1} = (E+1)I_{n}, $$\n",
    "\n",
    "donde se cumple que \n",
    "\n",
    "- Se cumple que $E + 1 \\geq 1$.\n",
    "- Cuando $E = 0$ se tiene que $I_{n+1} = I_{n}$ por lo que no habrá incremento en el día siguiente.\n",
    "- Cuando $E = 1$ se tiene que $I_{n+1} = 2I_{n}$ por lo que el incremento será del doble al día siguiente.\n",
    "- Se puede ver que $(E + 1) = \\frac{I_{n+1}}{I_{n}}$, por lo tanto, si tenemos información de $I_{n}$ e $I_{n+1}$ entonces es posible conocer el valor de $(E + 1)$ para el día $n + 1$.\n",
    "\n",
    "Para calcular $E+1$ tomamos un promedio de los distintos $\\frac{I_{n+1}}{I_{n}}$ empezando por el $n$ tal que $I_{n} \\geq 20$."
   ]
  },
  {
   "cell_type": "code",
   "execution_count": null,
   "metadata": {},
   "outputs": [],
   "source": [
    "def fit_and_predict(data, pais = 'Mexico', umbral = 50, adelante = 0):\n",
    "    \"\"\"\n",
    "    Esta función ajusta los datos al modelo I_(n+1) = (E+1)I_n.\n",
    "    \n",
    "    data: pandas.DataFrame, arreglo con los datos a ajustar.\n",
    "    pais: str, opcional, país al cuál queremos ajustar sus datos, default: 'Mexico'.\n",
    "    umbral: int, opcional, número de casos a partir del cual empezaremos a calcular\n",
    "            (E+1), default: 50.\n",
    "    adelante: int, opcional, número de días hacia adelante que queremos predecir a \n",
    "              partir del último día, default: 0.\n",
    "              \n",
    "    Returns: inicio: int, día en el que hubo más de 'umbral' pacientes confirmados.\n",
    "             fechas, data.loc['Mexico']: fechas y casos reales .\n",
    "             fechas_pred, ys_pred: casos predichos con el modelo y sus respectivas fechas.\n",
    "    \"\"\"\n",
    "    \n",
    "    fin = len(data.columns)\n",
    "    \n",
    "    ys = data.loc[pais]\n",
    "    \n",
    "    # Encontramos el día en que hubo más de 20 pacientes confirmados\n",
    "    inicio = 0\n",
    "    while ys[inicio] < umbral:\n",
    "        inicio = inicio+1\n",
    "           \n",
    "    es = [ys[i]/ys[i-1] for i in range(inicio,fin) if ys[i-1] != 0]\n",
    "    \n",
    "    e_1 = np.mean(es)\n",
    "    \n",
    "    print('E+1 = {:.3f}'.format(e_1))\n",
    "    \n",
    "    xs_pred = np.array([i for i in range(inicio, fin + adelante)])\n",
    "    ys_pred = [ys[inicio]*(e_1)**(i-inicio) for i in range(inicio, fin+adelante)]\n",
    "    \n",
    "    fechas = [dict_fechas[i] for i in range(len(data.columns))]\n",
    "    fechas_pred = [dict_fechas[x] for x in xs_pred]\n",
    "       \n",
    "    return inicio, fechas, data.loc[pais], fechas_pred, ys_pred"
   ]
  },
  {
   "cell_type": "code",
   "execution_count": null,
   "metadata": {},
   "outputs": [],
   "source": [
    "inicio, xs, ys, xs_pred, ys_pred = fit_and_predict(covid_global, umbral = 50, adelante = 2)"
   ]
  },
  {
   "cell_type": "code",
   "execution_count": null,
   "metadata": {},
   "outputs": [],
   "source": [
    "plt.figure(figsize=(12,7))\n",
    "\n",
    "plt.scatter(xs, ys, s = 8, label = '')\n",
    "plt.plot(xs, ys, label = 'Casos')\n",
    "plt.plot(xs_pred, ys_pred, label = 'Predicción')\n",
    "\n",
    "plt.xticks(rotation=45)\n",
    "plt.xticks(np.arange(0, len(xs_pred) + inicio, step=3))\n",
    "\n",
    "plt.grid()\n",
    "plt.legend()\n",
    "\n",
    "plt.xlabel(r'\\textbf{Fecha}')\n",
    "plt.ylabel(r'\\textbf{Número de casos}')\n",
    "plt.title(r'\\textbf{Casos confirmados de COVID19 en México}')\n",
    "\n",
    "plt.show()"
   ]
  },
  {
   "cell_type": "markdown",
   "metadata": {},
   "source": [
    "Jugando con los valores del umbral (a partir de cuántos casos el modelo se ajusta mejor) con alrededor de 50 parece ser lo mejor, así, obtenemos que $E+1 = 1.199$, de modo que de un día al otro esperamos que haya 1.199 de veces nuevos casos. Además, al 8 de abril predecimos que habrá 4092 casos. Sin embargo, no se ajusta tan bien, tratemos de usar una función exponencial más general, la cuál es\n",
    "\n",
    "$$ f(x | a,b,c) = ba^{x} + c. $$\n",
    "\n",
    "Entonces tratemos de ajustar los datos a\n",
    "\n",
    "$$ f(x | a,b,c) = e^{ax + b} + c, $$ \n",
    "\n",
    "recordemos que $a^{x} = e^{x\\log a} \\ (a > 0)$, de modo que nuestro modelo es equivalente a\n",
    "\n",
    "$$ \\begin{align*}\n",
    "f(x | a,b,c) &= e^{ax + b} + c\\\\ \n",
    "&= e^{b}e^{ax} + c \\\\\n",
    "&= b'e^{x\\log a'} + c \\quad \\text{donde } \\log a' = a, \\ b' = e^{b} \\\\\n",
    "&= b' a'^{x} + c,\n",
    "\\end{align*} $$\n",
    "\n",
    "que es lo que queremos (daba valores extraños al ajustar $b' a'^{x} + c$, al ponerla como $e^{ax + b} + c$ salía bien)."
   ]
  },
  {
   "cell_type": "code",
   "execution_count": null,
   "metadata": {},
   "outputs": [],
   "source": [
    "def func(x, a, b, c):\n",
    "    \"\"\"\n",
    "    Función exponencial a ajustarse.\n",
    "    \"\"\"\n",
    "    return np.exp(a*x + b) + c"
   ]
  },
  {
   "cell_type": "code",
   "execution_count": null,
   "metadata": {},
   "outputs": [],
   "source": [
    "def fit_and_predict_exp(data, pais = 'Mexico', inicio = 0, adelante = 0):\n",
    "    \"\"\"\n",
    "    Esta función ajusta los datos al modelo f(x | a,b,c) = ba^{x} + c.\n",
    "    \n",
    "    data: pandas.DataFrame, arreglo con los datos a ajustar.\n",
    "    pais: str, opcional, país al cuál queremos ajustar sus datos, default: 'Mexico'.\n",
    "    umbral: int, opcional, número de casos a partir del cual empezaremos a calcular\n",
    "            (E+1), default: 50.\n",
    "    adelante: int, opcional, número de días hacia adelante que queremos predecir a \n",
    "              partir del último día, default: 0.\n",
    "              \n",
    "    Returns: inicio: int, día en el que hubo más de 'umbral' pacientes confirmados.\n",
    "             fechas, data.loc['Mexico']: fechas y casos reales .\n",
    "             fechas_pred, ys_pred: casos predichos con el modelo y sus respectivas fechas.\n",
    "    \"\"\"\n",
    "    \n",
    "    \n",
    "    fin = len(data.columns)\n",
    "    \n",
    "    xs = [i for i in range(inicio,fin)]\n",
    "    ys = data.loc[pais][inicio:fin]\n",
    "    \n",
    "    popt, pcov = curve_fit(func, xs, ys)\n",
    "    a,b,c = popt\n",
    "    \n",
    "    print('a = {:.3f}, b = {:.3f}, c = {:.3f}'.format(a,b,c))\n",
    "    \n",
    "    xs_pred = np.array([i for i in range(inicio, fin + adelante)])\n",
    "    ys_pred = func(xs_pred, a,b,c)\n",
    "    \n",
    "    fechas = [dict_fechas[i] for i in range(len(data.columns))]\n",
    "    fechas_pred = [dict_fechas[x] for x in xs_pred]\n",
    "    \n",
    "    return fechas, data.loc[pais], fechas_pred, ys_pred"
   ]
  },
  {
   "cell_type": "code",
   "execution_count": null,
   "metadata": {},
   "outputs": [],
   "source": [
    "inicio = 0\n",
    "adelante = 2 # tratemos de predecir 2 días adelante\n",
    "\n",
    "xs, ys, xs_pred, ys_pred = fit_and_predict_exp(covid_global, pais = 'US', inicio = inicio, adelante = adelante)"
   ]
  },
  {
   "cell_type": "code",
   "execution_count": null,
   "metadata": {
    "scrolled": true
   },
   "outputs": [],
   "source": [
    "plt.figure(figsize=(12,7))\n",
    "\n",
    "plt.scatter(xs, ys, s = 8, label = '')\n",
    "plt.plot(xs, ys, label = 'Casos')\n",
    "plt.plot(xs_pred, ys_pred, label = 'Predicción')\n",
    "\n",
    "plt.xticks(rotation=45)\n",
    "plt.xticks(np.arange(0, len(xs_pred) + inicio, step=3))\n",
    "\n",
    "plt.grid()\n",
    "plt.legend()\n",
    "\n",
    "plt.xlabel(r'\\textbf{Fecha}')\n",
    "plt.ylabel(r'\\textbf{Número de casos}')\n",
    "plt.title(r'\\textbf{Casos confirmados de COVID19 en México}')\n",
    "\n",
    "plt.show()"
   ]
  },
  {
   "cell_type": "markdown",
   "metadata": {},
   "source": [
    "Así se ajusta mucho mejor, además, predecimos que para el 8 de abril habrá 3252 casos."
   ]
  },
  {
   "cell_type": "markdown",
   "metadata": {},
   "source": [
    "# Mapa"
   ]
  },
  {
   "cell_type": "markdown",
   "metadata": {},
   "source": [
    "Ahora hagamos un mapa (estoy aprendiendo a usar la biblioteca **folium** porque la necesito para mi proyecto) de cómo se va propagando el virus en el mundo en las últimas semanas."
   ]
  },
  {
   "cell_type": "code",
   "execution_count": null,
   "metadata": {},
   "outputs": [],
   "source": [
    "import folium\n",
    "from folium.plugins import TimeSliderChoropleth\n",
    "from folium.plugins import MousePosition\n",
    "import os\n",
    "import geojson"
   ]
  },
  {
   "cell_type": "markdown",
   "metadata": {},
   "source": [
    "## Estandarizar nombres"
   ]
  },
  {
   "cell_type": "markdown",
   "metadata": {},
   "source": [
    "Los nombres de algunos países en el geojson que uso para hacer el mapa y el del dataset del COVID19 no coinciden, por lo que hay que hacer que coincidan, lo cual hago con un diccionario."
   ]
  },
  {
   "cell_type": "code",
   "execution_count": null,
   "metadata": {},
   "outputs": [],
   "source": [
    "dir_geojson_to_covid = {'Bahamas':'The Bahamas', \n",
    "                       'Burma':'Myanmar', \n",
    "                       'Cabo Verde':'Cape Verde',\n",
    "                       'Congo (Brazzaville)':'Republic of Congo',\n",
    "                       'Congo (Kinshasa)':'Democratic Republic of the Congo',\n",
    "                       \"Cote d'Ivoire\":'Ivory Coast',\n",
    "                       'Czechia':'Czech Republic',\n",
    "                       'Eswatini':'Swaziland',\n",
    "                       'Guinea-Bissau':'Guinea Bissau',\n",
    "                       'Holy See':'Vatican',\n",
    "                       'Korea, South':'South Korea',\n",
    "                       'North Macedonia':'Macedonia',\n",
    "                       'Serbia':'Republic of Serbia',\n",
    "                       'Taiwan*':'Taiwan',\n",
    "                       'Tanzania':'United Republic of Tanzania',\n",
    "                       'Timor-Leste':'East Timor',\n",
    "                       'US':'United States of America',\n",
    "                       'West Bank and Gaza':'Palestine'}"
   ]
  },
  {
   "cell_type": "markdown",
   "metadata": {},
   "source": [
    "También hay datos de dos cruceros que tenían personas afectadas, pero los quitaré porque no son países."
   ]
  },
  {
   "cell_type": "code",
   "execution_count": null,
   "metadata": {},
   "outputs": [],
   "source": [
    "covid_global.drop(['Diamond Princess','MS Zaandam'], inplace = True)\n",
    "covid_global = covid_global.reset_index()"
   ]
  },
  {
   "cell_type": "code",
   "execution_count": null,
   "metadata": {},
   "outputs": [],
   "source": [
    "def same_name(x):\n",
    "    if x in dir_geojson_to_covid.keys():\n",
    "        return dir_geojson_to_covid[x]\n",
    "    else:\n",
    "        return x"
   ]
  },
  {
   "cell_type": "code",
   "execution_count": null,
   "metadata": {},
   "outputs": [],
   "source": [
    "covid_global['Country/Region'] = covid_global['Country/Region'].apply(same_name)"
   ]
  },
  {
   "cell_type": "code",
   "execution_count": null,
   "metadata": {},
   "outputs": [],
   "source": [
    "covid_global = covid_global.set_index('Country/Region')\n",
    "covid_global.head()"
   ]
  },
  {
   "cell_type": "code",
   "execution_count": null,
   "metadata": {},
   "outputs": [],
   "source": [
    "n = len(covid_global.columns)\n",
    "\n",
    "datetime_index = pd.date_range(start='2020-01-22', periods=n, freq = 'D')\n",
    "dt_index_epochs = datetime_index.astype(np.int64) // 10**9\n",
    "dt_index = dt_index_epochs.astype('U10')"
   ]
  },
  {
   "cell_type": "markdown",
   "metadata": {},
   "source": [
    "Leemos los datos del geojson, que tiene las fronteras de todos los países del mundo"
   ]
  },
  {
   "cell_type": "code",
   "execution_count": null,
   "metadata": {},
   "outputs": [],
   "source": [
    "import geopandas as gpd\n",
    "\n",
    "gdf = gpd.read_file('https://raw.githubusercontent.com/datasets/geo-countries/master/data/countries.geojson')\n",
    "gdf.head()"
   ]
  },
  {
   "cell_type": "markdown",
   "metadata": {},
   "source": [
    "También necesitamos un mapa de colores, lo hago asimétrico debido que si lo hago simétrico sólo se notan los países con mayor número de casos (China, US, Italia, etc) y los demás países parecen no estar afectados, lo cual no es cierto."
   ]
  },
  {
   "cell_type": "code",
   "execution_count": null,
   "metadata": {},
   "outputs": [],
   "source": [
    "import branca.colormap as cm\n",
    "\n",
    "hoy = covid_global.columns[-1]\n",
    "\n",
    "colormap = cm.LinearColormap(colors = ['#12C600', '#DFE600', '#F8900B', '#E90000', '#E90000'],\n",
    "                             index = [0, 2000, 50000, 100000, 300000],\n",
    "                             vmin = 0, vmax = covid_global[hoy].max())\n",
    "\n",
    "colormap"
   ]
  },
  {
   "cell_type": "code",
   "execution_count": null,
   "metadata": {},
   "outputs": [],
   "source": [
    "dict_country = dict(zip(gdf.index, gdf['ADMIN']))"
   ]
  },
  {
   "cell_type": "code",
   "execution_count": null,
   "metadata": {},
   "outputs": [],
   "source": [
    "n = len(covid_global.columns)\n",
    "\n",
    "styledata = {}\n",
    "\n",
    "for country in gdf.index:\n",
    "    \n",
    "    if dict_country[country] in covid_global.index:\n",
    "        casos = covid_global.loc[dict_country[country]]\n",
    "        colores = [colormap(x) for x in casos]\n",
    "    else:\n",
    "        # A los que no tienen información les pongo negro de color\n",
    "        colores = ['000000' for _ in range(n)]        \n",
    "    \n",
    "    df = pd.DataFrame(\n",
    "        {'color': colores,\n",
    "         'opacity': np.ones(n)},\n",
    "        index=dt_index\n",
    "    )\n",
    "    styledata[country] = df"
   ]
  },
  {
   "cell_type": "code",
   "execution_count": null,
   "metadata": {},
   "outputs": [],
   "source": [
    "styledict = {\n",
    "    str(country): data.to_dict(orient='index') for\n",
    "    country, data in styledata.items()\n",
    "}"
   ]
  },
  {
   "cell_type": "markdown",
   "metadata": {},
   "source": [
    "En el siguiente mapa se muestra cómo va evolucionando la propagación del virus, empieza en China y luego se propaga a Europa, para después propagarse a el resto del mundo (de los países en negro no hay información). El mapa se ve mejor en el archivo 'Mapa/TimeSliderChoropleth.html'."
   ]
  },
  {
   "cell_type": "markdown",
   "metadata": {},
   "source": [
    "**Quitar los comentarios para hacer el mapa (el mapa pesa como 20 MB y no me dejaba subirlo a la plataforma.)**"
   ]
  },
  {
   "cell_type": "code",
   "execution_count": null,
   "metadata": {
    "scrolled": false
   },
   "outputs": [],
   "source": [
    "# m = folium.Map([0, 0], tiles='OpenStreetMap', zoom_start=2)\n",
    "\n",
    "# MousePosition().add_to(m)\n",
    "\n",
    "# g = TimeSliderChoropleth(\n",
    "#     gdf.to_json(),\n",
    "#     styledict=styledict,\n",
    "#     overlay = False,\n",
    "#     control = False, \n",
    "#     show = False\n",
    "# ).add_to(m)\n",
    "\n",
    "# colormap.caption = 'Casos confirmados'\n",
    "# colormap.add_to(m)\n",
    "\n",
    "# m.save(os.path.join('Mapa', 'TimeSliderChoropleth.html'))\n",
    "\n",
    "# m"
   ]
  },
  {
   "cell_type": "code",
   "execution_count": null,
   "metadata": {},
   "outputs": [],
   "source": [
    "# !jt -r\n",
    "# !jt -t chesterish -T -N -kl"
   ]
  }
 ],
 "metadata": {
  "kernelspec": {
   "display_name": "Python 3",
   "language": "python",
   "name": "python3"
  },
  "language_info": {
   "codemirror_mode": {
    "name": "ipython",
    "version": 3
   },
   "file_extension": ".py",
   "mimetype": "text/x-python",
   "name": "python",
   "nbconvert_exporter": "python",
   "pygments_lexer": "ipython3",
   "version": "3.7.6"
  }
 },
 "nbformat": 4,
 "nbformat_minor": 2
}
