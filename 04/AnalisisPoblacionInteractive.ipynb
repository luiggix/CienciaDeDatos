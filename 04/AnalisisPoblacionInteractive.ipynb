{
 "cells": [
  {
   "cell_type": "markdown",
   "metadata": {},
   "source": [
    "# Práctica 4: Análisis de la población mundial - Interactivo\n",
    "\n",
    "**Módulo 14: Storytelling en ciencia de datos**\n",
    "\n",
    "**Diplomado en Ciencia de Datos**\n",
    "\n",
    "**DGTIC, Universidad Nacional Autónoma de México**\n",
    "\n",
    "This tutorial by Luis M. de la Cruz Salas is licensed under <a href=\"https://creativecommons.org/licenses/by-nc-nd/4.0?ref=chooser-v1\">Attribution-NonCommercial-NoDerivatives 4.0 International</a>"
   ]
  },
  {
   "cell_type": "markdown",
   "metadata": {},
   "source": [
    "## Importar las bibliotecas\n",
    "Incluir las bibliotecas necesarias para la lectura de datos, para la visualización y para crear widgets."
   ]
  },
  {
   "cell_type": "code",
   "execution_count": null,
   "metadata": {},
   "outputs": [],
   "source": [
    "import numpy as np\n",
    "import matplotlib.pyplot as plt\n",
    "import matplotlib.colors as mcolors\n",
    "import pandas as pd\n",
    "from utils import maxminTicks, inicializaGrafica, graficaTFR, graficaTFR_Pais\n",
    "\n",
    "import ipywidgets as widgets"
   ]
  },
  {
   "cell_type": "markdown",
   "metadata": {},
   "source": [
    "## Lectura del archivo"
   ]
  },
  {
   "cell_type": "code",
   "execution_count": null,
   "metadata": {},
   "outputs": [],
   "source": [
    "#\n",
    "# Obtenemos la información, que es la misma de la práctica 1.\n",
    "#\n",
    "TFR = pd.read_csv('../Datos/UNdata_Export_20211229_175420412.zip')\n",
    "#\n",
    "# Se agrupa por país \n",
    "#\n",
    "paises = TFR.groupby('Country or Area')\n",
    "#\n",
    "# Calculamos el máximo en el eje `y` para definir los `yticks`.\n",
    "#\n",
    "p_max, y_max, p_min, y_min, yticks = maxminTicks(TFR)\n",
    "print('Máximo = {}, \\t País : {}'.format(y_max, p_max))\n",
    "print('Mínimo = {}, \\t País : {}'.format(y_min, p_min))\n",
    "print('yticks : {}'.format(yticks))\n",
    "#\n",
    "# Definimos un conjunto de países a ser graficados y sus colores correspondientes. \n",
    "# \n",
    "paises_colores = {\n",
    "    p_max                      : 'red',      \n",
    "    'United States of America' : 'mediumblue',\n",
    "    'Japan'                    : mcolors.TABLEAU_COLORS['tab:green'],\n",
    "    'Germany'                  : 'maroon',\n",
    "    p_min                      : '#0099FF',\n",
    "    'Egypt'                    : 'darkorange',\n",
    "    'Argentina'                : 'darkviolet',\n",
    "    'Nigeria'                  : 'forestgreen',\n",
    "    'World'                    : mcolors.BASE_COLORS['k']\n",
    "}"
   ]
  },
  {
   "cell_type": "code",
   "execution_count": null,
   "metadata": {},
   "outputs": [],
   "source": [
    "# Definimos una función, la cual vamos a usar para generar widgets.\n",
    "def vis(y_max, yticks, paises, p):\n",
    "    inicializaGrafica(y_max, yticks)\n",
    "    graficaTFR(paises, {'lw':0.5, 'c':'lightgrey'})\n",
    "    graficaTFR_Pais(paises, p)"
   ]
  },
  {
   "cell_type": "code",
   "execution_count": null,
   "metadata": {},
   "outputs": [],
   "source": [
    "# Esta función se puede usar de la siguiente manera\n",
    "vis(y_max, yticks, paises, 'Yemen')"
   ]
  },
  {
   "cell_type": "code",
   "execution_count": null,
   "metadata": {},
   "outputs": [],
   "source": [
    "# Para crear un widget de manera simple hacemos lo siguiente\n",
    "widgets.interact(vis,\n",
    "                 y_max = widgets.fixed(y_max), \n",
    "                 yticks = widgets.fixed(yticks), \n",
    "                 paises = widgets.fixed(paises),\n",
    "                 p = list(paises_colores.keys())\n",
    "                )"
   ]
  },
  {
   "cell_type": "code",
   "execution_count": null,
   "metadata": {},
   "outputs": [],
   "source": [
    "# Se puede personalizar un poco\n",
    "widgets.interact(vis,\n",
    "                 y_max = widgets.fixed(y_max), \n",
    "                 yticks = widgets.fixed(yticks), \n",
    "                 paises = widgets.fixed(paises),\n",
    "                 p = widgets.Dropdown(options=list(paises_colores.keys()),\n",
    "                                      value='Japan',\n",
    "                                      description='Elige un país',)\n",
    "                )"
   ]
  },
  {
   "cell_type": "code",
   "execution_count": null,
   "metadata": {},
   "outputs": [],
   "source": []
  }
 ],
 "metadata": {
  "kernelspec": {
   "display_name": "Python 3",
   "language": "python",
   "name": "python3"
  },
  "language_info": {
   "codemirror_mode": {
    "name": "ipython",
    "version": 3
   },
   "file_extension": ".py",
   "mimetype": "text/x-python",
   "name": "python",
   "nbconvert_exporter": "python",
   "pygments_lexer": "ipython3",
   "version": "3.8.8"
  }
 },
 "nbformat": 4,
 "nbformat_minor": 4
}
