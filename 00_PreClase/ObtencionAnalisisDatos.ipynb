{
 "cells": [
  {
   "cell_type": "markdown",
   "id": "414a3922-c65c-4f5b-8708-534cd6d18a7d",
   "metadata": {},
   "source": [
    "# Obtención, análisis y visualización de datos\n",
    "\n",
    "**Módulo 14: Storytelling en ciencia de datos**\n",
    "\n",
    "**Diplomado en Ciencia de Datos**\n",
    "\n",
    "**DGTIC, Universidad Nacional Autónoma de México**\n",
    "\n",
    "This tutorial by Luis M. de la Cruz Salas is licensed under <a href=\"https://creativecommons.org/licenses/by-nc-nd/4.0?ref=chooser-v1\">Attribution-NonCommercial-NoDerivatives 4.0 International</a>"
   ]
  },
  {
   "cell_type": "markdown",
   "id": "5aaba7f7-c578-4404-bec8-5b2e7662e5c0",
   "metadata": {},
   "source": [
    "## Objetivo\n",
    "Obtener un conjunto de datos de UNdata y realizar una práctica de visualización usando las bibliotecas de `maplotlib` y `pandas`."
   ]
  },
  {
   "cell_type": "markdown",
   "id": "e81739ac-fe28-4d8e-bc27-2df39199b628",
   "metadata": {},
   "source": [
    "## Obtención de un conjunto de datos.\n",
    "\n",
    "[UNdata](http://data.un.org) es un servicio de datos basado en web para la comunidad global de usuarios. Pone las bases de datos estadísticas internacionales al alcance de los usuarios a través de un único punto de entrada. Los usuarios pueden buscar y descargar una variedad de recursos estadísticos compilados por el sistema estadístico de las Naciones Unidas (ONU) y otras agencias internacionales. Las numerosas bases de datos o tablas conocidas colectivamente como *datamarts* contienen más de 60 millones de puntos de datos y cubren una amplia gama de temas estadísticos, incluidos:\n",
    "<font color=\"LimeGreen\">agricultura</font>, <font color=\"Crimson\">delincuencia</font>, <font color=\"DeepPink\">comunicación</font>, <font color=\"BlueViolet\">asistencia para el desarrollo</font>, <font color=\"Blue\">educación</font>, <font color=\"Brown\">energía</font>, <font color=\"DarkSlateGray\">medio ambiente</font>, <font color=\"OrangeRed\">finanzas</font>, <font color=\"Fuchsia\">género</font>, <font color=\"DarkOrange\">salud</font>, <font color=\"YellowGreen\">mercado laboral</font>, <font color=\"Black\">manufactura</font>, <font color=\"DarkRed\">cuentas nacionales</font>, <font color=\"RebeccaPurple\">población y migración</font>, <font color=\"Indigo\">ciencia y tecnología</font>, <font color=\"Green\">turismo</font>, <font color=\"OrangeRed\">transporte y comercio.</font>"
   ]
  },
  {
   "cell_type": "markdown",
   "id": "4949fc30-ccbe-43a2-92ca-5e3d01b55674",
   "metadata": {},
   "source": [
    "\n",
    "Al entrar al sitio de [UNdata](http://data.un.org) veremos lo siguiente:\n",
    "\n",
    "<img src=\"../Figuras/undata01.png\" width=\"500\">"
   ]
  },
  {
   "cell_type": "markdown",
   "id": "bb6fe3fa-5405-4f72-a4fb-848054fa4014",
   "metadata": {},
   "source": [
    "En el espacio de texto vamos a teclear 'measles' y luego el botón de *search* para hacer una búsqueda de conjuntos de datos que tienen que ver con sarampión. Obtendremos algo similar a lo siguiente:\n",
    "\n",
    "<img src=\"../Figuras/undata02.png\" width=\"500\">"
   ]
  },
  {
   "cell_type": "markdown",
   "id": "6986de7e-d1df-4293-830a-ddf4df27cb0e",
   "metadata": {},
   "source": [
    "Vamos a elegir el primer resultado (Measles - number of reported cases). Obtendremos lo siguiente:\n",
    "\n",
    "<img src=\"../Figuras/undata03.png\" width=\"500\">"
   ]
  },
  {
   "cell_type": "markdown",
   "id": "17a4f22f-3944-4e2c-a550-594e3cf7e3db",
   "metadata": {},
   "source": [
    "Seleccionamos todos los años (2012, 2011, 2010 y 2009). Posteriomente, hacemos clic en *Download* para bajar los datos como se muestra en la siguiente figura:\n",
    "\n",
    "<img src=\"../Figuras/undata04.png\" width=\"500\">\n",
    "\n",
    "Elegimos el formato CSV. El archivo descargado tendrá un nombre similar a `UNdata_Export_20211228_203459765.zip`"
   ]
  },
  {
   "cell_type": "markdown",
   "id": "a9b534e2-41ba-4571-bb61-0ab90dca75be",
   "metadata": {},
   "source": [
    "## Lectura del conjunto de datos\n",
    "\n",
    "Lo primero es importar Pandas y Matplotlib:"
   ]
  },
  {
   "cell_type": "code",
   "execution_count": null,
   "id": "4d7d3e89-a8b5-4cab-8b09-abda66cf1dbf",
   "metadata": {},
   "outputs": [],
   "source": [
    "#import numpy as np\n",
    "import matplotlib.pyplot as plt\n",
    "import pandas as pd"
   ]
  },
  {
   "cell_type": "markdown",
   "id": "6e1be12d-fc7c-490d-973a-8906571a24a6",
   "metadata": {},
   "source": [
    "Usaremos la biblioteca Pandas para leer el archivo CSV (comprimido) como sigue:"
   ]
  },
  {
   "cell_type": "code",
   "execution_count": null,
   "id": "76125520-d794-4ee2-99d8-768add6264a7",
   "metadata": {},
   "outputs": [],
   "source": [
    "# Lectura del archivo\n",
    "measles = pd.read_csv('../Datos/UNdata_Export_20211228_203459765.zip')"
   ]
  },
  {
   "cell_type": "markdown",
   "id": "5dfadb11-67cb-48a1-93b0-6653b78f719b",
   "metadata": {},
   "source": [
    "**Observación**: Usted debe verificar el nombre del archivo que descargó de UNdata y modificar la cadena del nombre en la celda de código anterior."
   ]
  },
  {
   "cell_type": "markdown",
   "id": "ab46d342-14c7-44fe-8101-fec44c31836c",
   "metadata": {},
   "source": [
    "## Análisis exploratorio del conjunto de datos"
   ]
  },
  {
   "cell_type": "markdown",
   "id": "6957692f-e992-492e-9d9a-1ee3b6e09947",
   "metadata": {},
   "source": [
    "### Despliegue del DataFrame\n",
    "\n",
    "La etiqueta `measles` hace referencia a un objeto de tipo *DataFrame*. El contenido de este objeto se puede analizar fácilmente como sigue: "
   ]
  },
  {
   "cell_type": "code",
   "execution_count": null,
   "id": "4b0ab8e5-4303-4b23-a903-8f5da1c5be92",
   "metadata": {},
   "outputs": [],
   "source": [
    "# Imprime información del DataFrame: renglón inicial y final\n",
    "measles.index"
   ]
  },
  {
   "cell_type": "code",
   "execution_count": null,
   "id": "ccde41fb-2249-4241-a511-8c408ebd33a5",
   "metadata": {},
   "outputs": [],
   "source": [
    "# Imprime el principio y final del DataFrame\n",
    "measles "
   ]
  },
  {
   "cell_type": "code",
   "execution_count": null,
   "id": "cb6e6847-144c-4db3-9f88-5456f22a06ae",
   "metadata": {},
   "outputs": [],
   "source": [
    "# Imprime los primeros renglones del DataFrame\n",
    "measles.head()"
   ]
  },
  {
   "cell_type": "code",
   "execution_count": null,
   "id": "90a5416c-6cfb-4df4-b500-6b37892cd406",
   "metadata": {},
   "outputs": [],
   "source": [
    "# Imprime los últimos renglones del DataFrame\n",
    "measles.tail()"
   ]
  },
  {
   "cell_type": "code",
   "execution_count": null,
   "id": "02e5228c-de1f-4773-8d9a-960e274590b2",
   "metadata": {},
   "outputs": [],
   "source": [
    "# Imprime los identificadores de cada columna del DataFrame\n",
    "measles.columns"
   ]
  },
  {
   "cell_type": "markdown",
   "id": "a7b79961-c623-49ea-9606-a13a6d8bf8d9",
   "metadata": {},
   "source": [
    "### Acceso a renglones con la función `iloc`"
   ]
  },
  {
   "cell_type": "code",
   "execution_count": null,
   "id": "3a430be6-77b9-47d2-9544-8e31e9964cfa",
   "metadata": {},
   "outputs": [],
   "source": [
    "# Imprime información del renglón 45\n",
    "measles.iloc[45]"
   ]
  },
  {
   "cell_type": "markdown",
   "id": "a5080248-7da6-49f2-9a34-3c941ccd77bc",
   "metadata": {},
   "source": [
    "La función iloc permite hacer operaciones de *slicing* sobre el DataFrame. Por ejemplo:"
   ]
  },
  {
   "cell_type": "code",
   "execution_count": null,
   "id": "342cca41-ff57-42e8-bc34-d761f36cb3f7",
   "metadata": {},
   "outputs": [],
   "source": [
    "measles.iloc[0,0] # Primer elemento del primer renglón"
   ]
  },
  {
   "cell_type": "code",
   "execution_count": null,
   "id": "d5a4ff53-d82c-4acc-ac94-c37562cb295a",
   "metadata": {},
   "outputs": [],
   "source": [
    "measles.iloc[:,0] # Todos los elementos de la primera columna"
   ]
  },
  {
   "cell_type": "code",
   "execution_count": null,
   "id": "76d9aef5-fc53-4325-80b6-99295d1590d8",
   "metadata": {},
   "outputs": [],
   "source": [
    "measles.iloc[:,0:3] # Acceso a las columnas 0, 1 y 2"
   ]
  },
  {
   "cell_type": "code",
   "execution_count": null,
   "id": "5f8b21a3-5223-4fc0-a147-fb68a62d94c4",
   "metadata": {},
   "outputs": [],
   "source": [
    "measles.iloc[[0,23,146]] # Los renglones 0, 23 y 146"
   ]
  },
  {
   "cell_type": "code",
   "execution_count": null,
   "id": "78c16eca-82dd-4234-9691-7f47d7c33dfb",
   "metadata": {},
   "outputs": [],
   "source": [
    "measles.iloc[:,[0,2]] # Las columnas 0 y 2"
   ]
  },
  {
   "cell_type": "markdown",
   "id": "7b191a05-31a3-439f-b104-647ef7554a6a",
   "metadata": {},
   "source": [
    "### Acceso a renglones con la función `loc`"
   ]
  },
  {
   "cell_type": "code",
   "execution_count": null,
   "id": "d0dea861-2c17-4629-8370-3da374caeff4",
   "metadata": {},
   "outputs": [],
   "source": [
    "measles.loc[:,'Country or Area'] # Se puede usar el identificador de la columna"
   ]
  },
  {
   "cell_type": "code",
   "execution_count": null,
   "id": "74257f20-6481-4fc4-a4eb-a8ddff54ce44",
   "metadata": {},
   "outputs": [],
   "source": [
    "measles.loc[:,['Country or Area', 'Value']] # Varias columnas"
   ]
  },
  {
   "cell_type": "code",
   "execution_count": null,
   "id": "67f56b34-43a7-449e-849d-9e86343784f6",
   "metadata": {},
   "outputs": [],
   "source": [
    "es_mexico = measles.loc[:,'Country or Area'] == 'Mexico' # Operaciones lógica\n",
    "es_mexico                                                # regresa una serie booleana"
   ]
  },
  {
   "cell_type": "code",
   "execution_count": null,
   "id": "9807e717-c237-4dc0-b427-d10f95ade284",
   "metadata": {},
   "outputs": [],
   "source": [
    "mexico = measles.loc[es_mexico] # Podemos usar la serie boolena para construir un DataFrame\n",
    "type(mexico)"
   ]
  },
  {
   "cell_type": "code",
   "execution_count": null,
   "id": "40eb8e53-4423-4002-a6a4-685d9f5e901f",
   "metadata": {},
   "outputs": [],
   "source": [
    "mexico # Contenido del nuevo DataFrame"
   ]
  },
  {
   "cell_type": "markdown",
   "id": "df474c23-0637-477c-9ceb-3d42a4399285",
   "metadata": {},
   "source": [
    "#### <font color=\"red\"> <strong>Ejercicio 1.</strong></font>\n",
    "Usando la función `loc` realice lo siguiente:\n",
    "1. Construya la serie booleana `es_2012` que filtre solo información para el año 2012.\n",
    "2. Usando la serie `es_2012` construya el DataFrame `solo_2012` con la información de 2012.\n",
    "3. Usando el DataFrame `solo_2012` construya la seria boolena `es_no_cero` para 'Value' > 0.\n",
    "4. Usando la serie `es_no_cero` construya el DataFrame `solo_2012_no_cero` que contenga información de 2012 con 'Value' > 0.\n",
    "\n",
    "El contenido del DataFrame `solo_2012_no_cero` debe ser como el que se muestra en la siguiente figura:\n",
    "\n",
    "<img src=\"../Figuras/solo_2012_no_cero.png\" width=\"500\">"
   ]
  },
  {
   "cell_type": "code",
   "execution_count": null,
   "id": "1c382139-aac0-455c-9821-94bd7ba341db",
   "metadata": {},
   "outputs": [],
   "source": []
  },
  {
   "cell_type": "markdown",
   "id": "04f0f15f-92af-41ac-a2b9-6068bcd70d17",
   "metadata": {},
   "source": [
    "### Agrupaciones usando `groupby`\n",
    "\n",
    "Dado que en este conjunto de datos se tiene información por país y por año, es conveniente realizar agrupaciones para un mejor manejo de los datos. Para ello hacemos lo siguiente:"
   ]
  },
  {
   "cell_type": "code",
   "execution_count": null,
   "id": "4e9feb07-3989-46a3-99c1-73aca2a84d57",
   "metadata": {},
   "outputs": [],
   "source": [
    "# Creamos la agrupación 'measles_paises' usando la columna que determina la región geográfica\n",
    "measles_paises = measles.groupby('Country or Area') \n",
    "type(measles_paises)"
   ]
  },
  {
   "cell_type": "markdown",
   "id": "9bd35a2d-98f2-421c-b97d-5b1fde88fed8",
   "metadata": {},
   "source": [
    "Como se puede observar, `measles_paises` no es un DataFrame, de tal manera que no es posible usar las funciones de exploración antes revisadas sobre ella. Una manera de explorar la información es convetir la agrupación en un DataFrame mediante un *casting* simple, veamos:"
   ]
  },
  {
   "cell_type": "code",
   "execution_count": null,
   "id": "eaadbbf2-a919-4f3e-9621-7b88c907e6ac",
   "metadata": {},
   "outputs": [],
   "source": [
    "# Conversión de la agrupación a un DataFrame\n",
    "measles_paises_df = pd.DataFrame(measles_paises)"
   ]
  },
  {
   "cell_type": "markdown",
   "id": "29a1dcf8-c4e0-4ba8-81ba-5ed75a84576b",
   "metadata": {},
   "source": [
    "Ahora es posible revisar la información sobre el DataFrame `measles_paises_df` recién creado usando lo que ya conocemos: "
   ]
  },
  {
   "cell_type": "code",
   "execution_count": null,
   "id": "721c7341-4e86-43a1-ac12-579b74a7084d",
   "metadata": {},
   "outputs": [],
   "source": [
    "measles_paises_df.index"
   ]
  },
  {
   "cell_type": "code",
   "execution_count": null,
   "id": "23f0f2b0-f3ca-4430-a1d7-9f6ec964c95a",
   "metadata": {},
   "outputs": [],
   "source": [
    "measles_paises_df.columns"
   ]
  },
  {
   "cell_type": "code",
   "execution_count": null,
   "id": "2dcd42ac-5806-4b2d-ab3b-9733ecec15fc",
   "metadata": {},
   "outputs": [],
   "source": [
    "measles_paises_df"
   ]
  },
  {
   "cell_type": "code",
   "execution_count": null,
   "id": "8f5e4838-f865-46d3-8092-df9a59e7e774",
   "metadata": {},
   "outputs": [],
   "source": [
    "measles_paises_df[0]"
   ]
  },
  {
   "cell_type": "code",
   "execution_count": null,
   "id": "8fe5290b-eaee-4e95-8b96-46201d75fda2",
   "metadata": {},
   "outputs": [],
   "source": [
    "measles_paises_df[measles_paises_df[0] == 'Mexico']"
   ]
  },
  {
   "cell_type": "code",
   "execution_count": null,
   "id": "bd911bba-5281-40dc-b36d-d57b57488a76",
   "metadata": {},
   "outputs": [],
   "source": [
    "measles_paises_df.iloc[109][1]"
   ]
  },
  {
   "cell_type": "markdown",
   "id": "186641f6-2c31-448d-a652-5073b2d1d2de",
   "metadata": {},
   "source": [
    "#### La función `describe`\n",
    "\n",
    "También es posible usar la función `describe` sobre la agrupación `measles_paises` para obtener información estadística:"
   ]
  },
  {
   "cell_type": "code",
   "execution_count": null,
   "id": "8fcf8644-0521-412a-a5f4-683ea3109675",
   "metadata": {},
   "outputs": [],
   "source": [
    "measles_paises.describe()"
   ]
  },
  {
   "cell_type": "markdown",
   "id": "ee03305e-f740-4de3-8ee0-15675953b963",
   "metadata": {},
   "source": [
    "#### La función `get_group`\n",
    "\n",
    "La ventaja de tener una agrupación por país es que es fácil obtener información de cada subgrupo, es decir, de cada país:"
   ]
  },
  {
   "cell_type": "code",
   "execution_count": null,
   "id": "82ad058d-b403-410a-991c-bffe05c876cc",
   "metadata": {},
   "outputs": [],
   "source": [
    "afg = measles_paises.get_group('Afghanistan') # Obtenemos la información de Afganistán.\n",
    "afg                                           # El resultado es un DataFrame con la información deseada"
   ]
  },
  {
   "cell_type": "code",
   "execution_count": null,
   "id": "e16a29fb-cceb-4a94-b5be-836a60f5cdf8",
   "metadata": {},
   "outputs": [],
   "source": [
    "afg.columns"
   ]
  },
  {
   "cell_type": "markdown",
   "id": "3d2fe884-ea5c-4a15-a258-3a2fe079d003",
   "metadata": {},
   "source": [
    "#### Graficación con la función `plot`\n",
    "\n",
    "Ya que tenemos la información de un país en un DataFrame, podemos usar la función `plot` para hacer unos primero gráficos:"
   ]
  },
  {
   "cell_type": "code",
   "execution_count": null,
   "id": "069fd9fd-b84a-4f27-a97a-092eb1c1f96c",
   "metadata": {},
   "outputs": [],
   "source": [
    "afg.plot()"
   ]
  },
  {
   "cell_type": "markdown",
   "id": "5cee2cb3-f54f-4dcb-925b-d588d33d5946",
   "metadata": {},
   "source": [
    "Muchos de los tipos de datos que ofrecen bibliotecas con Pandas, Xarray y otras, contienen una función `plot` que realiza gráficas de manera automática. Casi todas están basadas en Matplotlib. Cada una de esas herramientas tiene sus propias funcionalidades y parámentros que pueden modificarse para mejorar las gráficas resultantes. Por ejemplo:"
   ]
  },
  {
   "cell_type": "code",
   "execution_count": null,
   "id": "d7875d93-0403-4f06-99f4-46d64a0683c6",
   "metadata": {},
   "outputs": [],
   "source": [
    "afg.plot(x='Year(s)', y='Value')"
   ]
  },
  {
   "cell_type": "markdown",
   "id": "61c6ae9b-ddc4-4e2e-9637-e01591af022e",
   "metadata": {},
   "source": [
    "Es posible combinar esta función con las herramientas de Matplotlib, por ejemplo:"
   ]
  },
  {
   "cell_type": "code",
   "execution_count": null,
   "id": "f8af7cc0-4d69-405e-a61a-d64e8dcf58ff",
   "metadata": {},
   "outputs": [],
   "source": [
    "afg.plot(x='Year(s)', y='Value', marker='o')\n",
    "\n",
    "xticks = [2009, 2010, 2011, 2012]\n",
    "plt.xticks(ticks=xticks)\n",
    "plt.xlabel('Años')\n",
    "plt.ylabel('Número de casos')\n",
    "plt.suptitle('Número de casos con sarampión', y=1.0)\n",
    "plt.title('2009-2012')"
   ]
  },
  {
   "cell_type": "code",
   "execution_count": null,
   "id": "53671a46-9399-48c0-b686-f1bbc31f0419",
   "metadata": {},
   "outputs": [],
   "source": [
    "# Existen muchos tipos de gráficas:\n",
    "afg.plot.area(stacked=True, colormap='winter')"
   ]
  },
  {
   "cell_type": "markdown",
   "id": "b00e6597-2191-4047-bd53-b4bf7f33954e",
   "metadata": {},
   "source": [
    "## Visualización con `matplotlib`\n",
    "\n",
    "Para tener un mayor control, usaremos ahora Matplotlib para visualizar los datos de la agrupación `measles_paises`. La documentación más reciente de Matplotlib la puede encontrar [aquí](https://matplotlib.org/). Se recomienda revisar los [ejemplos](https://matplotlib.org/stable/plot_types/index.html) y las [cheatsheats](https://matplotlib.org/cheatsheets/). \n",
    "\n",
    "Primero vamos a obtener la información de otro país, en este caso de Yemen:"
   ]
  },
  {
   "cell_type": "code",
   "execution_count": null,
   "id": "ed0b2f16-c033-4df4-9126-a625773aa13d",
   "metadata": {},
   "outputs": [],
   "source": [
    "yem = measles_paises.get_group('Yemen')\n",
    "yem"
   ]
  },
  {
   "cell_type": "markdown",
   "id": "1a0eeb41-123a-4e42-93a6-56cca3c3ffb5",
   "metadata": {},
   "source": [
    "En la siguiente celda hacemos uso de Matplotlib para construir una gráfica de los dos países (analice con detalle los argumentos que se usan en cada función):"
   ]
  },
  {
   "cell_type": "code",
   "execution_count": null,
   "id": "d7e34744-44c5-4e68-8b04-0b719c7bd481",
   "metadata": {},
   "outputs": [],
   "source": [
    "# Definición de la figura (el canvas donde se hará todo el gráfico)\n",
    "fig = plt.figure(figsize=(10,5)) \n",
    "\n",
    "# Definimos colores para las curvas de cada país\n",
    "afg_color = 'blue'   \n",
    "yem_color = 'orange'\n",
    "\n",
    "# Graficamos dos curvas, una para cada país\n",
    "plt.plot(afg['Year(s)'], afg['Value'], lw=1.0, color=afg_color, marker='o')\n",
    "plt.plot(yem['Year(s)'], yem['Value'], lw=1.0, color=yem_color, marker='o') \n",
    "\n",
    "# Definimos los 'ticks' del eje horizontal (x)\n",
    "plt.xticks(ticks=xticks)\n",
    "\n",
    "# Definimos una rejilla para visualizar mejor los datos\n",
    "plt.grid(ls='--', lw=0.5) \n",
    "\n",
    "# Información adicional y títulos\n",
    "plt.title('Años: 2009-2012', loc='left', fontsize=10)\n",
    "plt.title('fuente: http://data.un.org', loc='right', fontstyle='italic', fontsize=10)\n",
    "plt.suptitle('Casos reportados de sarampión',y = 1.0, fontsize=14)\n",
    "\n",
    "# Muestra la gráfica (opcional en Jupyter Notebook)\n",
    "plt.show()"
   ]
  },
  {
   "cell_type": "markdown",
   "id": "99d71787-cd77-4a9c-a7c5-0b5e7f6b4a0d",
   "metadata": {},
   "source": [
    "Dado que ahora tenemos dos gráficas, sería conveniente identificar a qué país pertenece cada una. Esto se logra usando la función `legend`: "
   ]
  },
  {
   "cell_type": "code",
   "execution_count": null,
   "id": "00bb343d-37dd-4257-af4d-014bd64f69ea",
   "metadata": {},
   "outputs": [],
   "source": [
    "fig = plt.figure(figsize=(10,5)) \n",
    "\n",
    "afg_color = 'blue'   \n",
    "yem_color = 'orange'\n",
    "\n",
    "# Observe que se agrega el argumento 'label' para cada gráfica\n",
    "plt.plot(afg['Year(s)'], afg['Value'], lw=1.0, color=afg_color, marker='o', label='Afganistan')\n",
    "plt.plot(yem['Year(s)'], yem['Value'], lw=1.0, color=yem_color, marker='o', label='Yemen')\n",
    "\n",
    "plt.xticks(ticks=xticks)\n",
    "plt.grid(ls='--', lw=0.5) \n",
    "plt.title('Años: 2009-2012', loc='left', fontsize=10)\n",
    "plt.title('fuente: http://data.un.org', loc='right', fontstyle='italic', fontsize=10)\n",
    "plt.suptitle('Casos reportados de sarampión',y = 1.0, fontsize=14)\n",
    "\n",
    "# Agregamos las leyendas para identificar las curvas\n",
    "plt.legend()\n",
    "\n",
    "plt.show()"
   ]
  },
  {
   "cell_type": "markdown",
   "id": "a1c23570-e115-45ab-b037-d0c8ab6cf6a6",
   "metadata": {},
   "source": [
    "Un problema con este tipo de leyendas es que primero vemos los gráficos, identificamos los colores y las marcas; después buscamos la leyenda y relacionamos los colores y las marcas con los de las líneas para discernir con claridad la información. Esto implica mover la vista varias veces entre las líneas y la leyenda lo cual puede dificultar entender la información que se presenta y en ocasiones cansado cuando son muchas líneas. \n",
    "\n",
    "Una estrategia que es útil en algunos casos es poner etiquetas directamente sobre las líneas, eso evitará el movimiento de la vista entre leyanda y gráficos. Esto se puede hacer como sigue:"
   ]
  },
  {
   "cell_type": "code",
   "execution_count": null,
   "id": "62450e4f-b360-42b1-b07e-1604cd1d2603",
   "metadata": {},
   "outputs": [],
   "source": [
    "fig = plt.figure(figsize=(10,5)) \n",
    "\n",
    "afg_color = 'blue'   \n",
    "yem_color = 'orange'\n",
    "plt.plot(afg['Year(s)'], afg['Value'], lw=1.0, color=afg_color, marker='o')\n",
    "plt.plot(yem['Year(s)'], yem['Value'], lw=1.0, color=yem_color, marker='o') \n",
    "plt.xticks(ticks=xticks)\n",
    "plt.grid(ls='--', lw=0.5) \n",
    "plt.title('Años: 2009-2012', loc='left', fontsize=10)\n",
    "plt.title('fuente: http://data.un.org', loc='right', fontstyle='italic', fontsize=10)\n",
    "plt.suptitle('Casos reportados de sarampión',y = 1.0, fontsize=14)\n",
    "\n",
    "# Obtenemos el valor de los casos de cada país para el año 2012\n",
    "afg_val = afg['Value'].iloc[0] \n",
    "yem_val = yem['Value'].iloc[0]\n",
    "\n",
    "# Agregamos un texto al final de cada curva con la información necesaria para identificar a cada país.\n",
    "plt.text(x = 2012, y = afg_val, s = ' Afg {:5.0f}'.format(afg_val), color = afg_color, weight = 'bold')\n",
    "plt.text(x = 2012, y = yem_val, s = ' Yem {:5.0f}'.format(yem_val), color = yem_color, weight = 'bold')\n",
    "\n",
    "plt.show()"
   ]
  },
  {
   "cell_type": "markdown",
   "id": "27b5278e-209d-49fc-9edb-abe44c00d1fa",
   "metadata": {},
   "source": [
    "Cuando se observa esta última gráfica inmediatamente sabemos a que país corresponde cada línea y no se necesario hacer una búsqueda adicional en una leyenda. \n",
    "\n",
    "Finalmente, observamos que los textos se salen del recuadro de la gráfica. Observe también que las líneas de recuadro tienen mucho protagonismo y en realidad no aportan mucha información. Por esta razón es conveniente eliminarlas; esto se hace como sigue:"
   ]
  },
  {
   "cell_type": "code",
   "execution_count": null,
   "id": "e57c5bee-60dc-404e-852f-faeef27283a0",
   "metadata": {},
   "outputs": [],
   "source": [
    "fig = plt.figure(figsize=(10,5)) \n",
    "\n",
    "afg_color = 'blue'   \n",
    "yem_color = 'orange'\n",
    "plt.plot(afg['Year(s)'], afg['Value'], lw=1.0, color=afg_color, marker='o')\n",
    "plt.plot(yem['Year(s)'], yem['Value'], lw=1.0, color=yem_color, marker='o')\n",
    "\n",
    "# Ajustamos los límites del eje horizontal\n",
    "plt.xlim(2008.5,2012.5)     \n",
    "\n",
    "plt.xticks(ticks=xticks)\n",
    "plt.grid(ls='--', lw=0.5) \n",
    "plt.title('Años: 2009-2012', loc='left', fontsize=10)\n",
    "plt.title('fuente: http://data.un.org', loc='right', fontstyle='italic', fontsize=10)\n",
    "plt.suptitle('Casos reportados de sarampión',y = 1.0, fontsize=14)\n",
    "\n",
    "# Textos para las curvas\n",
    "afg_val = afg['Value'].iloc[0] \n",
    "yem_val = yem['Value'].iloc[0]\n",
    "plt.text(x = 2012, y = afg_val, s = ' Afg {:5.0f}'.format(afg_val), color = afg_color, weight = 'bold')\n",
    "plt.text(x = 2012, y = yem_val, s = ' Yem {:5.0f}'.format(yem_val), color = yem_color, weight = 'bold')\n",
    "\n",
    "# Ajuste de las líneas del recuadro de la gráfica (spines)\n",
    "ejes = plt.gca()\n",
    "ejes.spines['right'].set_visible(False)\n",
    "ejes.spines['top'].set_visible(False)\n",
    "ejes.spines['left'].set_visible(False)\n",
    "ejes.spines['bottom'].set_visible(False)\n",
    "\n",
    "# Se puede guardar la gráfica en PDF (por ejemplo)\n",
    "plt.savefig('dospaises.pdf')\n",
    "\n",
    "plt.show()"
   ]
  },
  {
   "cell_type": "markdown",
   "id": "92056170-205f-4c27-b9cb-f10c74131745",
   "metadata": {},
   "source": [
    "Esta gráfica es mucho más limpia, se entiende mejor y está lista para contar la historia de los casos reportados de sarampión en Afganistán y en Yemen. \n",
    "\n",
    "Observe que hemos agregado la función `savefig` que permite guardar la imagen en algún formato estándar, en este caso en PDF. Se pude usar .png, .jpg. .svg, .ps, aunque eso depende del *backend* que esté usando Matplotlib, véase [what is a backend?](https://matplotlib.org/2.0.2/faq/usage_faq.html#what-is-a-backend)"
   ]
  },
  {
   "cell_type": "markdown",
   "id": "dc1e1904-30d1-4c72-8724-7089e0dd02a8",
   "metadata": {},
   "source": [
    "#### <font color=\"red\"> <strong>Ejercicio 2.</strong></font>\n",
    "Agregue a la gráfica anterior los siguientes casos:\n",
    "1. México, \n",
    "2. Estados Unidos\n",
    "3. China. \n",
    "\n",
    "Observe como se mueven las escalas cuando se agrega cada uno de estos tres países y en algunos casos no se alcanza a distinguir toda la información presentada.\n",
    "\n",
    "Debería obtener gráficos como los siguientes:\n",
    "\n",
    " <table>\n",
    "  <tr>\n",
    "    <td><img src=\"../Figuras/afg_yem_mex.png\"></td>\n",
    "    <td><img src=\"../Figuras/afg_yem_mex_usa.png\"></td>\n",
    "    <td><img src=\"../Figuras/afg_yem_mex_usa_chn.png\"></td>\n",
    "  </tr>\n",
    "</table> \n",
    "\n",
    "**hint**: Primero obtenga la información de los países requeridos. Posteriormente copie el código de la celda que hace la gráfica de Afganistán y Yemen, y agregue lo necesario para dibujar cada país (la línea y el texto)."
   ]
  },
  {
   "cell_type": "code",
   "execution_count": null,
   "id": "7e981998-66fb-4bf1-96d5-7959a7a36470",
   "metadata": {},
   "outputs": [],
   "source": []
  },
  {
   "cell_type": "markdown",
   "id": "e827d996-8531-4ec3-83ff-86b99c081366",
   "metadata": {},
   "source": [
    "#### <font color=\"red\"> <strong>Ejercicio 3.</strong></font>\n",
    "\n",
    "Obtenga un conjunto de datos de [UNdata](http://data.un.org)  para alguno de los siguientes temas: <font color=\"LimeGreen\">agricultura</font>, <font color=\"Crimson\">delincuencia</font>, <font color=\"DeepPink\">comunicación</font>, <font color=\"BlueViolet\">asistencia para el desarrollo</font>, <font color=\"Blue\">educación</font>, <font color=\"Brown\">energía</font>, <font color=\"DarkSlateGray\">medio ambiente</font>, <font color=\"OrangeRed\">finanzas</font>, <font color=\"Fuchsia\">género</font>, <font color=\"DarkOrange\">salud</font>, <font color=\"YellowGreen\">mercado laboral</font>, <font color=\"Black\">manufactura</font>, <font color=\"DarkRed\">cuentas nacionales</font>, <font color=\"RebeccaPurple\">población y migración</font>, <font color=\"Indigo\">ciencia y tecnología</font>, <font color=\"Green\">turismo</font>, <font color=\"OrangeRed\">transporte y comercio.</font>. \n",
    "\n",
    "Realice un primer análisis exploratorio de los datos obtenidos y unos primeros gráficos como los realizados en esta práctica. Durante la clase sincrónica del 8 de Enero de 2022, en equipo decidirán cuál conjunto de datos son los que usarán para contar una historia; este será el proyecto del Módulo 14. Por lo anterior, es importante que tenga claro a qué se refieren los datos que obtuvo y la mejor forma de visualizarlos."
   ]
  },
  {
   "cell_type": "code",
   "execution_count": null,
   "id": "1419a02e-8609-435e-8ca8-d03f4545c104",
   "metadata": {},
   "outputs": [],
   "source": []
  }
 ],
 "metadata": {
  "kernelspec": {
   "display_name": "Python 3",
   "language": "python",
   "name": "python3"
  },
  "language_info": {
   "codemirror_mode": {
    "name": "ipython",
    "version": 3
   },
   "file_extension": ".py",
   "mimetype": "text/x-python",
   "name": "python",
   "nbconvert_exporter": "python",
   "pygments_lexer": "ipython3",
   "version": "3.8.8"
  }
 },
 "nbformat": 4,
 "nbformat_minor": 5
}
